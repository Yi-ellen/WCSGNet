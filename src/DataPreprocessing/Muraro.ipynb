{
 "cells": [
  {
   "cell_type": "markdown",
   "metadata": {},
   "source": [
    "\n",
    "|Data set |      Tissue    |cell type num| cell_num | gene_num | Protocol | Accession ID|\n",
    "|---------|----------------|-------------|----------|----------|----------|-------------|\n",
    "| Muraro | Human pancreas | 9 | 2122 | 18915 | CEL-Seq2 | GSE85241 |"
   ]
  },
  {
   "cell_type": "code",
   "execution_count": 1,
   "metadata": {},
   "outputs": [
    {
     "name": "stdout",
     "output_type": "stream",
     "text": [
      "          A1BG__chr19  A1CF__chr10  A2M-AS1__chr12  A2ML1__chr12  A2M__chr12\n",
      "D28.1_1      0.000000     6.071431             0.0           0.0    0.000000\n",
      "D28.1_2      0.000000     0.000000             0.0           0.0    5.049473\n",
      "D28.1_3      1.001958     2.007853             0.0           0.0    0.000000\n",
      "D28.1_4      1.001958     6.071431             0.0           0.0    0.000000\n",
      "D28.1_13     0.000000     0.000000             0.0           0.0    0.000000\n",
      "(2122, 18915)\n",
      "A1BG__chr19\n"
     ]
    }
   ],
   "source": [
    "import numpy as np\n",
    "import pandas as pd\n",
    "\n",
    "# Load the file \"Filtered_Muraro_HumanPancreas_data.csv\", using the first column as the index, which serves as unique cell identifiers.\n",
    "data_df = pd.read_csv('../../data/scRNAseq_Benchmark_datasets/Muraro/Filtered_Muraro_HumanPancreas_data.csv', index_col=0)\n",
    "print(data_df.iloc[:5, :5])\n",
    "print(data_df.shape)\n",
    "print(data_df.columns[0])"
   ]
  },
  {
   "cell_type": "code",
   "execution_count": 3,
   "metadata": {},
   "outputs": [
    {
     "name": "stdout",
     "output_type": "stream",
     "text": [
      "             x\n",
      "0        alpha\n",
      "1  endothelial\n",
      "2        delta\n",
      "3         beta\n",
      "4         duct\n",
      "(2122, 1)\n",
      "                    x\n",
      "D28.1_1         alpha\n",
      "D28.1_2   endothelial\n",
      "D28.1_3         delta\n",
      "D28.1_4          beta\n",
      "D28.1_13         duct\n"
     ]
    }
   ],
   "source": [
    "# Load cell type annotation data\n",
    "\n",
    "label_df = pd.read_csv('../../data/scRNAseq_Benchmark_datasets/Muraro/Labels.csv', header=0)\n",
    "print(label_df.iloc[:5,:])\n",
    "print(label_df.shape)\n",
    "label_df = label_df.set_index(data_df.index)\n",
    "print(label_df.iloc[:5,:])"
   ]
  },
  {
   "cell_type": "code",
   "execution_count": 5,
   "metadata": {},
   "outputs": [
    {
     "name": "stdout",
     "output_type": "stream",
     "text": [
      "alpha: 812\n",
      "beta: 448\n",
      "duct: 245\n",
      "acinar: 219\n",
      "delta: 193\n",
      "pp: 101\n",
      "mesenchymal: 80\n",
      "endothelial: 21\n",
      "epsilon: 3\n"
     ]
    }
   ],
   "source": [
    "# Calculate the number of cells for each cell type.\n",
    "cell_type_counts = label_df['x'].value_counts()\n",
    "for cell_type, count in cell_type_counts.items():\n",
    "    print(f\"{cell_type}: {count}\")\n"
   ]
  },
  {
   "cell_type": "code",
   "execution_count": 6,
   "metadata": {},
   "outputs": [
    {
     "name": "stdout",
     "output_type": "stream",
     "text": [
      "(2119, 18915)\n",
      "          A1BG__chr19  A1CF__chr10  A2M-AS1__chr12  A2ML1__chr12  A2M__chr12  \\\n",
      "D28.1_1      0.000000     6.071431             0.0           0.0    0.000000   \n",
      "D28.1_2      0.000000     0.000000             0.0           0.0    5.049473   \n",
      "D28.1_3      1.001958     2.007853             0.0           0.0    0.000000   \n",
      "D28.1_4      1.001958     6.071431             0.0           0.0    0.000000   \n",
      "D28.1_13     0.000000     0.000000             0.0           0.0    0.000000   \n",
      "\n",
      "          A4GALT__chr22  A4GNT__chr3  AAAS__chr12  AACSP1__chr5  AACS__chr12  \\\n",
      "D28.1_1        0.000000          0.0     1.001958           0.0     1.001958   \n",
      "D28.1_2        1.001958          0.0     0.000000           0.0     1.001958   \n",
      "D28.1_3        0.000000          0.0     0.000000           0.0     1.001958   \n",
      "D28.1_4        0.000000          0.0     1.001958           0.0     4.031579   \n",
      "D28.1_13       0.000000          0.0     0.000000           0.0     0.000000   \n",
      "\n",
      "          ...  ZWILCH__chr15  ZWINT__chr10  ZXDA__chrX  ZXDB__chrX  \\\n",
      "D28.1_1   ...       0.000000           0.0    0.000000    1.001958   \n",
      "D28.1_2   ...       0.000000           0.0    0.000000    1.001958   \n",
      "D28.1_3   ...       0.000000           0.0    1.001958    0.000000   \n",
      "D28.1_4   ...       0.000000           0.0    0.000000    2.007853   \n",
      "D28.1_13  ...       1.001958           0.0    0.000000    1.001958   \n",
      "\n",
      "          ZXDC__chr3  ZYG11A__chr1  ZYG11B__chr1  ZYX__chr7  ZZEF1__chr17  \\\n",
      "D28.1_1     5.049473      0.000000      2.007853   0.000000      0.000000   \n",
      "D28.1_2     9.162012      0.000000      6.071431   5.049473      4.031579   \n",
      "D28.1_3     1.001958      0.000000      1.001958   0.000000      1.001958   \n",
      "D28.1_4    10.200553      1.001958      6.071431   1.001958      3.017717   \n",
      "D28.1_13    2.007853      0.000000      0.000000   1.001958      1.001958   \n",
      "\n",
      "          ZZZ3__chr1  \n",
      "D28.1_1     0.000000  \n",
      "D28.1_2     1.001958  \n",
      "D28.1_3     0.000000  \n",
      "D28.1_4     2.007853  \n",
      "D28.1_13    4.031579  \n",
      "\n",
      "[5 rows x 18915 columns]\n",
      "(2119, 1)\n",
      "                    x\n",
      "D28.1_1         alpha\n",
      "D28.1_2   endothelial\n",
      "D28.1_3         delta\n",
      "D28.1_4          beta\n",
      "D28.1_13         duct\n"
     ]
    }
   ],
   "source": [
    "# Calculate the number of cells for each cell type.\n",
    "cell_type_counts = label_df['x'].value_counts()\n",
    "# Filter cell types with a count of 10 or more cells.\n",
    "selected_cell_types = cell_type_counts[cell_type_counts >= 10].index\n",
    "# Retain the corresponding cell data in the gene expression dataset and update the label data accordingly.\n",
    "data_df_selected = data_df.loc[label_df[label_df['x'].isin(selected_cell_types)].index]\n",
    "label_df = label_df.loc[label_df['x'].isin(selected_cell_types)]\n",
    "print(data_df_selected.shape)\n",
    "print(data_df_selected.iloc[:5, :])\n",
    "print(label_df.shape)\n",
    "print(label_df.iloc[:5, :])\n"
   ]
  },
  {
   "cell_type": "code",
   "execution_count": 7,
   "metadata": {},
   "outputs": [
    {
     "name": "stdout",
     "output_type": "stream",
     "text": [
      "alpha: 812\n",
      "beta: 448\n",
      "duct: 245\n",
      "acinar: 219\n",
      "delta: 193\n",
      "pp: 101\n",
      "mesenchymal: 80\n",
      "endothelial: 21\n"
     ]
    }
   ],
   "source": [
    "# Calculate the number of cells for each cell type.\n",
    "cell_type_counts = label_df['x'].value_counts()\n",
    "for cell_type, count in cell_type_counts.items():\n",
    "    print(f\"{cell_type}: {count}\")"
   ]
  },
  {
   "cell_type": "code",
   "execution_count": 8,
   "metadata": {},
   "outputs": [
    {
     "name": "stdout",
     "output_type": "stream",
     "text": [
      "2798\n",
      "(2119, 16117)\n",
      "          A1BG__chr19  A1CF__chr10  A2M-AS1__chr12  A2ML1__chr12  A2M__chr12  \\\n",
      "D28.1_1      0.000000     6.071431             0.0           0.0    0.000000   \n",
      "D28.1_2      0.000000     0.000000             0.0           0.0    5.049473   \n",
      "D28.1_3      1.001958     2.007854             0.0           0.0    0.000000   \n",
      "D28.1_4      1.001958     6.071431             0.0           0.0    0.000000   \n",
      "D28.1_13     0.000000     0.000000             0.0           0.0    0.000000   \n",
      "\n",
      "          A4GALT__chr22  AAAS__chr12  AACS__chr12  AADAC__chr3  AADAT__chr4  \\\n",
      "D28.1_1        0.000000     1.001958     1.001958          0.0          0.0   \n",
      "D28.1_2        1.001958     0.000000     1.001958          0.0          0.0   \n",
      "D28.1_3        0.000000     0.000000     1.001958          0.0          0.0   \n",
      "D28.1_4        0.000000     1.001958     4.031579          0.0          0.0   \n",
      "D28.1_13       0.000000     0.000000     0.000000          0.0          0.0   \n",
      "\n",
      "          ...  ZWILCH__chr15  ZWINT__chr10  ZXDA__chrX  ZXDB__chrX  \\\n",
      "D28.1_1   ...       0.000000           0.0    0.000000    1.001958   \n",
      "D28.1_2   ...       0.000000           0.0    0.000000    1.001958   \n",
      "D28.1_3   ...       0.000000           0.0    1.001958    0.000000   \n",
      "D28.1_4   ...       0.000000           0.0    0.000000    2.007854   \n",
      "D28.1_13  ...       1.001958           0.0    0.000000    1.001958   \n",
      "\n",
      "          ZXDC__chr3  ZYG11A__chr1  ZYG11B__chr1  ZYX__chr7  ZZEF1__chr17  \\\n",
      "D28.1_1     5.049473      0.000000      2.007854   0.000000      0.000000   \n",
      "D28.1_2     9.162011      0.000000      6.071431   5.049473      4.031579   \n",
      "D28.1_3     1.001958      0.000000      1.001958   0.000000      1.001958   \n",
      "D28.1_4    10.200553      1.001958      6.071431   1.001958      3.017717   \n",
      "D28.1_13    2.007854      0.000000      0.000000   1.001958      1.001958   \n",
      "\n",
      "          ZZZ3__chr1  \n",
      "D28.1_1     0.000000  \n",
      "D28.1_2     1.001958  \n",
      "D28.1_3     0.000000  \n",
      "D28.1_4     2.007854  \n",
      "D28.1_13    4.031579  \n",
      "\n",
      "[5 rows x 16117 columns]\n",
      "A1BG__chr19       float32\n",
      "A1CF__chr10       float32\n",
      "A2M-AS1__chr12    float32\n",
      "A2ML1__chr12      float32\n",
      "A2M__chr12        float32\n",
      "dtype: object\n"
     ]
    }
   ],
   "source": [
    "# Calculate how many cells express each gene.\n",
    "# Here, an expression value greater than 0 indicates the gene is expressed in a cell.\n",
    "genes_expressed_in_cells = (data_df_selected > 0).sum(axis=0)\n",
    "# Print the number of genes expressed in fewer than 10 cells.\n",
    "print(len(genes_expressed_in_cells[genes_expressed_in_cells < 10]))\n",
    "# Select genes expressed in at least 10 cells.\n",
    "genes_to_keep = genes_expressed_in_cells[genes_expressed_in_cells >= 10].index\n",
    "\n",
    "# Retain only the genes meeting the criteria in the dataset.\n",
    "data_df_filtered = data_df_selected[genes_to_keep]\n",
    "\n",
    "# Display the shape of the filtered data and the first few rows.\n",
    "print(data_df_filtered.shape)\n",
    "\n",
    "# Convert all data in data_df_filtered to float32 type.\n",
    "data_df_filtered = data_df_filtered.astype('float32')\n",
    "print(data_df_filtered.iloc[:5, :])\n",
    "print(data_df_filtered.dtypes.head())\n"
   ]
  },
  {
   "cell_type": "code",
   "execution_count": 10,
   "metadata": {},
   "outputs": [
    {
     "name": "stdout",
     "output_type": "stream",
     "text": [
      "<class 'list'>\n",
      "['acinar', 'alpha', 'beta', 'delta', 'duct', 'endothelial', 'mesenchymal', 'pp']\n",
      "<class 'list'>\n",
      "[1, 5, 3, 2, 4, 1, 1, 5, 1, 1, 0, 0, 1, 1, 1, 2, 2, 0, 1, 4, 0, 3, 0, 1, 2, 4, 0, 0, 0, 1, 1, 7, 4, 4, 7, 0, 0, 1, 3, 4, 4, 0, 1, 0, 1, 4, 0, 4, 4, 0, 4, 1, 4, 1, 2, 0, 4, 6, 0, 1, 0, 1, 1, 0, 0, 7, 4, 1, 4, 1, 2, 0, 0, 5, 2, 4, 1, 0, 0, 0, 1, 7, 1, 0, 1, 2, 1, 1, 1, 7, 1, 3, 4, 7, 0, 0, 2, 0, 4, 2, 0, 2, 1, 0, 2, 1, 5, 0, 4, 0, 0, 0, 4, 4, 1, 3, 0, 4, 1, 0, 1, 1, 4, 0, 1, 0, 3, 1, 0, 4, 4, 1, 0, 0, 1, 4, 3, 0, 1, 4, 1, 0, 4, 7, 1, 4, 1, 1, 2, 1, 7, 1, 4, 1, 4, 0, 4, 0, 4, 0, 0, 4, 1, 0, 1, 0, 1, 0, 4, 4, 4, 1, 2, 4, 0, 0, 1, 1, 0, 7, 4, 1, 5, 3, 1, 1, 1, 3, 1, 7, 1, 7, 3, 1, 1, 1, 1, 2, 2, 1, 1, 1, 7, 1, 3, 1, 7, 2, 1, 1, 2, 2, 1, 3, 1, 3, 1, 1, 2, 3, 1, 1, 2, 2, 4, 1, 3, 3, 7, 1, 1, 6, 1, 4, 7, 7, 0, 1, 2, 7, 7, 7, 3, 2, 1, 2, 2, 2, 1, 2, 2, 3, 2, 7, 1, 2, 1, 7, 2, 3, 2, 6, 1, 3, 2, 1, 4, 1, 3, 3, 2, 4, 1, 1, 3, 2, 7, 2, 1, 2, 1, 2, 2, 1, 2, 1, 1, 3, 1, 1, 1, 1, 1, 7, 7, 1, 3, 7, 1, 4, 2, 1, 1, 2, 4, 2, 4, 7, 7, 2, 4, 2, 4, 7, 4, 2, 1, 7, 1, 2, 1, 2, 1, 1, 1, 7, 2, 2, 2, 3, 1, 7, 4, 2, 1, 1, 7, 1, 1, 7, 1, 2, 0, 2, 3, 3, 3, 2, 3, 7, 7, 4, 1, 2, 1, 2, 2, 1, 2, 1, 1, 1, 7, 1, 1, 2, 2, 1, 2, 1, 1, 3, 7, 3, 1, 2, 1, 2, 2, 1, 1, 1, 3, 3, 2, 1, 2, 2, 1, 2, 3, 7, 1, 6, 1, 1, 1, 2, 1, 1, 3, 2, 1, 3, 2, 2, 1, 1, 2, 1, 7, 7, 1, 7, 6, 1, 1, 1, 1, 1, 3, 1, 2, 7, 1, 2, 1, 1, 2, 1, 1, 1, 2, 1, 1, 1, 1, 2, 3, 2, 3, 2, 4, 1, 4, 7, 1, 1, 1, 2, 1, 1, 1, 1, 1, 2, 1, 1, 1, 2, 3, 1, 1, 2, 1, 1, 1, 2, 1, 1, 1, 2, 1, 3, 6, 3, 1, 7, 2, 3, 2, 1, 2, 1, 7, 1, 1, 2, 1, 2, 2, 1, 1, 1, 2, 2, 2, 2, 1, 2, 1, 3, 1, 2, 1, 3, 2, 1, 2, 2, 1, 1, 3, 2, 1, 7, 2, 2, 1, 2, 1, 1, 2, 1, 2, 2, 2, 2, 4, 1, 3, 1, 1, 2, 2, 1, 0, 1, 3, 3, 7, 7, 1, 3, 2, 1, 4, 2, 1, 1, 2, 7, 7, 1, 7, 3, 7, 2, 1, 1, 1, 3, 1, 1, 1, 2, 1, 3, 2, 7, 1, 1, 2, 1, 1, 1, 2, 3, 3, 1, 2, 1, 1, 1, 1, 7, 2, 1, 1, 2, 1, 2, 3, 1, 1, 3, 2, 1, 2, 2, 2, 1, 2, 2, 1, 1, 1, 3, 7, 1, 1, 1, 1, 1, 2, 2, 3, 0, 1, 7, 2, 2, 2, 5, 3, 4, 3, 7, 1, 3, 7, 2, 1, 1, 7, 7, 7, 2, 1, 2, 7, 2, 2, 1, 1, 2, 1, 1, 2, 0, 1, 1, 2, 3, 1, 1, 1, 2, 1, 7, 7, 4, 3, 1, 1, 2, 2, 1, 1, 1, 2, 2, 1, 7, 3, 3, 1, 3, 1, 1, 1, 2, 2, 2, 1, 1, 7, 7, 1, 6, 1, 2, 3, 2, 2, 3, 1, 3, 1, 7, 1, 2, 1, 1, 1, 1, 1, 1, 1, 2, 1, 1, 1, 1, 7, 1, 3, 7, 2, 2, 1, 2, 3, 1, 1, 1, 1, 3, 4, 1, 1, 1, 2, 3, 3, 3, 2, 4, 1, 1, 3, 3, 3, 1, 3, 1, 2, 2, 4, 2, 2, 2, 2, 1, 1, 0, 3, 0, 1, 0, 2, 2, 4, 2, 3, 4, 1, 0, 2, 0, 0, 6, 1, 0, 2, 0, 2, 2, 1, 1, 3, 2, 1, 6, 2, 4, 1, 5, 1, 1, 0, 0, 1, 2, 0, 1, 4, 0, 1, 2, 2, 4, 2, 0, 1, 1, 1, 4, 2, 1, 7, 1, 1, 2, 1, 0, 4, 2, 2, 1, 4, 4, 1, 7, 2, 7, 4, 4, 4, 1, 2, 1, 0, 1, 4, 1, 1, 4, 2, 1, 2, 4, 3, 0, 1, 1, 4, 1, 3, 1, 1, 0, 4, 0, 6, 4, 4, 1, 2, 6, 0, 2, 2, 3, 0, 1, 1, 1, 2, 4, 3, 4, 0, 1, 4, 4, 2, 1, 1, 2, 2, 2, 2, 1, 2, 0, 4, 7, 1, 1, 2, 4, 7, 0, 6, 1, 1, 2, 2, 1, 4, 0, 3, 2, 2, 4, 1, 0, 4, 4, 4, 3, 6, 1, 1, 0, 4, 6, 0, 4, 1, 6, 2, 1, 4, 0, 1, 1, 2, 1, 2, 4, 1, 0, 6, 3, 2, 1, 1, 4, 2, 0, 1, 4, 0, 1, 1, 1, 7, 2, 1, 2, 1, 0, 4, 1, 1, 0, 3, 3, 2, 1, 1, 4, 0, 2, 1, 0, 2, 1, 7, 1, 6, 0, 7, 3, 0, 0, 4, 2, 3, 2, 0, 1, 5, 7, 0, 2, 1, 7, 0, 1, 4, 4, 4, 2, 1, 1, 0, 2, 3, 0, 1, 1, 2, 1, 1, 3, 7, 1, 1, 1, 3, 0, 2, 1, 0, 0, 7, 6, 2, 1, 2, 1, 2, 1, 1, 1, 2, 1, 1, 3, 1, 1, 1, 1, 4, 2, 4, 0, 7, 4, 2, 7, 0, 1, 0, 2, 2, 3, 1, 0, 2, 1, 2, 1, 1, 1, 0, 4, 4, 2, 1, 3, 1, 3, 2, 2, 2, 2, 6, 4, 4, 0, 4, 0, 4, 3, 2, 4, 4, 3, 7, 1, 1, 2, 2, 1, 2, 1, 1, 4, 0, 2, 0, 2, 0, 1, 2, 0, 2, 1, 2, 1, 1, 1, 4, 4, 2, 0, 1, 3, 4, 1, 1, 2, 3, 1, 1, 2, 2, 2, 2, 2, 1, 0, 1, 1, 4, 2, 0, 4, 3, 1, 0, 3, 4, 0, 1, 1, 4, 2, 1, 1, 3, 1, 0, 1, 1, 0, 2, 1, 1, 4, 4, 1, 1, 1, 0, 0, 3, 4, 4, 2, 0, 1, 6, 6, 0, 2, 4, 6, 6, 3, 2, 1, 1, 1, 0, 1, 4, 0, 1, 2, 6, 1, 4, 7, 5, 2, 0, 1, 0, 3, 0, 2, 2, 1, 2, 2, 0, 2, 4, 0, 4, 4, 0, 1, 2, 7, 0, 4, 1, 1, 4, 3, 0, 0, 4, 2, 0, 4, 1, 3, 2, 1, 2, 4, 4, 0, 0, 1, 1, 1, 4, 2, 1, 2, 0, 0, 1, 1, 2, 0, 2, 4, 0, 5, 2, 4, 5, 1, 0, 2, 1, 4, 2, 0, 4, 1, 6, 2, 0, 2, 1, 1, 1, 1, 2, 4, 1, 2, 1, 2, 5, 1, 1, 0, 2, 0, 1, 7, 4, 1, 4, 1, 2, 0, 2, 4, 1, 4, 1, 4, 1, 5, 1, 2, 1, 1, 1, 0, 2, 2, 1, 4, 1, 2, 2, 2, 6, 1, 1, 1, 2, 1, 2, 4, 4, 2, 2, 2, 1, 1, 0, 1, 1, 3, 2, 1, 2, 0, 1, 2, 4, 2, 1, 2, 0, 2, 1, 3, 2, 2, 2, 4, 2, 7, 1, 2, 3, 1, 2, 0, 1, 1, 0, 2, 1, 7, 0, 1, 2, 1, 7, 3, 6, 4, 4, 2, 4, 1, 2, 7, 0, 3, 2, 4, 2, 1, 3, 7, 4, 1, 5, 0, 2, 3, 2, 1, 4, 1, 5, 2, 2, 2, 1, 0, 6, 1, 4, 2, 1, 1, 0, 2, 1, 3, 7, 3, 7, 3, 2, 2, 4, 3, 4, 2, 4, 0, 1, 2, 2, 4, 1, 7, 2, 0, 4, 0, 6, 1, 4, 0, 1, 3, 3, 1, 1, 1, 4, 2, 1, 1, 1, 0, 3, 1, 0, 1, 1, 6, 2, 1, 1, 0, 0, 4, 2, 1, 4, 1, 1, 2, 1, 1, 4, 4, 5, 2, 4, 1, 1, 2, 1, 2, 1, 0, 1, 2, 1, 1, 1, 0, 0, 1, 2, 1, 2, 3, 6, 1, 0, 1, 2, 1, 5, 4, 6, 1, 1, 3, 1, 2, 1, 1, 4, 2, 1, 0, 2, 2, 0, 1, 3, 4, 1, 6, 2, 7, 4, 1, 0, 1, 1, 1, 1, 1, 0, 1, 1, 3, 1, 3, 1, 1, 1, 3, 0, 1, 6, 2, 2, 2, 2, 1, 4, 1, 4, 3, 1, 0, 0, 0, 2, 0, 2, 1, 2, 3, 4, 0, 3, 0, 3, 2, 0, 2, 4, 6, 0, 2, 1, 1, 1, 1, 1, 2, 1, 1, 3, 1, 0, 6, 1, 4, 1, 1, 3, 1, 4, 1, 1, 2, 1, 3, 2, 1, 6, 6, 1, 1, 0, 2, 1, 1, 6, 6, 4, 2, 2, 1, 1, 2, 2, 7, 1, 4, 3, 1, 1, 7, 3, 3, 1, 1, 1, 1, 1, 1, 1, 1, 4, 1, 1, 1, 2, 1, 2, 6, 1, 1, 1, 3, 1, 0, 1, 1, 1, 4, 1, 2, 2, 2, 2, 2, 1, 1, 2, 6, 1, 6, 3, 0, 1, 1, 2, 1, 3, 1, 2, 6, 1, 1, 3, 3, 2, 2, 1, 1, 2, 3, 4, 1, 3, 1, 2, 4, 0, 1, 1, 5, 2, 2, 1, 3, 1, 4, 2, 2, 6, 1, 1, 4, 3, 2, 1, 3, 0, 1, 1, 1, 3, 1, 1, 1, 3, 4, 3, 1, 6, 4, 1, 2, 2, 6, 1, 1, 4, 1, 1, 1, 4, 1, 4, 1, 1, 2, 1, 1, 1, 1, 4, 1, 6, 3, 1, 1, 0, 1, 6, 4, 1, 2, 1, 1, 2, 1, 1, 1, 2, 1, 6, 2, 3, 0, 0, 2, 1, 1, 1, 1, 2, 4, 4, 4, 1, 6, 6, 4, 2, 1, 4, 1, 3, 3, 1, 1, 6, 3, 3, 1, 2, 3, 1, 1, 1, 1, 1, 6, 4, 2, 1, 4, 3, 0, 1, 4, 1, 2, 4, 4, 1, 4, 0, 4, 1, 2, 4, 1, 1, 1, 1, 2, 2, 4, 6, 4, 1, 1, 4, 1, 1, 1, 2, 1, 1, 6, 1, 7, 1, 3, 4, 0, 6, 4, 3, 1, 1, 3, 1, 0, 6, 3, 1, 1, 1, 1, 1, 6, 1, 0, 3, 1, 1, 6, 2, 4, 3, 2, 2, 1, 6, 2, 1, 4, 2, 1, 6, 1, 4, 1, 6, 6, 1, 1, 1, 1, 4, 3, 1, 0, 2, 1, 0, 1, 1, 0, 1, 1, 2, 4, 3, 1, 1, 4, 3, 2, 1, 2, 4, 3, 2, 2, 4, 1, 1, 4, 1, 1, 1, 2, 4, 1, 1, 1, 1, 1, 2, 4, 4, 2, 0, 1, 1, 2, 6, 1, 4, 1, 1, 1, 7, 1, 3, 6, 2, 0, 1, 2, 2, 1, 1, 3, 1, 1, 1, 0, 1, 3, 1, 4, 1, 4, 1, 0, 2, 2, 3, 0, 1, 1, 0, 3, 6, 3, 3, 6, 4, 1, 6, 0, 1, 1, 1, 1, 2, 1, 4, 1, 2, 1, 4, 1, 3, 2, 3, 2, 1, 1, 1, 2, 2, 1, 1, 1, 1, 1, 2, 1, 6, 1, 4, 1, 2, 1, 1, 2, 2, 6, 2, 4, 4, 4, 6, 1, 4, 3, 5, 0, 1, 1, 2, 1, 1, 3, 4, 1, 2, 1, 4, 3, 1, 1, 2, 1, 2, 6, 2, 2, 6, 1, 1, 4, 2, 1, 6, 1, 2, 1, 4, 1, 3, 0, 5, 2, 0, 0, 4, 1, 3, 1, 1, 2, 2, 1, 1, 2, 6, 2, 1, 1, 1, 3, 6, 2, 6, 2, 0, 1, 0, 3, 1, 2, 0, 1, 1, 2, 2, 1, 1, 1, 1, 1, 2, 0, 4, 1, 0, 2, 3, 5, 3, 1, 1, 6, 1, 4, 6]\n",
      "2119\n",
      "<class 'numpy.ndarray'>\n",
      "['D28.1_1' 'D28.1_2' 'D28.1_3' ... 'D30.8_92' 'D30.8_93' 'D30.8_94']\n",
      "2119\n",
      "<class 'numpy.ndarray'>\n",
      "['A1BG__chr19' 'A1CF__chr10' 'A2M-AS1__chr12' ... 'ZYX__chr7'\n",
      " 'ZZEF1__chr17' 'ZZZ3__chr1']\n",
      "16117\n"
     ]
    }
   ],
   "source": [
    "str_labels = np.unique(label_df.values).tolist()\n",
    "label = [str_labels.index(x) for x in label_df.values]\n",
    "# Convert numeric labels back to string labels\n",
    "original_labels = [str_labels[x] for x in label]\n",
    "barcode = data_df_filtered.index.values\n",
    "gene_symbol = data_df_filtered.columns.values\n",
    "\n",
    "print(type(str_labels))\n",
    "print(str_labels)\n",
    "print(type(label))\n",
    "print(label)\n",
    "print(len(label))\n",
    "print(type(barcode))\n",
    "print(barcode)\n",
    "print(len(barcode))\n",
    "print(type(gene_symbol))\n",
    "print(gene_symbol)\n",
    "print(len(gene_symbol))"
   ]
  },
  {
   "cell_type": "code",
   "execution_count": 11,
   "metadata": {},
   "outputs": [
    {
     "name": "stdout",
     "output_type": "stream",
     "text": [
      "acinar: 0\n",
      "alpha: 1\n",
      "beta: 2\n",
      "delta: 3\n",
      "duct: 4\n",
      "endothelial: 5\n",
      "mesenchymal: 6\n",
      "pp: 7\n"
     ]
    }
   ],
   "source": [
    "# Create a mapping dictionary from cell type labels to numeric indices\n",
    "label_to_index = {label1: i for i, label1 in enumerate(str_labels)}\n",
    "# Print the mapping of cell type labels to their numeric indices\n",
    "for label1, index in label_to_index.items():\n",
    "    print(f\"{label1}: {index}\")"
   ]
  },
  {
   "cell_type": "code",
   "execution_count": 12,
   "metadata": {},
   "outputs": [
    {
     "name": "stdout",
     "output_type": "stream",
     "text": [
      "16117\n",
      "2119\n",
      "['alpha', 'endothelial', 'delta', 'beta', 'duct', 'alpha', 'alpha', 'endothelial', 'alpha', 'alpha', 'acinar', 'acinar', 'alpha', 'alpha', 'alpha', 'beta', 'beta', 'acinar', 'alpha', 'duct', 'acinar', 'delta', 'acinar', 'alpha', 'beta', 'duct', 'acinar', 'acinar', 'acinar', 'alpha', 'alpha', 'pp', 'duct', 'duct', 'pp', 'acinar', 'acinar', 'alpha', 'delta', 'duct', 'duct', 'acinar', 'alpha', 'acinar', 'alpha', 'duct', 'acinar', 'duct', 'duct', 'acinar', 'duct', 'alpha', 'duct', 'alpha', 'beta', 'acinar', 'duct', 'mesenchymal', 'acinar', 'alpha', 'acinar', 'alpha', 'alpha', 'acinar', 'acinar', 'pp', 'duct', 'alpha', 'duct', 'alpha', 'beta', 'acinar', 'acinar', 'endothelial', 'beta', 'duct', 'alpha', 'acinar', 'acinar', 'acinar', 'alpha', 'pp', 'alpha', 'acinar', 'alpha', 'beta', 'alpha', 'alpha', 'alpha', 'pp', 'alpha', 'delta', 'duct', 'pp', 'acinar', 'acinar', 'beta', 'acinar', 'duct', 'beta', 'acinar', 'beta', 'alpha', 'acinar', 'beta', 'alpha', 'endothelial', 'acinar', 'duct', 'acinar', 'acinar', 'acinar', 'duct', 'duct', 'alpha', 'delta', 'acinar', 'duct', 'alpha', 'acinar', 'alpha', 'alpha', 'duct', 'acinar', 'alpha', 'acinar', 'delta', 'alpha', 'acinar', 'duct', 'duct', 'alpha', 'acinar', 'acinar', 'alpha', 'duct', 'delta', 'acinar', 'alpha', 'duct', 'alpha', 'acinar', 'duct', 'pp', 'alpha', 'duct', 'alpha', 'alpha', 'beta', 'alpha', 'pp', 'alpha', 'duct', 'alpha', 'duct', 'acinar', 'duct', 'acinar', 'duct', 'acinar', 'acinar', 'duct', 'alpha', 'acinar', 'alpha', 'acinar', 'alpha', 'acinar', 'duct', 'duct', 'duct', 'alpha', 'beta', 'duct', 'acinar', 'acinar', 'alpha', 'alpha', 'acinar', 'pp', 'duct', 'alpha', 'endothelial', 'delta', 'alpha', 'alpha', 'alpha', 'delta', 'alpha', 'pp', 'alpha', 'pp', 'delta', 'alpha', 'alpha', 'alpha', 'alpha', 'beta', 'beta', 'alpha', 'alpha', 'alpha', 'pp', 'alpha', 'delta', 'alpha', 'pp', 'beta', 'alpha', 'alpha', 'beta', 'beta', 'alpha', 'delta', 'alpha', 'delta', 'alpha', 'alpha', 'beta', 'delta', 'alpha', 'alpha', 'beta', 'beta', 'duct', 'alpha', 'delta', 'delta', 'pp', 'alpha', 'alpha', 'mesenchymal', 'alpha', 'duct', 'pp', 'pp', 'acinar', 'alpha', 'beta', 'pp', 'pp', 'pp', 'delta', 'beta', 'alpha', 'beta', 'beta', 'beta', 'alpha', 'beta', 'beta', 'delta', 'beta', 'pp', 'alpha', 'beta', 'alpha', 'pp', 'beta', 'delta', 'beta', 'mesenchymal', 'alpha', 'delta', 'beta', 'alpha', 'duct', 'alpha', 'delta', 'delta', 'beta', 'duct', 'alpha', 'alpha', 'delta', 'beta', 'pp', 'beta', 'alpha', 'beta', 'alpha', 'beta', 'beta', 'alpha', 'beta', 'alpha', 'alpha', 'delta', 'alpha', 'alpha', 'alpha', 'alpha', 'alpha', 'pp', 'pp', 'alpha', 'delta', 'pp', 'alpha', 'duct', 'beta', 'alpha', 'alpha', 'beta', 'duct', 'beta', 'duct', 'pp', 'pp', 'beta', 'duct', 'beta', 'duct', 'pp', 'duct', 'beta', 'alpha', 'pp', 'alpha', 'beta', 'alpha', 'beta', 'alpha', 'alpha', 'alpha', 'pp', 'beta', 'beta', 'beta', 'delta', 'alpha', 'pp', 'duct', 'beta', 'alpha', 'alpha', 'pp', 'alpha', 'alpha', 'pp', 'alpha', 'beta', 'acinar', 'beta', 'delta', 'delta', 'delta', 'beta', 'delta', 'pp', 'pp', 'duct', 'alpha', 'beta', 'alpha', 'beta', 'beta', 'alpha', 'beta', 'alpha', 'alpha', 'alpha', 'pp', 'alpha', 'alpha', 'beta', 'beta', 'alpha', 'beta', 'alpha', 'alpha', 'delta', 'pp', 'delta', 'alpha', 'beta', 'alpha', 'beta', 'beta', 'alpha', 'alpha', 'alpha', 'delta', 'delta', 'beta', 'alpha', 'beta', 'beta', 'alpha', 'beta', 'delta', 'pp', 'alpha', 'mesenchymal', 'alpha', 'alpha', 'alpha', 'beta', 'alpha', 'alpha', 'delta', 'beta', 'alpha', 'delta', 'beta', 'beta', 'alpha', 'alpha', 'beta', 'alpha', 'pp', 'pp', 'alpha', 'pp', 'mesenchymal', 'alpha', 'alpha', 'alpha', 'alpha', 'alpha', 'delta', 'alpha', 'beta', 'pp', 'alpha', 'beta', 'alpha', 'alpha', 'beta', 'alpha', 'alpha', 'alpha', 'beta', 'alpha', 'alpha', 'alpha', 'alpha', 'beta', 'delta', 'beta', 'delta', 'beta', 'duct', 'alpha', 'duct', 'pp', 'alpha', 'alpha', 'alpha', 'beta', 'alpha', 'alpha', 'alpha', 'alpha', 'alpha', 'beta', 'alpha', 'alpha', 'alpha', 'beta', 'delta', 'alpha', 'alpha', 'beta', 'alpha', 'alpha', 'alpha', 'beta', 'alpha', 'alpha', 'alpha', 'beta', 'alpha', 'delta', 'mesenchymal', 'delta', 'alpha', 'pp', 'beta', 'delta', 'beta', 'alpha', 'beta', 'alpha', 'pp', 'alpha', 'alpha', 'beta', 'alpha', 'beta', 'beta', 'alpha', 'alpha', 'alpha', 'beta', 'beta', 'beta', 'beta', 'alpha', 'beta', 'alpha', 'delta', 'alpha', 'beta', 'alpha', 'delta', 'beta', 'alpha', 'beta', 'beta', 'alpha', 'alpha', 'delta', 'beta', 'alpha', 'pp', 'beta', 'beta', 'alpha', 'beta', 'alpha', 'alpha', 'beta', 'alpha', 'beta', 'beta', 'beta', 'beta', 'duct', 'alpha', 'delta', 'alpha', 'alpha', 'beta', 'beta', 'alpha', 'acinar', 'alpha', 'delta', 'delta', 'pp', 'pp', 'alpha', 'delta', 'beta', 'alpha', 'duct', 'beta', 'alpha', 'alpha', 'beta', 'pp', 'pp', 'alpha', 'pp', 'delta', 'pp', 'beta', 'alpha', 'alpha', 'alpha', 'delta', 'alpha', 'alpha', 'alpha', 'beta', 'alpha', 'delta', 'beta', 'pp', 'alpha', 'alpha', 'beta', 'alpha', 'alpha', 'alpha', 'beta', 'delta', 'delta', 'alpha', 'beta', 'alpha', 'alpha', 'alpha', 'alpha', 'pp', 'beta', 'alpha', 'alpha', 'beta', 'alpha', 'beta', 'delta', 'alpha', 'alpha', 'delta', 'beta', 'alpha', 'beta', 'beta', 'beta', 'alpha', 'beta', 'beta', 'alpha', 'alpha', 'alpha', 'delta', 'pp', 'alpha', 'alpha', 'alpha', 'alpha', 'alpha', 'beta', 'beta', 'delta', 'acinar', 'alpha', 'pp', 'beta', 'beta', 'beta', 'endothelial', 'delta', 'duct', 'delta', 'pp', 'alpha', 'delta', 'pp', 'beta', 'alpha', 'alpha', 'pp', 'pp', 'pp', 'beta', 'alpha', 'beta', 'pp', 'beta', 'beta', 'alpha', 'alpha', 'beta', 'alpha', 'alpha', 'beta', 'acinar', 'alpha', 'alpha', 'beta', 'delta', 'alpha', 'alpha', 'alpha', 'beta', 'alpha', 'pp', 'pp', 'duct', 'delta', 'alpha', 'alpha', 'beta', 'beta', 'alpha', 'alpha', 'alpha', 'beta', 'beta', 'alpha', 'pp', 'delta', 'delta', 'alpha', 'delta', 'alpha', 'alpha', 'alpha', 'beta', 'beta', 'beta', 'alpha', 'alpha', 'pp', 'pp', 'alpha', 'mesenchymal', 'alpha', 'beta', 'delta', 'beta', 'beta', 'delta', 'alpha', 'delta', 'alpha', 'pp', 'alpha', 'beta', 'alpha', 'alpha', 'alpha', 'alpha', 'alpha', 'alpha', 'alpha', 'beta', 'alpha', 'alpha', 'alpha', 'alpha', 'pp', 'alpha', 'delta', 'pp', 'beta', 'beta', 'alpha', 'beta', 'delta', 'alpha', 'alpha', 'alpha', 'alpha', 'delta', 'duct', 'alpha', 'alpha', 'alpha', 'beta', 'delta', 'delta', 'delta', 'beta', 'duct', 'alpha', 'alpha', 'delta', 'delta', 'delta', 'alpha', 'delta', 'alpha', 'beta', 'beta', 'duct', 'beta', 'beta', 'beta', 'beta', 'alpha', 'alpha', 'acinar', 'delta', 'acinar', 'alpha', 'acinar', 'beta', 'beta', 'duct', 'beta', 'delta', 'duct', 'alpha', 'acinar', 'beta', 'acinar', 'acinar', 'mesenchymal', 'alpha', 'acinar', 'beta', 'acinar', 'beta', 'beta', 'alpha', 'alpha', 'delta', 'beta', 'alpha', 'mesenchymal', 'beta', 'duct', 'alpha', 'endothelial', 'alpha', 'alpha', 'acinar', 'acinar', 'alpha', 'beta', 'acinar', 'alpha', 'duct', 'acinar', 'alpha', 'beta', 'beta', 'duct', 'beta', 'acinar', 'alpha', 'alpha', 'alpha', 'duct', 'beta', 'alpha', 'pp', 'alpha', 'alpha', 'beta', 'alpha', 'acinar', 'duct', 'beta', 'beta', 'alpha', 'duct', 'duct', 'alpha', 'pp', 'beta', 'pp', 'duct', 'duct', 'duct', 'alpha', 'beta', 'alpha', 'acinar', 'alpha', 'duct', 'alpha', 'alpha', 'duct', 'beta', 'alpha', 'beta', 'duct', 'delta', 'acinar', 'alpha', 'alpha', 'duct', 'alpha', 'delta', 'alpha', 'alpha', 'acinar', 'duct', 'acinar', 'mesenchymal', 'duct', 'duct', 'alpha', 'beta', 'mesenchymal', 'acinar', 'beta', 'beta', 'delta', 'acinar', 'alpha', 'alpha', 'alpha', 'beta', 'duct', 'delta', 'duct', 'acinar', 'alpha', 'duct', 'duct', 'beta', 'alpha', 'alpha', 'beta', 'beta', 'beta', 'beta', 'alpha', 'beta', 'acinar', 'duct', 'pp', 'alpha', 'alpha', 'beta', 'duct', 'pp', 'acinar', 'mesenchymal', 'alpha', 'alpha', 'beta', 'beta', 'alpha', 'duct', 'acinar', 'delta', 'beta', 'beta', 'duct', 'alpha', 'acinar', 'duct', 'duct', 'duct', 'delta', 'mesenchymal', 'alpha', 'alpha', 'acinar', 'duct', 'mesenchymal', 'acinar', 'duct', 'alpha', 'mesenchymal', 'beta', 'alpha', 'duct', 'acinar', 'alpha', 'alpha', 'beta', 'alpha', 'beta', 'duct', 'alpha', 'acinar', 'mesenchymal', 'delta', 'beta', 'alpha', 'alpha', 'duct', 'beta', 'acinar', 'alpha', 'duct', 'acinar', 'alpha', 'alpha', 'alpha', 'pp', 'beta', 'alpha', 'beta', 'alpha', 'acinar', 'duct', 'alpha', 'alpha', 'acinar', 'delta', 'delta', 'beta', 'alpha', 'alpha', 'duct', 'acinar', 'beta', 'alpha', 'acinar', 'beta', 'alpha', 'pp', 'alpha', 'mesenchymal', 'acinar', 'pp', 'delta', 'acinar', 'acinar', 'duct', 'beta', 'delta', 'beta', 'acinar', 'alpha', 'endothelial', 'pp', 'acinar', 'beta', 'alpha', 'pp', 'acinar', 'alpha', 'duct', 'duct', 'duct', 'beta', 'alpha', 'alpha', 'acinar', 'beta', 'delta', 'acinar', 'alpha', 'alpha', 'beta', 'alpha', 'alpha', 'delta', 'pp', 'alpha', 'alpha', 'alpha', 'delta', 'acinar', 'beta', 'alpha', 'acinar', 'acinar', 'pp', 'mesenchymal', 'beta', 'alpha', 'beta', 'alpha', 'beta', 'alpha', 'alpha', 'alpha', 'beta', 'alpha', 'alpha', 'delta', 'alpha', 'alpha', 'alpha', 'alpha', 'duct', 'beta', 'duct', 'acinar', 'pp', 'duct', 'beta', 'pp', 'acinar', 'alpha', 'acinar', 'beta', 'beta', 'delta', 'alpha', 'acinar', 'beta', 'alpha', 'beta', 'alpha', 'alpha', 'alpha', 'acinar', 'duct', 'duct', 'beta', 'alpha', 'delta', 'alpha', 'delta', 'beta', 'beta', 'beta', 'beta', 'mesenchymal', 'duct', 'duct', 'acinar', 'duct', 'acinar', 'duct', 'delta', 'beta', 'duct', 'duct', 'delta', 'pp', 'alpha', 'alpha', 'beta', 'beta', 'alpha', 'beta', 'alpha', 'alpha', 'duct', 'acinar', 'beta', 'acinar', 'beta', 'acinar', 'alpha', 'beta', 'acinar', 'beta', 'alpha', 'beta', 'alpha', 'alpha', 'alpha', 'duct', 'duct', 'beta', 'acinar', 'alpha', 'delta', 'duct', 'alpha', 'alpha', 'beta', 'delta', 'alpha', 'alpha', 'beta', 'beta', 'beta', 'beta', 'beta', 'alpha', 'acinar', 'alpha', 'alpha', 'duct', 'beta', 'acinar', 'duct', 'delta', 'alpha', 'acinar', 'delta', 'duct', 'acinar', 'alpha', 'alpha', 'duct', 'beta', 'alpha', 'alpha', 'delta', 'alpha', 'acinar', 'alpha', 'alpha', 'acinar', 'beta', 'alpha', 'alpha', 'duct', 'duct', 'alpha', 'alpha', 'alpha', 'acinar', 'acinar', 'delta', 'duct', 'duct', 'beta', 'acinar', 'alpha', 'mesenchymal', 'mesenchymal', 'acinar', 'beta', 'duct', 'mesenchymal', 'mesenchymal', 'delta', 'beta', 'alpha', 'alpha', 'alpha', 'acinar', 'alpha', 'duct', 'acinar', 'alpha', 'beta', 'mesenchymal', 'alpha', 'duct', 'pp', 'endothelial', 'beta', 'acinar', 'alpha', 'acinar', 'delta', 'acinar', 'beta', 'beta', 'alpha', 'beta', 'beta', 'acinar', 'beta', 'duct', 'acinar', 'duct', 'duct', 'acinar', 'alpha', 'beta', 'pp', 'acinar', 'duct', 'alpha', 'alpha', 'duct', 'delta', 'acinar', 'acinar', 'duct', 'beta', 'acinar', 'duct', 'alpha', 'delta', 'beta', 'alpha', 'beta', 'duct', 'duct', 'acinar', 'acinar', 'alpha', 'alpha', 'alpha', 'duct', 'beta', 'alpha', 'beta', 'acinar', 'acinar', 'alpha', 'alpha', 'beta', 'acinar', 'beta', 'duct', 'acinar', 'endothelial', 'beta', 'duct', 'endothelial', 'alpha', 'acinar', 'beta', 'alpha', 'duct', 'beta', 'acinar', 'duct', 'alpha', 'mesenchymal', 'beta', 'acinar', 'beta', 'alpha', 'alpha', 'alpha', 'alpha', 'beta', 'duct', 'alpha', 'beta', 'alpha', 'beta', 'endothelial', 'alpha', 'alpha', 'acinar', 'beta', 'acinar', 'alpha', 'pp', 'duct', 'alpha', 'duct', 'alpha', 'beta', 'acinar', 'beta', 'duct', 'alpha', 'duct', 'alpha', 'duct', 'alpha', 'endothelial', 'alpha', 'beta', 'alpha', 'alpha', 'alpha', 'acinar', 'beta', 'beta', 'alpha', 'duct', 'alpha', 'beta', 'beta', 'beta', 'mesenchymal', 'alpha', 'alpha', 'alpha', 'beta', 'alpha', 'beta', 'duct', 'duct', 'beta', 'beta', 'beta', 'alpha', 'alpha', 'acinar', 'alpha', 'alpha', 'delta', 'beta', 'alpha', 'beta', 'acinar', 'alpha', 'beta', 'duct', 'beta', 'alpha', 'beta', 'acinar', 'beta', 'alpha', 'delta', 'beta', 'beta', 'beta', 'duct', 'beta', 'pp', 'alpha', 'beta', 'delta', 'alpha', 'beta', 'acinar', 'alpha', 'alpha', 'acinar', 'beta', 'alpha', 'pp', 'acinar', 'alpha', 'beta', 'alpha', 'pp', 'delta', 'mesenchymal', 'duct', 'duct', 'beta', 'duct', 'alpha', 'beta', 'pp', 'acinar', 'delta', 'beta', 'duct', 'beta', 'alpha', 'delta', 'pp', 'duct', 'alpha', 'endothelial', 'acinar', 'beta', 'delta', 'beta', 'alpha', 'duct', 'alpha', 'endothelial', 'beta', 'beta', 'beta', 'alpha', 'acinar', 'mesenchymal', 'alpha', 'duct', 'beta', 'alpha', 'alpha', 'acinar', 'beta', 'alpha', 'delta', 'pp', 'delta', 'pp', 'delta', 'beta', 'beta', 'duct', 'delta', 'duct', 'beta', 'duct', 'acinar', 'alpha', 'beta', 'beta', 'duct', 'alpha', 'pp', 'beta', 'acinar', 'duct', 'acinar', 'mesenchymal', 'alpha', 'duct', 'acinar', 'alpha', 'delta', 'delta', 'alpha', 'alpha', 'alpha', 'duct', 'beta', 'alpha', 'alpha', 'alpha', 'acinar', 'delta', 'alpha', 'acinar', 'alpha', 'alpha', 'mesenchymal', 'beta', 'alpha', 'alpha', 'acinar', 'acinar', 'duct', 'beta', 'alpha', 'duct', 'alpha', 'alpha', 'beta', 'alpha', 'alpha', 'duct', 'duct', 'endothelial', 'beta', 'duct', 'alpha', 'alpha', 'beta', 'alpha', 'beta', 'alpha', 'acinar', 'alpha', 'beta', 'alpha', 'alpha', 'alpha', 'acinar', 'acinar', 'alpha', 'beta', 'alpha', 'beta', 'delta', 'mesenchymal', 'alpha', 'acinar', 'alpha', 'beta', 'alpha', 'endothelial', 'duct', 'mesenchymal', 'alpha', 'alpha', 'delta', 'alpha', 'beta', 'alpha', 'alpha', 'duct', 'beta', 'alpha', 'acinar', 'beta', 'beta', 'acinar', 'alpha', 'delta', 'duct', 'alpha', 'mesenchymal', 'beta', 'pp', 'duct', 'alpha', 'acinar', 'alpha', 'alpha', 'alpha', 'alpha', 'alpha', 'acinar', 'alpha', 'alpha', 'delta', 'alpha', 'delta', 'alpha', 'alpha', 'alpha', 'delta', 'acinar', 'alpha', 'mesenchymal', 'beta', 'beta', 'beta', 'beta', 'alpha', 'duct', 'alpha', 'duct', 'delta', 'alpha', 'acinar', 'acinar', 'acinar', 'beta', 'acinar', 'beta', 'alpha', 'beta', 'delta', 'duct', 'acinar', 'delta', 'acinar', 'delta', 'beta', 'acinar', 'beta', 'duct', 'mesenchymal', 'acinar', 'beta', 'alpha', 'alpha', 'alpha', 'alpha', 'alpha', 'beta', 'alpha', 'alpha', 'delta', 'alpha', 'acinar', 'mesenchymal', 'alpha', 'duct', 'alpha', 'alpha', 'delta', 'alpha', 'duct', 'alpha', 'alpha', 'beta', 'alpha', 'delta', 'beta', 'alpha', 'mesenchymal', 'mesenchymal', 'alpha', 'alpha', 'acinar', 'beta', 'alpha', 'alpha', 'mesenchymal', 'mesenchymal', 'duct', 'beta', 'beta', 'alpha', 'alpha', 'beta', 'beta', 'pp', 'alpha', 'duct', 'delta', 'alpha', 'alpha', 'pp', 'delta', 'delta', 'alpha', 'alpha', 'alpha', 'alpha', 'alpha', 'alpha', 'alpha', 'alpha', 'duct', 'alpha', 'alpha', 'alpha', 'beta', 'alpha', 'beta', 'mesenchymal', 'alpha', 'alpha', 'alpha', 'delta', 'alpha', 'acinar', 'alpha', 'alpha', 'alpha', 'duct', 'alpha', 'beta', 'beta', 'beta', 'beta', 'beta', 'alpha', 'alpha', 'beta', 'mesenchymal', 'alpha', 'mesenchymal', 'delta', 'acinar', 'alpha', 'alpha', 'beta', 'alpha', 'delta', 'alpha', 'beta', 'mesenchymal', 'alpha', 'alpha', 'delta', 'delta', 'beta', 'beta', 'alpha', 'alpha', 'beta', 'delta', 'duct', 'alpha', 'delta', 'alpha', 'beta', 'duct', 'acinar', 'alpha', 'alpha', 'endothelial', 'beta', 'beta', 'alpha', 'delta', 'alpha', 'duct', 'beta', 'beta', 'mesenchymal', 'alpha', 'alpha', 'duct', 'delta', 'beta', 'alpha', 'delta', 'acinar', 'alpha', 'alpha', 'alpha', 'delta', 'alpha', 'alpha', 'alpha', 'delta', 'duct', 'delta', 'alpha', 'mesenchymal', 'duct', 'alpha', 'beta', 'beta', 'mesenchymal', 'alpha', 'alpha', 'duct', 'alpha', 'alpha', 'alpha', 'duct', 'alpha', 'duct', 'alpha', 'alpha', 'beta', 'alpha', 'alpha', 'alpha', 'alpha', 'duct', 'alpha', 'mesenchymal', 'delta', 'alpha', 'alpha', 'acinar', 'alpha', 'mesenchymal', 'duct', 'alpha', 'beta', 'alpha', 'alpha', 'beta', 'alpha', 'alpha', 'alpha', 'beta', 'alpha', 'mesenchymal', 'beta', 'delta', 'acinar', 'acinar', 'beta', 'alpha', 'alpha', 'alpha', 'alpha', 'beta', 'duct', 'duct', 'duct', 'alpha', 'mesenchymal', 'mesenchymal', 'duct', 'beta', 'alpha', 'duct', 'alpha', 'delta', 'delta', 'alpha', 'alpha', 'mesenchymal', 'delta', 'delta', 'alpha', 'beta', 'delta', 'alpha', 'alpha', 'alpha', 'alpha', 'alpha', 'mesenchymal', 'duct', 'beta', 'alpha', 'duct', 'delta', 'acinar', 'alpha', 'duct', 'alpha', 'beta', 'duct', 'duct', 'alpha', 'duct', 'acinar', 'duct', 'alpha', 'beta', 'duct', 'alpha', 'alpha', 'alpha', 'alpha', 'beta', 'beta', 'duct', 'mesenchymal', 'duct', 'alpha', 'alpha', 'duct', 'alpha', 'alpha', 'alpha', 'beta', 'alpha', 'alpha', 'mesenchymal', 'alpha', 'pp', 'alpha', 'delta', 'duct', 'acinar', 'mesenchymal', 'duct', 'delta', 'alpha', 'alpha', 'delta', 'alpha', 'acinar', 'mesenchymal', 'delta', 'alpha', 'alpha', 'alpha', 'alpha', 'alpha', 'mesenchymal', 'alpha', 'acinar', 'delta', 'alpha', 'alpha', 'mesenchymal', 'beta', 'duct', 'delta', 'beta', 'beta', 'alpha', 'mesenchymal', 'beta', 'alpha', 'duct', 'beta', 'alpha', 'mesenchymal', 'alpha', 'duct', 'alpha', 'mesenchymal', 'mesenchymal', 'alpha', 'alpha', 'alpha', 'alpha', 'duct', 'delta', 'alpha', 'acinar', 'beta', 'alpha', 'acinar', 'alpha', 'alpha', 'acinar', 'alpha', 'alpha', 'beta', 'duct', 'delta', 'alpha', 'alpha', 'duct', 'delta', 'beta', 'alpha', 'beta', 'duct', 'delta', 'beta', 'beta', 'duct', 'alpha', 'alpha', 'duct', 'alpha', 'alpha', 'alpha', 'beta', 'duct', 'alpha', 'alpha', 'alpha', 'alpha', 'alpha', 'beta', 'duct', 'duct', 'beta', 'acinar', 'alpha', 'alpha', 'beta', 'mesenchymal', 'alpha', 'duct', 'alpha', 'alpha', 'alpha', 'pp', 'alpha', 'delta', 'mesenchymal', 'beta', 'acinar', 'alpha', 'beta', 'beta', 'alpha', 'alpha', 'delta', 'alpha', 'alpha', 'alpha', 'acinar', 'alpha', 'delta', 'alpha', 'duct', 'alpha', 'duct', 'alpha', 'acinar', 'beta', 'beta', 'delta', 'acinar', 'alpha', 'alpha', 'acinar', 'delta', 'mesenchymal', 'delta', 'delta', 'mesenchymal', 'duct', 'alpha', 'mesenchymal', 'acinar', 'alpha', 'alpha', 'alpha', 'alpha', 'beta', 'alpha', 'duct', 'alpha', 'beta', 'alpha', 'duct', 'alpha', 'delta', 'beta', 'delta', 'beta', 'alpha', 'alpha', 'alpha', 'beta', 'beta', 'alpha', 'alpha', 'alpha', 'alpha', 'alpha', 'beta', 'alpha', 'mesenchymal', 'alpha', 'duct', 'alpha', 'beta', 'alpha', 'alpha', 'beta', 'beta', 'mesenchymal', 'beta', 'duct', 'duct', 'duct', 'mesenchymal', 'alpha', 'duct', 'delta', 'endothelial', 'acinar', 'alpha', 'alpha', 'beta', 'alpha', 'alpha', 'delta', 'duct', 'alpha', 'beta', 'alpha', 'duct', 'delta', 'alpha', 'alpha', 'beta', 'alpha', 'beta', 'mesenchymal', 'beta', 'beta', 'mesenchymal', 'alpha', 'alpha', 'duct', 'beta', 'alpha', 'mesenchymal', 'alpha', 'beta', 'alpha', 'duct', 'alpha', 'delta', 'acinar', 'endothelial', 'beta', 'acinar', 'acinar', 'duct', 'alpha', 'delta', 'alpha', 'alpha', 'beta', 'beta', 'alpha', 'alpha', 'beta', 'mesenchymal', 'beta', 'alpha', 'alpha', 'alpha', 'delta', 'mesenchymal', 'beta', 'mesenchymal', 'beta', 'acinar', 'alpha', 'acinar', 'delta', 'alpha', 'beta', 'acinar', 'alpha', 'alpha', 'beta', 'beta', 'alpha', 'alpha', 'alpha', 'alpha', 'alpha', 'beta', 'acinar', 'duct', 'alpha', 'acinar', 'beta', 'delta', 'endothelial', 'delta', 'alpha', 'alpha', 'mesenchymal', 'alpha', 'duct', 'mesenchymal']\n"
     ]
    }
   ],
   "source": [
    "print(len(gene_symbol))\n",
    "print(len(barcode))\n",
    "print(original_labels)"
   ]
  },
  {
   "cell_type": "code",
   "execution_count": 13,
   "metadata": {},
   "outputs": [
    {
     "name": "stdout",
     "output_type": "stream",
     "text": [
      "shape of expression matrix [#cells,#genes]: (2119, 16117)\n",
      "shape of cell labels: 2119\n",
      "number of cell types: 8\n"
     ]
    }
   ],
   "source": [
    "print('shape of expression matrix [#cells,#genes]:', data_df_filtered.shape)\n",
    "print('shape of cell labels:', len(label))\n",
    "print('number of cell types:', len(str_labels))"
   ]
  },
  {
   "cell_type": "code",
   "execution_count": 14,
   "metadata": {},
   "outputs": [
    {
     "name": "stdout",
     "output_type": "stream",
     "text": [
      "Finished.\n"
     ]
    }
   ],
   "source": [
    "# Save the data\n",
    "data_dict = {}\n",
    "\n",
    "data_dict['gene_symbol'] = gene_symbol\n",
    "data_dict['count'] = data_df_filtered.values\n",
    "data_dict['str_labels'] = str_labels\n",
    "data_dict['label'] = label\n",
    "data_dict['barcode'] = barcode\n",
    "save_file = '../../dataset/pre_data/scRNAseq_datasets/Muraro.npz'\n",
    "np.savez(save_file, **data_dict)\n",
    "\n",
    "print('Finished.')"
   ]
  }
 ],
 "metadata": {
  "kernelspec": {
   "display_name": "p38tor112",
   "language": "python",
   "name": "python3"
  },
  "language_info": {
   "codemirror_mode": {
    "name": "ipython",
    "version": 3
   },
   "file_extension": ".py",
   "mimetype": "text/x-python",
   "name": "python",
   "nbconvert_exporter": "python",
   "pygments_lexer": "ipython3",
   "version": "3.8.18"
  }
 },
 "nbformat": 4,
 "nbformat_minor": 2
}
