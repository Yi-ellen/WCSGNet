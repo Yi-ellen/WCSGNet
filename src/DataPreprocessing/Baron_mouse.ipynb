{
 "cells": [
  {
   "cell_type": "markdown",
   "metadata": {},
   "source": [
    "|Data set |      Tissue    |cell type num| cell_num | gene_num | Protocol | Accession ID|\n",
    "|---------|----------------|-------------|----------|----------|----------|-------------|\n",
    "|Baron (Mouse) | Mouse pancreas | 13 | 1886 | 14861 | inDrop | GSE84133 |"
   ]
  },
  {
   "cell_type": "code",
   "execution_count": 1,
   "metadata": {},
   "outputs": [
    {
     "name": "stdout",
     "output_type": "stream",
     "text": [
      "                             X0610007P14Rik  X0610009B22Rik  X0610009E02Rik  \\\n",
      "mouse1_lib1.final_cell_0001               0               0               0   \n",
      "mouse1_lib1.final_cell_0002               2               0               0   \n",
      "mouse1_lib1.final_cell_0003               0               0               1   \n",
      "mouse1_lib1.final_cell_0004               0               0               0   \n",
      "mouse1_lib1.final_cell_0005               1               1               0   \n",
      "\n",
      "                             X0610009L18Rik  X0610009O20Rik  \n",
      "mouse1_lib1.final_cell_0001               0               0  \n",
      "mouse1_lib1.final_cell_0002               0               0  \n",
      "mouse1_lib1.final_cell_0003               0               0  \n",
      "mouse1_lib1.final_cell_0004               0               1  \n",
      "mouse1_lib1.final_cell_0005               0               0  \n",
      "(1886, 14861)\n",
      "X0610007P14Rik\n"
     ]
    }
   ],
   "source": [
    "import numpy as np\n",
    "import pandas as pd\n",
    "\n",
    "# Load the Filtered_MousePancreas_data.csv file, with the first column as the index representing unique cell identifiers.\n",
    "data_df = pd.read_csv('../../data/scRNAseq_Benchmark_datasets/Baron Mouse/Filtered_MousePancreas_data.csv', index_col=0)\n",
    "\n",
    "# Display the first 5 rows and 5 columns of the dataset\n",
    "print(data_df.iloc[:5, :5])\n",
    "\n",
    "# Print the shape of the dataset\n",
    "print(data_df.shape)\n",
    "\n",
    "# Print the name of the first column in the dataset\n",
    "print(data_df.columns[0])"
   ]
  },
  {
   "cell_type": "code",
   "execution_count": 4,
   "metadata": {},
   "outputs": [
    {
     "name": "stdout",
     "output_type": "stream",
     "text": [
      "         x\n",
      "0     beta\n",
      "1   ductal\n",
      "2    delta\n",
      "3  schwann\n",
      "4    delta\n",
      "(1886, 1)\n",
      "                                   x\n",
      "mouse1_lib1.final_cell_0001     beta\n",
      "mouse1_lib1.final_cell_0002   ductal\n",
      "mouse1_lib1.final_cell_0003    delta\n",
      "mouse1_lib1.final_cell_0004  schwann\n",
      "mouse1_lib1.final_cell_0005    delta\n"
     ]
    }
   ],
   "source": [
    "# Load cell type annotation data\n",
    "label_df = pd.read_csv('../../data/scRNAseq_Benchmark_datasets/Baron Mouse/Labels.csv', header=0)\n",
    "print(label_df.iloc[:5,:])\n",
    "print(label_df.shape)\n",
    "label_df = label_df.set_index(data_df.index)\n",
    "print(label_df.iloc[:5,:])"
   ]
  },
  {
   "cell_type": "code",
   "execution_count": 5,
   "metadata": {},
   "outputs": [
    {
     "name": "stdout",
     "output_type": "stream",
     "text": [
      "beta: 894\n",
      "ductal: 275\n",
      "delta: 218\n",
      "alpha: 191\n",
      "endothelial: 139\n",
      "quiescent_stellate: 47\n",
      "gamma: 41\n",
      "macrophage: 36\n",
      "activated_stellate: 14\n",
      "B_cell: 10\n",
      "immune_other: 8\n",
      "T_cell: 7\n",
      "schwann: 6\n"
     ]
    }
   ],
   "source": [
    "# Calculate the number of cells for each cell type\n",
    "cell_type_counts = label_df['x'].value_counts()\n",
    "\n",
    "# Print the cell type and its corresponding cell count\n",
    "for cell_type, count in cell_type_counts.items():\n",
    "    print(f\"{cell_type}: {count}\")"
   ]
  },
  {
   "cell_type": "code",
   "execution_count": 6,
   "metadata": {},
   "outputs": [
    {
     "name": "stdout",
     "output_type": "stream",
     "text": [
      "(1865, 14861)\n",
      "                             X0610007P14Rik  X0610009B22Rik  X0610009E02Rik  \\\n",
      "mouse1_lib1.final_cell_0001               0               0               0   \n",
      "mouse1_lib1.final_cell_0002               2               0               0   \n",
      "mouse1_lib1.final_cell_0003               0               0               1   \n",
      "mouse1_lib1.final_cell_0005               1               1               0   \n",
      "mouse1_lib1.final_cell_0006               0               0               0   \n",
      "\n",
      "                             X0610009L18Rik  X0610009O20Rik  X0610010F05Rik  \\\n",
      "mouse1_lib1.final_cell_0001               0               0               2   \n",
      "mouse1_lib1.final_cell_0002               0               0               1   \n",
      "mouse1_lib1.final_cell_0003               0               0               0   \n",
      "mouse1_lib1.final_cell_0005               0               0               0   \n",
      "mouse1_lib1.final_cell_0006               0               1               0   \n",
      "\n",
      "                             X0610010K14Rik  X0610011F06Rik  X0610012G03Rik  \\\n",
      "mouse1_lib1.final_cell_0001               0               1               0   \n",
      "mouse1_lib1.final_cell_0002               0               1               1   \n",
      "mouse1_lib1.final_cell_0003               0               1               2   \n",
      "mouse1_lib1.final_cell_0005               0               0               1   \n",
      "mouse1_lib1.final_cell_0006               0               1               0   \n",
      "\n",
      "                             X0610025J13Rik  ...  Zw10  Zwilch  Zwint  Zxdb  \\\n",
      "mouse1_lib1.final_cell_0001               0  ...     0       0      1     0   \n",
      "mouse1_lib1.final_cell_0002               0  ...     0       0      1     0   \n",
      "mouse1_lib1.final_cell_0003               0  ...     0       0      0     0   \n",
      "mouse1_lib1.final_cell_0005               0  ...     0       0      1     0   \n",
      "mouse1_lib1.final_cell_0006               0  ...     0       0      0     0   \n",
      "\n",
      "                             Zxdc  Zyg11b  Zyx  Zzef1  Zzz3  l7Rn6  \n",
      "mouse1_lib1.final_cell_0001     0       0    0      1     0      1  \n",
      "mouse1_lib1.final_cell_0002     0       0    1      0     0      1  \n",
      "mouse1_lib1.final_cell_0003     1       0    0      1     0      2  \n",
      "mouse1_lib1.final_cell_0005     0       0    0      1     1      0  \n",
      "mouse1_lib1.final_cell_0006     2       0    0      0     1      0  \n",
      "\n",
      "[5 rows x 14861 columns]\n",
      "(1865, 1)\n",
      "                                  x\n",
      "mouse1_lib1.final_cell_0001    beta\n",
      "mouse1_lib1.final_cell_0002  ductal\n",
      "mouse1_lib1.final_cell_0003   delta\n",
      "mouse1_lib1.final_cell_0005   delta\n",
      "mouse1_lib1.final_cell_0006    beta\n"
     ]
    }
   ],
   "source": [
    "# Calculate the number of cells for each cell type\n",
    "cell_type_counts = label_df['x'].value_counts()\n",
    "\n",
    "# Filter out cell types with at least 10 cells\n",
    "selected_cell_types = cell_type_counts[cell_type_counts >= 10].index\n",
    "\n",
    "# Retain corresponding cell data in the gene expression dataset and apply the same filter to the label dataset\n",
    "data_df_selected = data_df.loc[label_df[label_df['x'].isin(selected_cell_types)].index]\n",
    "label_df = label_df.loc[label_df['x'].isin(selected_cell_types)]\n",
    "\n",
    "# Print the shape and a preview of the filtered gene expression data\n",
    "print(data_df_selected.shape)\n",
    "print(data_df_selected.iloc[:5, :])\n",
    "\n",
    "# Print the shape and a preview of the filtered label data\n",
    "print(label_df.shape)\n",
    "print(label_df.iloc[:5, :])\n"
   ]
  },
  {
   "cell_type": "code",
   "execution_count": 7,
   "metadata": {},
   "outputs": [
    {
     "name": "stdout",
     "output_type": "stream",
     "text": [
      "beta: 894\n",
      "ductal: 275\n",
      "delta: 218\n",
      "alpha: 191\n",
      "endothelial: 139\n",
      "quiescent_stellate: 47\n",
      "gamma: 41\n",
      "macrophage: 36\n",
      "activated_stellate: 14\n",
      "B_cell: 10\n",
      "immune_other: 8\n",
      "T_cell: 7\n",
      "schwann: 6\n"
     ]
    }
   ],
   "source": [
    "for cell_type, count in cell_type_counts.items():\n",
    "    print(f\"{cell_type}: {count}\")"
   ]
  },
  {
   "cell_type": "code",
   "execution_count": 8,
   "metadata": {},
   "outputs": [
    {
     "name": "stdout",
     "output_type": "stream",
     "text": [
      "X0610007P14Rik    193\n",
      "X0610009B22Rik    255\n",
      "X0610009E02Rik     74\n",
      "X0610009L18Rik     48\n",
      "X0610009O20Rik    116\n",
      "                 ... \n",
      "Zyg11b            385\n",
      "Zyx               265\n",
      "Zzef1             353\n",
      "Zzz3              341\n",
      "l7Rn6             219\n",
      "Length: 14861, dtype: int64\n",
      "2353\n",
      "(1865, 12508)\n",
      "                             X0610007P14Rik  X0610009B22Rik  X0610009E02Rik  \\\n",
      "mouse1_lib1.final_cell_0001               0               0               0   \n",
      "mouse1_lib1.final_cell_0002               2               0               0   \n",
      "mouse1_lib1.final_cell_0003               0               0               1   \n",
      "mouse1_lib1.final_cell_0005               1               1               0   \n",
      "mouse1_lib1.final_cell_0006               0               0               0   \n",
      "\n",
      "                             X0610009L18Rik  X0610009O20Rik  X0610010F05Rik  \\\n",
      "mouse1_lib1.final_cell_0001               0               0               2   \n",
      "mouse1_lib1.final_cell_0002               0               0               1   \n",
      "mouse1_lib1.final_cell_0003               0               0               0   \n",
      "mouse1_lib1.final_cell_0005               0               0               0   \n",
      "mouse1_lib1.final_cell_0006               0               1               0   \n",
      "\n",
      "                             X0610010K14Rik  X0610011F06Rik  X0610012G03Rik  \\\n",
      "mouse1_lib1.final_cell_0001               0               1               0   \n",
      "mouse1_lib1.final_cell_0002               0               1               1   \n",
      "mouse1_lib1.final_cell_0003               0               1               2   \n",
      "mouse1_lib1.final_cell_0005               0               0               1   \n",
      "mouse1_lib1.final_cell_0006               0               1               0   \n",
      "\n",
      "                             X0610030E20Rik  ...  Zw10  Zwilch  Zwint  Zxdb  \\\n",
      "mouse1_lib1.final_cell_0001               0  ...     0       0      1     0   \n",
      "mouse1_lib1.final_cell_0002               0  ...     0       0      1     0   \n",
      "mouse1_lib1.final_cell_0003               0  ...     0       0      0     0   \n",
      "mouse1_lib1.final_cell_0005               0  ...     0       0      1     0   \n",
      "mouse1_lib1.final_cell_0006               1  ...     0       0      0     0   \n",
      "\n",
      "                             Zxdc  Zyg11b  Zyx  Zzef1  Zzz3  l7Rn6  \n",
      "mouse1_lib1.final_cell_0001     0       0    0      1     0      1  \n",
      "mouse1_lib1.final_cell_0002     0       0    1      0     0      1  \n",
      "mouse1_lib1.final_cell_0003     1       0    0      1     0      2  \n",
      "mouse1_lib1.final_cell_0005     0       0    0      1     1      0  \n",
      "mouse1_lib1.final_cell_0006     2       0    0      0     1      0  \n",
      "\n",
      "[5 rows x 12508 columns]\n",
      "X0610007P14Rik    int64\n",
      "X0610009B22Rik    int64\n",
      "X0610009E02Rik    int64\n",
      "X0610009L18Rik    int64\n",
      "X0610009O20Rik    int64\n",
      "dtype: object\n"
     ]
    }
   ],
   "source": [
    "# Calculate the number of cells in which each gene is expressed\n",
    "# Assume that a gene is expressed in a cell if its expression value is greater than 0\n",
    "genes_expressed_in_cells = (data_df_selected > 0).sum(axis=0)\n",
    "\n",
    "# Print the number of cells expressing each gene\n",
    "print(genes_expressed_in_cells)\n",
    "\n",
    "# Print the count of genes expressed in fewer than 10 cells\n",
    "print(len(genes_expressed_in_cells[genes_expressed_in_cells < 10]))\n",
    "\n",
    "# Select genes expressed in at least 10 cells\n",
    "genes_to_keep = genes_expressed_in_cells[genes_expressed_in_cells >= 10].index\n",
    "\n",
    "# Retain only the selected genes in the dataset\n",
    "data_df_filtered = data_df_selected[genes_to_keep]\n",
    "\n",
    "# Display the shape and a preview of the filtered dataset\n",
    "print(data_df_filtered.shape)\n",
    "print(data_df_filtered.iloc[:5, :])\n",
    "\n",
    "# Display the data types of the first few columns in the filtered dataset\n",
    "print(data_df_filtered.dtypes.head())"
   ]
  },
  {
   "cell_type": "code",
   "execution_count": 9,
   "metadata": {},
   "outputs": [
    {
     "name": "stdout",
     "output_type": "stream",
     "text": [
      "['X0610007P14Rik' 'X0610009B22Rik' 'X0610009E02Rik' ... 'Zzef1' 'Zzz3'\n",
      " 'l7Rn6']\n",
      "12508\n"
     ]
    }
   ],
   "source": [
    "gene_symbol = data_df_filtered.columns.values\n",
    "print(gene_symbol)\n",
    "print(len(gene_symbol))"
   ]
  },
  {
   "cell_type": "code",
   "execution_count": 10,
   "metadata": {},
   "outputs": [
    {
     "name": "stdout",
     "output_type": "stream",
     "text": [
      "beta: 894\n",
      "ductal: 275\n",
      "delta: 218\n",
      "alpha: 191\n",
      "endothelial: 139\n",
      "quiescent_stellate: 47\n",
      "gamma: 41\n",
      "macrophage: 36\n",
      "activated_stellate: 14\n",
      "B_cell: 10\n"
     ]
    }
   ],
   "source": [
    "# Calculate the number of cells for each cell type\n",
    "cell_type_counts = label_df['x'].value_counts()\n",
    "\n",
    "# Print the cell type and its corresponding cell count\n",
    "for cell_type, count in cell_type_counts.items():\n",
    "    print(f\"{cell_type}: {count}\")\n"
   ]
  },
  {
   "cell_type": "code",
   "execution_count": 11,
   "metadata": {},
   "outputs": [
    {
     "name": "stdout",
     "output_type": "stream",
     "text": [
      "                             X0610007P14Rik  X0610009B22Rik  X0610009E02Rik  \\\n",
      "mouse1_lib1.final_cell_0001             0.0             0.0             0.0   \n",
      "mouse1_lib1.final_cell_0002             2.0             0.0             0.0   \n",
      "mouse1_lib1.final_cell_0003             0.0             0.0             1.0   \n",
      "mouse1_lib1.final_cell_0005             1.0             1.0             0.0   \n",
      "mouse1_lib1.final_cell_0006             0.0             0.0             0.0   \n",
      "\n",
      "                             X0610009L18Rik  X0610009O20Rik  X0610010F05Rik  \\\n",
      "mouse1_lib1.final_cell_0001             0.0             0.0             2.0   \n",
      "mouse1_lib1.final_cell_0002             0.0             0.0             1.0   \n",
      "mouse1_lib1.final_cell_0003             0.0             0.0             0.0   \n",
      "mouse1_lib1.final_cell_0005             0.0             0.0             0.0   \n",
      "mouse1_lib1.final_cell_0006             0.0             1.0             0.0   \n",
      "\n",
      "                             X0610010K14Rik  X0610011F06Rik  X0610012G03Rik  \\\n",
      "mouse1_lib1.final_cell_0001             0.0             1.0             0.0   \n",
      "mouse1_lib1.final_cell_0002             0.0             1.0             1.0   \n",
      "mouse1_lib1.final_cell_0003             0.0             1.0             2.0   \n",
      "mouse1_lib1.final_cell_0005             0.0             0.0             1.0   \n",
      "mouse1_lib1.final_cell_0006             0.0             1.0             0.0   \n",
      "\n",
      "                             X0610030E20Rik  ...  Zw10  Zwilch  Zwint  Zxdb  \\\n",
      "mouse1_lib1.final_cell_0001             0.0  ...   0.0     0.0    1.0   0.0   \n",
      "mouse1_lib1.final_cell_0002             0.0  ...   0.0     0.0    1.0   0.0   \n",
      "mouse1_lib1.final_cell_0003             0.0  ...   0.0     0.0    0.0   0.0   \n",
      "mouse1_lib1.final_cell_0005             0.0  ...   0.0     0.0    1.0   0.0   \n",
      "mouse1_lib1.final_cell_0006             1.0  ...   0.0     0.0    0.0   0.0   \n",
      "\n",
      "                             Zxdc  Zyg11b  Zyx  Zzef1  Zzz3  l7Rn6  \n",
      "mouse1_lib1.final_cell_0001   0.0     0.0  0.0    1.0   0.0    1.0  \n",
      "mouse1_lib1.final_cell_0002   0.0     0.0  1.0    0.0   0.0    1.0  \n",
      "mouse1_lib1.final_cell_0003   1.0     0.0  0.0    1.0   0.0    2.0  \n",
      "mouse1_lib1.final_cell_0005   0.0     0.0  0.0    1.0   1.0    0.0  \n",
      "mouse1_lib1.final_cell_0006   2.0     0.0  0.0    0.0   1.0    0.0  \n",
      "\n",
      "[5 rows x 12508 columns]\n",
      "X0610007P14Rik    float32\n",
      "X0610009B22Rik    float32\n",
      "X0610009E02Rik    float32\n",
      "X0610009L18Rik    float32\n",
      "X0610009O20Rik    float32\n",
      "dtype: object\n"
     ]
    }
   ],
   "source": [
    "# Convert all data types in data_df_filtered to float32\n",
    "data_df_filtered = data_df_filtered.astype('float32')\n",
    "print(data_df_filtered.iloc[:5, :])\n",
    "print(data_df_filtered.dtypes.head())"
   ]
  },
  {
   "cell_type": "code",
   "execution_count": 12,
   "metadata": {},
   "outputs": [
    {
     "name": "stdout",
     "output_type": "stream",
     "text": [
      "<class 'list'>\n",
      "['B_cell', 'activated_stellate', 'alpha', 'beta', 'delta', 'ductal', 'endothelial', 'gamma', 'macrophage', 'quiescent_stellate']\n",
      "<class 'list'>\n",
      "[3, 5, 4, 4, 3, 3, 3, 3, 5, 5, 3, 3, 4, 3, 5, 3, 9, 5, 5, 3, 3, 3, 4, 9, 6, 5, 5, 3, 5, 5, 5, 7, 3, 3, 5, 5, 5, 4, 3, 3, 5, 4, 6, 3, 3, 2, 5, 3, 5, 7, 3, 5, 5, 5, 3, 5, 6, 5, 3, 3, 5, 5, 6, 3, 3, 5, 3, 6, 5, 3, 3, 6, 3, 3, 5, 3, 5, 9, 3, 5, 5, 4, 2, 5, 3, 5, 5, 3, 5, 4, 6, 3, 3, 5, 4, 3, 5, 5, 6, 3, 6, 3, 5, 9, 3, 9, 3, 3, 9, 4, 8, 3, 3, 6, 8, 3, 3, 3, 6, 3, 4, 3, 8, 3, 9, 5, 3, 3, 3, 3, 3, 5, 3, 5, 4, 3, 3, 2, 5, 3, 3, 3, 3, 6, 4, 3, 3, 3, 3, 5, 3, 5, 3, 5, 4, 6, 3, 5, 8, 4, 3, 3, 5, 4, 7, 3, 3, 3, 3, 3, 3, 3, 5, 5, 3, 5, 3, 3, 3, 6, 5, 5, 5, 3, 6, 6, 7, 3, 3, 5, 5, 5, 9, 3, 3, 3, 3, 5, 5, 5, 6, 6, 4, 3, 9, 6, 3, 5, 3, 4, 3, 3, 5, 3, 4, 3, 3, 4, 5, 1, 3, 3, 4, 4, 5, 7, 3, 3, 7, 5, 6, 9, 6, 5, 9, 5, 5, 3, 3, 4, 3, 5, 4, 4, 3, 3, 5, 5, 6, 3, 9, 4, 5, 5, 3, 5, 3, 5, 5, 5, 0, 5, 5, 5, 3, 5, 3, 5, 5, 5, 5, 6, 6, 5, 3, 4, 2, 3, 3, 5, 3, 2, 5, 5, 5, 9, 3, 5, 5, 6, 3, 5, 5, 5, 5, 5, 3, 5, 5, 5, 5, 5, 6, 3, 3, 3, 6, 5, 3, 3, 3, 5, 3, 3, 5, 3, 5, 6, 5, 6, 3, 6, 5, 5, 3, 5, 6, 6, 3, 5, 3, 3, 3, 3, 4, 3, 5, 3, 5, 6, 3, 5, 5, 3, 3, 3, 3, 5, 6, 8, 3, 5, 3, 5, 3, 3, 4, 3, 8, 3, 3, 3, 3, 9, 3, 6, 3, 3, 3, 8, 5, 3, 6, 3, 3, 4, 8, 5, 3, 3, 5, 3, 3, 4, 9, 3, 3, 5, 3, 6, 3, 4, 3, 4, 6, 3, 3, 5, 7, 7, 5, 3, 6, 3, 3, 4, 5, 3, 4, 6, 7, 5, 8, 9, 5, 3, 3, 3, 3, 3, 4, 5, 3, 5, 4, 4, 3, 3, 6, 3, 4, 3, 4, 3, 2, 5, 3, 9, 5, 3, 6, 5, 3, 3, 3, 3, 3, 3, 3, 6, 3, 5, 3, 6, 3, 3, 8, 3, 4, 3, 3, 3, 3, 3, 5, 3, 3, 3, 7, 3, 6, 8, 6, 3, 3, 5, 6, 3, 3, 3, 4, 3, 9, 4, 3, 3, 3, 9, 4, 5, 5, 3, 3, 6, 3, 3, 4, 9, 7, 4, 3, 4, 3, 5, 5, 3, 3, 4, 3, 6, 4, 4, 3, 4, 2, 9, 3, 7, 6, 4, 5, 5, 3, 4, 3, 4, 3, 5, 6, 6, 5, 2, 4, 4, 3, 3, 6, 3, 3, 1, 4, 5, 8, 3, 4, 3, 3, 3, 3, 5, 5, 5, 5, 5, 5, 5, 5, 9, 4, 6, 5, 6, 3, 3, 5, 4, 2, 6, 3, 5, 3, 5, 5, 5, 5, 5, 5, 5, 5, 3, 5, 7, 4, 3, 3, 4, 5, 4, 9, 5, 5, 6, 5, 3, 5, 5, 5, 5, 5, 4, 3, 3, 5, 6, 6, 4, 4, 5, 3, 3, 3, 4, 3, 3, 3, 6, 6, 5, 9, 3, 3, 3, 3, 3, 5, 5, 3, 3, 5, 3, 3, 5, 5, 5, 5, 3, 3, 5, 3, 1, 3, 3, 5, 3, 3, 9, 5, 5, 4, 5, 5, 5, 3, 3, 3, 9, 6, 8, 3, 5, 3, 6, 3, 7, 6, 3, 3, 3, 3, 3, 3, 3, 3, 4, 3, 6, 3, 3, 5, 4, 4, 3, 4, 3, 6, 4, 5, 6, 3, 3, 3, 3, 4, 5, 3, 4, 3, 3, 3, 3, 3, 3, 3, 4, 5, 3, 3, 9, 5, 4, 3, 3, 3, 5, 3, 5, 5, 5, 3, 3, 5, 4, 6, 5, 3, 5, 5, 4, 9, 6, 3, 3, 4, 5, 5, 3, 4, 3, 5, 5, 3, 3, 3, 6, 5, 3, 8, 3, 3, 5, 3, 3, 3, 3, 3, 3, 5, 3, 3, 3, 8, 9, 5, 3, 3, 5, 4, 5, 3, 3, 3, 3, 5, 5, 1, 5, 5, 3, 0, 5, 8, 4, 3, 8, 3, 3, 5, 5, 5, 5, 3, 5, 5, 5, 5, 3, 5, 5, 5, 3, 5, 5, 4, 4, 5, 6, 5, 5, 5, 6, 5, 3, 3, 3, 5, 3, 3, 3, 3, 4, 3, 3, 3, 2, 4, 3, 3, 3, 3, 3, 3, 3, 3, 3, 2, 3, 3, 3, 3, 3, 5, 3, 3, 4, 4, 2, 3, 2, 3, 7, 4, 3, 4, 3, 4, 4, 3, 3, 2, 3, 3, 3, 3, 2, 3, 3, 2, 3, 3, 4, 4, 3, 2, 5, 4, 3, 3, 2, 2, 3, 2, 2, 2, 3, 3, 3, 2, 3, 6, 3, 3, 3, 4, 0, 2, 2, 5, 3, 3, 3, 3, 4, 2, 3, 3, 3, 3, 4, 4, 4, 4, 3, 3, 3, 4, 3, 3, 2, 3, 4, 7, 3, 4, 3, 3, 3, 4, 3, 7, 7, 5, 3, 3, 3, 3, 3, 3, 2, 2, 6, 3, 3, 3, 3, 3, 3, 3, 3, 2, 3, 3, 5, 5, 3, 7, 4, 7, 3, 2, 2, 3, 3, 5, 2, 3, 3, 2, 2, 2, 3, 3, 3, 7, 4, 3, 2, 3, 4, 3, 4, 3, 2, 3, 4, 3, 2, 3, 3, 2, 3, 3, 2, 2, 3, 2, 3, 2, 2, 3, 2, 3, 3, 3, 3, 2, 3, 2, 3, 8, 2, 3, 3, 3, 4, 7, 8, 7, 3, 8, 2, 2, 3, 3, 6, 3, 3, 4, 7, 3, 3, 3, 4, 3, 4, 3, 3, 3, 3, 2, 2, 7, 8, 3, 3, 2, 4, 1, 3, 3, 6, 3, 3, 3, 3, 3, 6, 2, 2, 2, 3, 8, 8, 3, 3, 3, 4, 3, 3, 4, 3, 4, 4, 6, 4, 3, 3, 5, 5, 2, 6, 3, 2, 2, 6, 3, 3, 3, 3, 3, 0, 3, 9, 2, 2, 1, 6, 3, 3, 7, 6, 3, 1, 2, 9, 3, 4, 3, 6, 3, 3, 0, 1, 8, 2, 6, 8, 3, 4, 3, 4, 4, 3, 3, 3, 4, 3, 9, 0, 6, 6, 3, 3, 3, 4, 3, 3, 5, 3, 3, 3, 3, 3, 7, 3, 2, 3, 3, 3, 3, 3, 5, 2, 2, 3, 2, 4, 3, 2, 3, 4, 2, 3, 3, 2, 4, 2, 3, 3, 3, 7, 7, 3, 3, 3, 3, 4, 3, 2, 3, 2, 2, 2, 3, 4, 4, 3, 3, 3, 3, 3, 3, 4, 3, 3, 3, 3, 2, 4, 3, 4, 3, 3, 3, 3, 3, 4, 3, 3, 4, 4, 2, 4, 3, 4, 4, 3, 4, 4, 3, 2, 3, 2, 2, 3, 2, 3, 7, 3, 3, 3, 4, 3, 3, 3, 3, 3, 5, 3, 3, 4, 2, 2, 3, 6, 2, 4, 3, 3, 3, 3, 4, 3, 2, 3, 3, 3, 3, 3, 2, 7, 3, 3, 3, 2, 3, 3, 4, 3, 8, 3, 2, 2, 3, 4, 3, 6, 6, 3, 2, 3, 3, 3, 3, 3, 3, 3, 3, 2, 3, 3, 2, 4, 3, 4, 3, 6, 3, 7, 3, 4, 3, 3, 4, 2, 3, 4, 3, 3, 2, 3, 3, 3, 2, 4, 6, 3, 5, 3, 3, 4, 2, 3, 3, 2, 6, 3, 3, 6, 3, 3, 2, 2, 1, 4, 2, 3, 5, 3, 3, 3, 6, 6, 3, 7, 3, 9, 3, 7, 2, 3, 4, 5, 3, 3, 2, 3, 2, 2, 3, 3, 8, 3, 3, 5, 2, 8, 4, 6, 2, 2, 4, 2, 2, 3, 4, 6, 3, 1, 3, 6, 1, 3, 3, 2, 4, 2, 3, 3, 2, 4, 3, 5, 8, 3, 3, 0, 3, 6, 6, 6, 2, 3, 3, 4, 3, 6, 3, 2, 3, 6, 2, 3, 6, 2, 4, 3, 3, 3, 4, 9, 3, 2, 6, 5, 3, 3, 6, 3, 5, 8, 9, 3, 3, 3, 4, 6, 2, 3, 3, 3, 4, 3, 3, 3, 3, 3, 3, 4, 2, 8, 4, 3, 2, 9, 9, 4, 3, 4, 4, 9, 4, 9, 4, 4, 2, 5, 4, 3, 0, 4, 4, 4, 4, 9, 6, 3, 3, 3, 3, 3, 3, 3, 3, 3, 3, 3, 3, 4, 4, 3, 1, 3, 3, 3, 2, 2, 3, 3, 3, 3, 2, 3, 3, 3, 2, 3, 3, 4, 3, 3, 3, 3, 7, 3, 4, 3, 3, 3, 3, 3, 3, 4, 3, 2, 3, 3, 3, 3, 3, 3, 3, 3, 3, 3, 5, 3, 2, 2, 2, 3, 3, 5, 2, 3, 4, 2, 4, 4, 2, 3, 2, 3, 3, 4, 2, 3, 3, 3, 2, 2, 3, 3, 3, 2, 3, 2, 2, 2, 3, 4, 3, 3, 2, 3, 3, 3, 3, 4, 2, 3, 2, 2, 3, 3, 2, 3, 3, 2, 4, 3, 2, 3, 3, 3, 3, 3, 3, 4, 4, 3, 3, 3, 2, 5, 3, 3, 3, 3, 3, 3, 3, 3, 4, 3, 2, 3, 4, 2, 0, 3, 2, 4, 3, 2, 4, 2, 3, 2, 3, 2, 2, 3, 2, 3, 3, 2, 3, 8, 3, 3, 2, 3, 3, 5, 7, 3, 2, 3, 3, 3, 4, 3, 7, 6, 2, 2, 2, 2, 3, 3, 2, 3, 3, 3, 6, 2, 7, 3, 3, 2, 4, 5, 3, 3, 3, 2, 5, 2, 6, 2, 3, 2, 2, 1, 4, 4, 5, 3, 3, 3, 2, 3, 7, 3, 3, 3, 6, 5, 3, 2, 6, 3, 3, 3, 8, 8, 3, 3, 2, 9, 2, 3, 6, 2, 6, 3, 3, 3, 3, 3, 3, 2, 2, 6, 3, 6, 3, 4, 3, 3, 3, 6, 3, 3, 6, 3, 6, 3, 3, 3, 3, 7, 3, 3, 2, 5, 1, 3, 3, 4, 4, 2, 3, 4, 3, 2, 6, 3, 3, 3, 3, 6, 2, 3, 6, 2, 3, 2, 6, 6, 3, 3, 3, 3, 3, 3, 3, 6, 4, 9, 6, 3, 8, 3, 3, 3, 6, 9, 6, 6, 4, 3, 3, 4, 3, 7, 6, 3, 3, 2, 8, 2, 5, 3, 3, 3, 3, 5, 3, 6, 2, 6, 4, 3, 3, 3, 2, 3, 9, 3, 2, 4, 3, 3, 6, 6, 4, 3, 3, 5, 9, 5, 3, 3, 3, 3, 3, 6, 3, 6, 3, 0, 6, 9, 3, 3, 3, 3, 4, 5, 5, 3, 3, 3, 3, 4, 4, 4, 6, 5, 3, 3, 5, 9, 5]\n",
      "<class 'numpy.ndarray'>\n",
      "['mouse1_lib1.final_cell_0001' 'mouse1_lib1.final_cell_0002'\n",
      " 'mouse1_lib1.final_cell_0003' ... 'mouse2_lib3.final_cell_0393'\n",
      " 'mouse2_lib3.final_cell_0394' 'mouse2_lib3.final_cell_0395']\n",
      "<class 'numpy.ndarray'>\n",
      "['X0610007P14Rik' 'X0610009B22Rik' 'X0610009E02Rik' ... 'Zzef1' 'Zzz3'\n",
      " 'l7Rn6']\n",
      "12508\n"
     ]
    }
   ],
   "source": [
    "str_labels = np.unique(label_df.values).tolist()\n",
    "label = [str_labels.index(x) for x in label_df.values]\n",
    "\n",
    "# Convert numeric labels back to string labels\n",
    "original_labels = [str_labels[x] for x in label]\n",
    "barcode = data_df_filtered.index.values\n",
    "gene_symbol = data_df_filtered.columns.values\n",
    "print(type(str_labels))\n",
    "print(str_labels)\n",
    "print(type(label))\n",
    "print(label)\n",
    "print(type(barcode))\n",
    "print(barcode)\n",
    "print(type(gene_symbol))\n",
    "print(gene_symbol)\n",
    "print(len(gene_symbol))"
   ]
  },
  {
   "cell_type": "code",
   "execution_count": 13,
   "metadata": {},
   "outputs": [
    {
     "name": "stdout",
     "output_type": "stream",
     "text": [
      "B_cell: 0\n",
      "activated_stellate: 1\n",
      "alpha: 2\n",
      "beta: 3\n",
      "delta: 4\n",
      "ductal: 5\n",
      "endothelial: 6\n",
      "gamma: 7\n",
      "macrophage: 8\n",
      "quiescent_stellate: 9\n"
     ]
    }
   ],
   "source": [
    "# Create a mapping dictionary from cell type labels to numeric indices\n",
    "label_to_index = {label1: i for i, label1 in enumerate(str_labels)}\n",
    "\n",
    "# Print the mapping of cell type labels to their numeric indices\n",
    "for label1, index in label_to_index.items():\n",
    "    print(f\"{label1}: {index}\")\n"
   ]
  },
  {
   "cell_type": "code",
   "execution_count": 14,
   "metadata": {},
   "outputs": [
    {
     "name": "stdout",
     "output_type": "stream",
     "text": [
      "12508\n",
      "1865\n",
      "1865\n",
      "(1865, 1)\n"
     ]
    }
   ],
   "source": [
    "print(len(gene_symbol))\n",
    "print(len(barcode))\n",
    "print(len(label))\n",
    "print(label_df.shape)"
   ]
  },
  {
   "cell_type": "code",
   "execution_count": 15,
   "metadata": {},
   "outputs": [
    {
     "name": "stdout",
     "output_type": "stream",
     "text": [
      "['beta', 'ductal', 'delta', 'delta', 'beta', 'beta', 'beta', 'beta', 'ductal', 'ductal', 'beta', 'beta', 'delta', 'beta', 'ductal', 'beta', 'quiescent_stellate', 'ductal', 'ductal', 'beta', 'beta', 'beta', 'delta', 'quiescent_stellate', 'endothelial', 'ductal', 'ductal', 'beta', 'ductal', 'ductal', 'ductal', 'gamma', 'beta', 'beta', 'ductal', 'ductal', 'ductal', 'delta', 'beta', 'beta', 'ductal', 'delta', 'endothelial', 'beta', 'beta', 'alpha', 'ductal', 'beta', 'ductal', 'gamma', 'beta', 'ductal', 'ductal', 'ductal', 'beta', 'ductal', 'endothelial', 'ductal', 'beta', 'beta', 'ductal', 'ductal', 'endothelial', 'beta', 'beta', 'ductal', 'beta', 'endothelial', 'ductal', 'beta', 'beta', 'endothelial', 'beta', 'beta', 'ductal', 'beta', 'ductal', 'quiescent_stellate', 'beta', 'ductal', 'ductal', 'delta', 'alpha', 'ductal', 'beta', 'ductal', 'ductal', 'beta', 'ductal', 'delta', 'endothelial', 'beta', 'beta', 'ductal', 'delta', 'beta', 'ductal', 'ductal', 'endothelial', 'beta', 'endothelial', 'beta', 'ductal', 'quiescent_stellate', 'beta', 'quiescent_stellate', 'beta', 'beta', 'quiescent_stellate', 'delta', 'macrophage', 'beta', 'beta', 'endothelial', 'macrophage', 'beta', 'beta', 'beta', 'endothelial', 'beta', 'delta', 'beta', 'macrophage', 'beta', 'quiescent_stellate', 'ductal', 'beta', 'beta', 'beta', 'beta', 'beta', 'ductal', 'beta', 'ductal', 'delta', 'beta', 'beta', 'alpha', 'ductal', 'beta', 'beta', 'beta', 'beta', 'endothelial', 'delta', 'beta', 'beta', 'beta', 'beta', 'ductal', 'beta', 'ductal', 'beta', 'ductal', 'delta', 'endothelial', 'beta', 'ductal', 'macrophage', 'delta', 'beta', 'beta', 'ductal', 'delta', 'gamma', 'beta', 'beta', 'beta', 'beta', 'beta', 'beta', 'beta', 'ductal', 'ductal', 'beta', 'ductal', 'beta', 'beta', 'beta', 'endothelial', 'ductal', 'ductal', 'ductal', 'beta', 'endothelial', 'endothelial', 'gamma', 'beta', 'beta', 'ductal', 'ductal', 'ductal', 'quiescent_stellate', 'beta', 'beta', 'beta', 'beta', 'ductal', 'ductal', 'ductal', 'endothelial', 'endothelial', 'delta', 'beta', 'quiescent_stellate', 'endothelial', 'beta', 'ductal', 'beta', 'delta', 'beta', 'beta', 'ductal', 'beta', 'delta', 'beta', 'beta', 'delta', 'ductal', 'activated_stellate', 'beta', 'beta', 'delta', 'delta', 'ductal', 'gamma', 'beta', 'beta', 'gamma', 'ductal', 'endothelial', 'quiescent_stellate', 'endothelial', 'ductal', 'quiescent_stellate', 'ductal', 'ductal', 'beta', 'beta', 'delta', 'beta', 'ductal', 'delta', 'delta', 'beta', 'beta', 'ductal', 'ductal', 'endothelial', 'beta', 'quiescent_stellate', 'delta', 'ductal', 'ductal', 'beta', 'ductal', 'beta', 'ductal', 'ductal', 'ductal', 'B_cell', 'ductal', 'ductal', 'ductal', 'beta', 'ductal', 'beta', 'ductal', 'ductal', 'ductal', 'ductal', 'endothelial', 'endothelial', 'ductal', 'beta', 'delta', 'alpha', 'beta', 'beta', 'ductal', 'beta', 'alpha', 'ductal', 'ductal', 'ductal', 'quiescent_stellate', 'beta', 'ductal', 'ductal', 'endothelial', 'beta', 'ductal', 'ductal', 'ductal', 'ductal', 'ductal', 'beta', 'ductal', 'ductal', 'ductal', 'ductal', 'ductal', 'endothelial', 'beta', 'beta', 'beta', 'endothelial', 'ductal', 'beta', 'beta', 'beta', 'ductal', 'beta', 'beta', 'ductal', 'beta', 'ductal', 'endothelial', 'ductal', 'endothelial', 'beta', 'endothelial', 'ductal', 'ductal', 'beta', 'ductal', 'endothelial', 'endothelial', 'beta', 'ductal', 'beta', 'beta', 'beta', 'beta', 'delta', 'beta', 'ductal', 'beta', 'ductal', 'endothelial', 'beta', 'ductal', 'ductal', 'beta', 'beta', 'beta', 'beta', 'ductal', 'endothelial', 'macrophage', 'beta', 'ductal', 'beta', 'ductal', 'beta', 'beta', 'delta', 'beta', 'macrophage', 'beta', 'beta', 'beta', 'beta', 'quiescent_stellate', 'beta', 'endothelial', 'beta', 'beta', 'beta', 'macrophage', 'ductal', 'beta', 'endothelial', 'beta', 'beta', 'delta', 'macrophage', 'ductal', 'beta', 'beta', 'ductal', 'beta', 'beta', 'delta', 'quiescent_stellate', 'beta', 'beta', 'ductal', 'beta', 'endothelial', 'beta', 'delta', 'beta', 'delta', 'endothelial', 'beta', 'beta', 'ductal', 'gamma', 'gamma', 'ductal', 'beta', 'endothelial', 'beta', 'beta', 'delta', 'ductal', 'beta', 'delta', 'endothelial', 'gamma', 'ductal', 'macrophage', 'quiescent_stellate', 'ductal', 'beta', 'beta', 'beta', 'beta', 'beta', 'delta', 'ductal', 'beta', 'ductal', 'delta', 'delta', 'beta', 'beta', 'endothelial', 'beta', 'delta', 'beta', 'delta', 'beta', 'alpha', 'ductal', 'beta', 'quiescent_stellate', 'ductal', 'beta', 'endothelial', 'ductal', 'beta', 'beta', 'beta', 'beta', 'beta', 'beta', 'beta', 'endothelial', 'beta', 'ductal', 'beta', 'endothelial', 'beta', 'beta', 'macrophage', 'beta', 'delta', 'beta', 'beta', 'beta', 'beta', 'beta', 'ductal', 'beta', 'beta', 'beta', 'gamma', 'beta', 'endothelial', 'macrophage', 'endothelial', 'beta', 'beta', 'ductal', 'endothelial', 'beta', 'beta', 'beta', 'delta', 'beta', 'quiescent_stellate', 'delta', 'beta', 'beta', 'beta', 'quiescent_stellate', 'delta', 'ductal', 'ductal', 'beta', 'beta', 'endothelial', 'beta', 'beta', 'delta', 'quiescent_stellate', 'gamma', 'delta', 'beta', 'delta', 'beta', 'ductal', 'ductal', 'beta', 'beta', 'delta', 'beta', 'endothelial', 'delta', 'delta', 'beta', 'delta', 'alpha', 'quiescent_stellate', 'beta', 'gamma', 'endothelial', 'delta', 'ductal', 'ductal', 'beta', 'delta', 'beta', 'delta', 'beta', 'ductal', 'endothelial', 'endothelial', 'ductal', 'alpha', 'delta', 'delta', 'beta', 'beta', 'endothelial', 'beta', 'beta', 'activated_stellate', 'delta', 'ductal', 'macrophage', 'beta', 'delta', 'beta', 'beta', 'beta', 'beta', 'ductal', 'ductal', 'ductal', 'ductal', 'ductal', 'ductal', 'ductal', 'ductal', 'quiescent_stellate', 'delta', 'endothelial', 'ductal', 'endothelial', 'beta', 'beta', 'ductal', 'delta', 'alpha', 'endothelial', 'beta', 'ductal', 'beta', 'ductal', 'ductal', 'ductal', 'ductal', 'ductal', 'ductal', 'ductal', 'ductal', 'beta', 'ductal', 'gamma', 'delta', 'beta', 'beta', 'delta', 'ductal', 'delta', 'quiescent_stellate', 'ductal', 'ductal', 'endothelial', 'ductal', 'beta', 'ductal', 'ductal', 'ductal', 'ductal', 'ductal', 'delta', 'beta', 'beta', 'ductal', 'endothelial', 'endothelial', 'delta', 'delta', 'ductal', 'beta', 'beta', 'beta', 'delta', 'beta', 'beta', 'beta', 'endothelial', 'endothelial', 'ductal', 'quiescent_stellate', 'beta', 'beta', 'beta', 'beta', 'beta', 'ductal', 'ductal', 'beta', 'beta', 'ductal', 'beta', 'beta', 'ductal', 'ductal', 'ductal', 'ductal', 'beta', 'beta', 'ductal', 'beta', 'activated_stellate', 'beta', 'beta', 'ductal', 'beta', 'beta', 'quiescent_stellate', 'ductal', 'ductal', 'delta', 'ductal', 'ductal', 'ductal', 'beta', 'beta', 'beta', 'quiescent_stellate', 'endothelial', 'macrophage', 'beta', 'ductal', 'beta', 'endothelial', 'beta', 'gamma', 'endothelial', 'beta', 'beta', 'beta', 'beta', 'beta', 'beta', 'beta', 'beta', 'delta', 'beta', 'endothelial', 'beta', 'beta', 'ductal', 'delta', 'delta', 'beta', 'delta', 'beta', 'endothelial', 'delta', 'ductal', 'endothelial', 'beta', 'beta', 'beta', 'beta', 'delta', 'ductal', 'beta', 'delta', 'beta', 'beta', 'beta', 'beta', 'beta', 'beta', 'beta', 'delta', 'ductal', 'beta', 'beta', 'quiescent_stellate', 'ductal', 'delta', 'beta', 'beta', 'beta', 'ductal', 'beta', 'ductal', 'ductal', 'ductal', 'beta', 'beta', 'ductal', 'delta', 'endothelial', 'ductal', 'beta', 'ductal', 'ductal', 'delta', 'quiescent_stellate', 'endothelial', 'beta', 'beta', 'delta', 'ductal', 'ductal', 'beta', 'delta', 'beta', 'ductal', 'ductal', 'beta', 'beta', 'beta', 'endothelial', 'ductal', 'beta', 'macrophage', 'beta', 'beta', 'ductal', 'beta', 'beta', 'beta', 'beta', 'beta', 'beta', 'ductal', 'beta', 'beta', 'beta', 'macrophage', 'quiescent_stellate', 'ductal', 'beta', 'beta', 'ductal', 'delta', 'ductal', 'beta', 'beta', 'beta', 'beta', 'ductal', 'ductal', 'activated_stellate', 'ductal', 'ductal', 'beta', 'B_cell', 'ductal', 'macrophage', 'delta', 'beta', 'macrophage', 'beta', 'beta', 'ductal', 'ductal', 'ductal', 'ductal', 'beta', 'ductal', 'ductal', 'ductal', 'ductal', 'beta', 'ductal', 'ductal', 'ductal', 'beta', 'ductal', 'ductal', 'delta', 'delta', 'ductal', 'endothelial', 'ductal', 'ductal', 'ductal', 'endothelial', 'ductal', 'beta', 'beta', 'beta', 'ductal', 'beta', 'beta', 'beta', 'beta', 'delta', 'beta', 'beta', 'beta', 'alpha', 'delta', 'beta', 'beta', 'beta', 'beta', 'beta', 'beta', 'beta', 'beta', 'beta', 'alpha', 'beta', 'beta', 'beta', 'beta', 'beta', 'ductal', 'beta', 'beta', 'delta', 'delta', 'alpha', 'beta', 'alpha', 'beta', 'gamma', 'delta', 'beta', 'delta', 'beta', 'delta', 'delta', 'beta', 'beta', 'alpha', 'beta', 'beta', 'beta', 'beta', 'alpha', 'beta', 'beta', 'alpha', 'beta', 'beta', 'delta', 'delta', 'beta', 'alpha', 'ductal', 'delta', 'beta', 'beta', 'alpha', 'alpha', 'beta', 'alpha', 'alpha', 'alpha', 'beta', 'beta', 'beta', 'alpha', 'beta', 'endothelial', 'beta', 'beta', 'beta', 'delta', 'B_cell', 'alpha', 'alpha', 'ductal', 'beta', 'beta', 'beta', 'beta', 'delta', 'alpha', 'beta', 'beta', 'beta', 'beta', 'delta', 'delta', 'delta', 'delta', 'beta', 'beta', 'beta', 'delta', 'beta', 'beta', 'alpha', 'beta', 'delta', 'gamma', 'beta', 'delta', 'beta', 'beta', 'beta', 'delta', 'beta', 'gamma', 'gamma', 'ductal', 'beta', 'beta', 'beta', 'beta', 'beta', 'beta', 'alpha', 'alpha', 'endothelial', 'beta', 'beta', 'beta', 'beta', 'beta', 'beta', 'beta', 'beta', 'alpha', 'beta', 'beta', 'ductal', 'ductal', 'beta', 'gamma', 'delta', 'gamma', 'beta', 'alpha', 'alpha', 'beta', 'beta', 'ductal', 'alpha', 'beta', 'beta', 'alpha', 'alpha', 'alpha', 'beta', 'beta', 'beta', 'gamma', 'delta', 'beta', 'alpha', 'beta', 'delta', 'beta', 'delta', 'beta', 'alpha', 'beta', 'delta', 'beta', 'alpha', 'beta', 'beta', 'alpha', 'beta', 'beta', 'alpha', 'alpha', 'beta', 'alpha', 'beta', 'alpha', 'alpha', 'beta', 'alpha', 'beta', 'beta', 'beta', 'beta', 'alpha', 'beta', 'alpha', 'beta', 'macrophage', 'alpha', 'beta', 'beta', 'beta', 'delta', 'gamma', 'macrophage', 'gamma', 'beta', 'macrophage', 'alpha', 'alpha', 'beta', 'beta', 'endothelial', 'beta', 'beta', 'delta', 'gamma', 'beta', 'beta', 'beta', 'delta', 'beta', 'delta', 'beta', 'beta', 'beta', 'beta', 'alpha', 'alpha', 'gamma', 'macrophage', 'beta', 'beta', 'alpha', 'delta', 'activated_stellate', 'beta', 'beta', 'endothelial', 'beta', 'beta', 'beta', 'beta', 'beta', 'endothelial', 'alpha', 'alpha', 'alpha', 'beta', 'macrophage', 'macrophage', 'beta', 'beta', 'beta', 'delta', 'beta', 'beta', 'delta', 'beta', 'delta', 'delta', 'endothelial', 'delta', 'beta', 'beta', 'ductal', 'ductal', 'alpha', 'endothelial', 'beta', 'alpha', 'alpha', 'endothelial', 'beta', 'beta', 'beta', 'beta', 'beta', 'B_cell', 'beta', 'quiescent_stellate', 'alpha', 'alpha', 'activated_stellate', 'endothelial', 'beta', 'beta', 'gamma', 'endothelial', 'beta', 'activated_stellate', 'alpha', 'quiescent_stellate', 'beta', 'delta', 'beta', 'endothelial', 'beta', 'beta', 'B_cell', 'activated_stellate', 'macrophage', 'alpha', 'endothelial', 'macrophage', 'beta', 'delta', 'beta', 'delta', 'delta', 'beta', 'beta', 'beta', 'delta', 'beta', 'quiescent_stellate', 'B_cell', 'endothelial', 'endothelial', 'beta', 'beta', 'beta', 'delta', 'beta', 'beta', 'ductal', 'beta', 'beta', 'beta', 'beta', 'beta', 'gamma', 'beta', 'alpha', 'beta', 'beta', 'beta', 'beta', 'beta', 'ductal', 'alpha', 'alpha', 'beta', 'alpha', 'delta', 'beta', 'alpha', 'beta', 'delta', 'alpha', 'beta', 'beta', 'alpha', 'delta', 'alpha', 'beta', 'beta', 'beta', 'gamma', 'gamma', 'beta', 'beta', 'beta', 'beta', 'delta', 'beta', 'alpha', 'beta', 'alpha', 'alpha', 'alpha', 'beta', 'delta', 'delta', 'beta', 'beta', 'beta', 'beta', 'beta', 'beta', 'delta', 'beta', 'beta', 'beta', 'beta', 'alpha', 'delta', 'beta', 'delta', 'beta', 'beta', 'beta', 'beta', 'beta', 'delta', 'beta', 'beta', 'delta', 'delta', 'alpha', 'delta', 'beta', 'delta', 'delta', 'beta', 'delta', 'delta', 'beta', 'alpha', 'beta', 'alpha', 'alpha', 'beta', 'alpha', 'beta', 'gamma', 'beta', 'beta', 'beta', 'delta', 'beta', 'beta', 'beta', 'beta', 'beta', 'ductal', 'beta', 'beta', 'delta', 'alpha', 'alpha', 'beta', 'endothelial', 'alpha', 'delta', 'beta', 'beta', 'beta', 'beta', 'delta', 'beta', 'alpha', 'beta', 'beta', 'beta', 'beta', 'beta', 'alpha', 'gamma', 'beta', 'beta', 'beta', 'alpha', 'beta', 'beta', 'delta', 'beta', 'macrophage', 'beta', 'alpha', 'alpha', 'beta', 'delta', 'beta', 'endothelial', 'endothelial', 'beta', 'alpha', 'beta', 'beta', 'beta', 'beta', 'beta', 'beta', 'beta', 'beta', 'alpha', 'beta', 'beta', 'alpha', 'delta', 'beta', 'delta', 'beta', 'endothelial', 'beta', 'gamma', 'beta', 'delta', 'beta', 'beta', 'delta', 'alpha', 'beta', 'delta', 'beta', 'beta', 'alpha', 'beta', 'beta', 'beta', 'alpha', 'delta', 'endothelial', 'beta', 'ductal', 'beta', 'beta', 'delta', 'alpha', 'beta', 'beta', 'alpha', 'endothelial', 'beta', 'beta', 'endothelial', 'beta', 'beta', 'alpha', 'alpha', 'activated_stellate', 'delta', 'alpha', 'beta', 'ductal', 'beta', 'beta', 'beta', 'endothelial', 'endothelial', 'beta', 'gamma', 'beta', 'quiescent_stellate', 'beta', 'gamma', 'alpha', 'beta', 'delta', 'ductal', 'beta', 'beta', 'alpha', 'beta', 'alpha', 'alpha', 'beta', 'beta', 'macrophage', 'beta', 'beta', 'ductal', 'alpha', 'macrophage', 'delta', 'endothelial', 'alpha', 'alpha', 'delta', 'alpha', 'alpha', 'beta', 'delta', 'endothelial', 'beta', 'activated_stellate', 'beta', 'endothelial', 'activated_stellate', 'beta', 'beta', 'alpha', 'delta', 'alpha', 'beta', 'beta', 'alpha', 'delta', 'beta', 'ductal', 'macrophage', 'beta', 'beta', 'B_cell', 'beta', 'endothelial', 'endothelial', 'endothelial', 'alpha', 'beta', 'beta', 'delta', 'beta', 'endothelial', 'beta', 'alpha', 'beta', 'endothelial', 'alpha', 'beta', 'endothelial', 'alpha', 'delta', 'beta', 'beta', 'beta', 'delta', 'quiescent_stellate', 'beta', 'alpha', 'endothelial', 'ductal', 'beta', 'beta', 'endothelial', 'beta', 'ductal', 'macrophage', 'quiescent_stellate', 'beta', 'beta', 'beta', 'delta', 'endothelial', 'alpha', 'beta', 'beta', 'beta', 'delta', 'beta', 'beta', 'beta', 'beta', 'beta', 'beta', 'delta', 'alpha', 'macrophage', 'delta', 'beta', 'alpha', 'quiescent_stellate', 'quiescent_stellate', 'delta', 'beta', 'delta', 'delta', 'quiescent_stellate', 'delta', 'quiescent_stellate', 'delta', 'delta', 'alpha', 'ductal', 'delta', 'beta', 'B_cell', 'delta', 'delta', 'delta', 'delta', 'quiescent_stellate', 'endothelial', 'beta', 'beta', 'beta', 'beta', 'beta', 'beta', 'beta', 'beta', 'beta', 'beta', 'beta', 'beta', 'delta', 'delta', 'beta', 'activated_stellate', 'beta', 'beta', 'beta', 'alpha', 'alpha', 'beta', 'beta', 'beta', 'beta', 'alpha', 'beta', 'beta', 'beta', 'alpha', 'beta', 'beta', 'delta', 'beta', 'beta', 'beta', 'beta', 'gamma', 'beta', 'delta', 'beta', 'beta', 'beta', 'beta', 'beta', 'beta', 'delta', 'beta', 'alpha', 'beta', 'beta', 'beta', 'beta', 'beta', 'beta', 'beta', 'beta', 'beta', 'beta', 'ductal', 'beta', 'alpha', 'alpha', 'alpha', 'beta', 'beta', 'ductal', 'alpha', 'beta', 'delta', 'alpha', 'delta', 'delta', 'alpha', 'beta', 'alpha', 'beta', 'beta', 'delta', 'alpha', 'beta', 'beta', 'beta', 'alpha', 'alpha', 'beta', 'beta', 'beta', 'alpha', 'beta', 'alpha', 'alpha', 'alpha', 'beta', 'delta', 'beta', 'beta', 'alpha', 'beta', 'beta', 'beta', 'beta', 'delta', 'alpha', 'beta', 'alpha', 'alpha', 'beta', 'beta', 'alpha', 'beta', 'beta', 'alpha', 'delta', 'beta', 'alpha', 'beta', 'beta', 'beta', 'beta', 'beta', 'beta', 'delta', 'delta', 'beta', 'beta', 'beta', 'alpha', 'ductal', 'beta', 'beta', 'beta', 'beta', 'beta', 'beta', 'beta', 'beta', 'delta', 'beta', 'alpha', 'beta', 'delta', 'alpha', 'B_cell', 'beta', 'alpha', 'delta', 'beta', 'alpha', 'delta', 'alpha', 'beta', 'alpha', 'beta', 'alpha', 'alpha', 'beta', 'alpha', 'beta', 'beta', 'alpha', 'beta', 'macrophage', 'beta', 'beta', 'alpha', 'beta', 'beta', 'ductal', 'gamma', 'beta', 'alpha', 'beta', 'beta', 'beta', 'delta', 'beta', 'gamma', 'endothelial', 'alpha', 'alpha', 'alpha', 'alpha', 'beta', 'beta', 'alpha', 'beta', 'beta', 'beta', 'endothelial', 'alpha', 'gamma', 'beta', 'beta', 'alpha', 'delta', 'ductal', 'beta', 'beta', 'beta', 'alpha', 'ductal', 'alpha', 'endothelial', 'alpha', 'beta', 'alpha', 'alpha', 'activated_stellate', 'delta', 'delta', 'ductal', 'beta', 'beta', 'beta', 'alpha', 'beta', 'gamma', 'beta', 'beta', 'beta', 'endothelial', 'ductal', 'beta', 'alpha', 'endothelial', 'beta', 'beta', 'beta', 'macrophage', 'macrophage', 'beta', 'beta', 'alpha', 'quiescent_stellate', 'alpha', 'beta', 'endothelial', 'alpha', 'endothelial', 'beta', 'beta', 'beta', 'beta', 'beta', 'beta', 'alpha', 'alpha', 'endothelial', 'beta', 'endothelial', 'beta', 'delta', 'beta', 'beta', 'beta', 'endothelial', 'beta', 'beta', 'endothelial', 'beta', 'endothelial', 'beta', 'beta', 'beta', 'beta', 'gamma', 'beta', 'beta', 'alpha', 'ductal', 'activated_stellate', 'beta', 'beta', 'delta', 'delta', 'alpha', 'beta', 'delta', 'beta', 'alpha', 'endothelial', 'beta', 'beta', 'beta', 'beta', 'endothelial', 'alpha', 'beta', 'endothelial', 'alpha', 'beta', 'alpha', 'endothelial', 'endothelial', 'beta', 'beta', 'beta', 'beta', 'beta', 'beta', 'beta', 'endothelial', 'delta', 'quiescent_stellate', 'endothelial', 'beta', 'macrophage', 'beta', 'beta', 'beta', 'endothelial', 'quiescent_stellate', 'endothelial', 'endothelial', 'delta', 'beta', 'beta', 'delta', 'beta', 'gamma', 'endothelial', 'beta', 'beta', 'alpha', 'macrophage', 'alpha', 'ductal', 'beta', 'beta', 'beta', 'beta', 'ductal', 'beta', 'endothelial', 'alpha', 'endothelial', 'delta', 'beta', 'beta', 'beta', 'alpha', 'beta', 'quiescent_stellate', 'beta', 'alpha', 'delta', 'beta', 'beta', 'endothelial', 'endothelial', 'delta', 'beta', 'beta', 'ductal', 'quiescent_stellate', 'ductal', 'beta', 'beta', 'beta', 'beta', 'beta', 'endothelial', 'beta', 'endothelial', 'beta', 'B_cell', 'endothelial', 'quiescent_stellate', 'beta', 'beta', 'beta', 'beta', 'delta', 'ductal', 'ductal', 'beta', 'beta', 'beta', 'beta', 'delta', 'delta', 'delta', 'endothelial', 'ductal', 'beta', 'beta', 'ductal', 'quiescent_stellate', 'ductal']\n"
     ]
    }
   ],
   "source": [
    "print(original_labels)"
   ]
  },
  {
   "cell_type": "code",
   "execution_count": 16,
   "metadata": {},
   "outputs": [
    {
     "name": "stdout",
     "output_type": "stream",
     "text": [
      "shape of expression matrix [#cells,#genes]: (1865, 12508)\n",
      "shape of cell labels: 1865\n",
      "number of cell types: 10\n"
     ]
    }
   ],
   "source": [
    "print('shape of expression matrix [#cells,#genes]:', data_df_filtered.shape)\n",
    "print('shape of cell labels:', len(label))\n",
    "print('number of cell types:', len(str_labels))"
   ]
  },
  {
   "cell_type": "code",
   "execution_count": 17,
   "metadata": {},
   "outputs": [
    {
     "name": "stdout",
     "output_type": "stream",
     "text": [
      "Finished.\n"
     ]
    }
   ],
   "source": [
    "# Save the data\n",
    "data_dict = {}\n",
    "data_dict['gene_symbol'] = gene_symbol\n",
    "data_dict['count'] = data_df_filtered.values\n",
    "data_dict['str_labels'] = str_labels\n",
    "data_dict['label'] = label\n",
    "data_dict['barcode'] = barcode\n",
    "save_file = '../../dataset/pre_data/scRNAseq_datasets/Baron_Mouse.npz'\n",
    "np.savez(save_file, **data_dict)\n",
    "\n",
    "print('Finished.')"
   ]
  }
 ],
 "metadata": {
  "kernelspec": {
   "display_name": "p38tor112",
   "language": "python",
   "name": "python3"
  },
  "language_info": {
   "codemirror_mode": {
    "name": "ipython",
    "version": 3
   },
   "file_extension": ".py",
   "mimetype": "text/x-python",
   "name": "python",
   "nbconvert_exporter": "python",
   "pygments_lexer": "ipython3",
   "version": "3.8.18"
  }
 },
 "nbformat": 4,
 "nbformat_minor": 2
}
