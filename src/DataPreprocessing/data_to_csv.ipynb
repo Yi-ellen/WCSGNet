{
 "cells": [
  {
   "cell_type": "markdown",
   "metadata": {},
   "source": [
    "#### Obtain the gene expression matrix after cell filtering and highly variable gene selection, along with the data splits for five-fold cross-validation. Save them as CSV files for network construction using both WGCNA and PCA-PMI methods"
   ]
  },
  {
   "cell_type": "code",
   "execution_count": null,
   "metadata": {},
   "outputs": [],
   "source": [
    "import numpy as np\n",
    "import pandas as pd\n",
    "\n",
    "def get_logExpr3(expr_npz):\n",
    "    data = np.load(expr_npz, allow_pickle=True)\n",
    "    countExpr = data['count']  # count: row-cell, column-gene\n",
    "    print(\"raw (cells, genes): \", countExpr.shape)\n",
    "\n",
    "    row_sums = countExpr.sum(axis=1, keepdims=True)\n",
    "    normalized_data = 1e6 * countExpr / row_sums\n",
    "    normalized_data = normalized_data.astype(np.float32)\n",
    "\n",
    "    logExpr0 = np.log1p(normalized_data)  \n",
    "    logExpr1 = np.log1p(normalized_data + 1e-5) \n",
    "    return logExpr0, logExpr1"
   ]
  },
  {
   "cell_type": "code",
   "execution_count": null,
   "metadata": {},
   "outputs": [],
   "source": [
    "# get hvgs and split\n",
    "import os\n",
    "import numpy as np\n",
    "import pandas as pd\n",
    "\n",
    "scRNA_datasets = ['Muraro', 'Baron_Mouse', 'Segerstolpe', 'Baron_Human', 'Zhang_T', 'Kang_ctrl', 'AMB', 'TM', 'Zheng68K']\n",
    "pathjoin = os.path.join\n",
    "\n",
    "for base_filename in scRNA_datasets:\n",
    "    print(\"\\n\\n\")\n",
    "    print(base_filename)\n",
    "    seq_dict = np.load(f'../dataset/5fold_data/{base_filename}/seq_dict.npz', allow_pickle=True) \n",
    "    gene_symbol = seq_dict['gene_symbol']\n",
    "    barcodes = seq_dict['barcode']\n",
    "    seq_folder = f\"../dataset/5fold_data/{base_filename}\"\n",
    "    all_filtered_genes_file = pathjoin(seq_folder, f'{base_filename}_filtered_hvgs2000.npy')\n",
    "    all_filtered_genes_array = np.load(all_filtered_genes_file, allow_pickle=True)\n",
    "    filtered_genes_index = all_filtered_genes_array[0].astype(int)\n",
    "    gene_hvgs = gene_symbol[filtered_genes_index]\n",
    "    expr_npz = f\"../dataset/pre_data/scRNAseq_datasets/{base_filename}.npz\"\n",
    "    logExpr0, _ = get_logExpr3(expr_npz) \n",
    "    print(logExpr0.shape)\n",
    "    filtered_genes_index = all_filtered_genes_array[0]\n",
    "    filtered_genes_index = filtered_genes_index.astype(int)\n",
    "    logExpr0_filtered = logExpr0[:, filtered_genes_index]\n",
    "    print(logExpr0_filtered.shape)\n",
    "    df = pd.DataFrame(logExpr0_filtered, index=barcodes, columns=gene_hvgs)\n",
    "\n",
    "    os.makedirs('../dataset/pre_data/scRNAseq_datasets_hvgs', exist_ok=True)\n",
    "    # Save to CSV\n",
    "    output_csv_path = os.path.join('../dataset/pre_data/scRNAseq_datasets_hvgs', f\"{base_filename}_hvgs.csv\")\n",
    "    df.to_csv(output_csv_path)\n",
    "    print(f\"Saved filtered expression data for {base_filename} to {output_csv_path}.\")\n",
    "\n",
    "    # Process each fold\n",
    "    for k in range(5):\n",
    "        k_fold = k + 1\n",
    "        print(f\"Processing k_fold: {k_fold} for {base_filename}\")\n",
    "        # Extract train index\n",
    "        train_index = seq_dict[f'train_index_{k_fold}']\n",
    "        # Save train_index to a file\n",
    "        os.makedirs(os.path.join('../dataset/pre_data/scRNAseq_datasets_hvgs', 'splits'), exist_ok=True)\n",
    "        output_file_path = os.path.join('../dataset/pre_data/scRNAseq_datasets_hvgs',\"splits\", f\"{base_filename}_train_f{k_fold}.txt\")\n",
    "        np.savetxt(output_file_path, train_index, fmt='%d')\n",
    "        print(f\"Saved train_index for k_fold {k_fold} to {output_file_path}.\")"
   ]
  }
 ],
 "metadata": {
  "kernelspec": {
   "display_name": "p38tor112",
   "language": "python",
   "name": "python3"
  },
  "language_info": {
   "codemirror_mode": {
    "name": "ipython",
    "version": 3
   },
   "file_extension": ".py",
   "mimetype": "text/x-python",
   "name": "python",
   "nbconvert_exporter": "python",
   "pygments_lexer": "ipython3",
   "version": "3.8.18"
  }
 },
 "nbformat": 4,
 "nbformat_minor": 2
}
