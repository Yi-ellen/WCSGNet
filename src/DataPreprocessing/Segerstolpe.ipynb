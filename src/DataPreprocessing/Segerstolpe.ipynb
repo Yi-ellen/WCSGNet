{
 "cells": [
  {
   "cell_type": "markdown",
   "metadata": {},
   "source": [
    "\n",
    "|Data set |      Tissue    |cell type num| cell_num | gene_num | Protocol | Accession ID|\n",
    "|---------|----------------|-------------|----------|----------|----------|-------------|\n",
    "| Segerstolpe | Human pancreas | 12 | 2133 | 22757 | Smart-Seq2 | E-MTAB-5061 |"
   ]
  },
  {
   "cell_type": "code",
   "execution_count": 1,
   "metadata": {},
   "outputs": [
    {
     "name": "stdout",
     "output_type": "stream",
     "text": [
      "        SGIP1  AZIN2  CLIC4  AGBL4  NECAP2\n",
      "AZ_A10      0      0      3      0       0\n",
      "AZ_A11      0      0      0      0       0\n",
      "AZ_A12      0      0      0      0       0\n",
      "AZ_A2      32      0      1      0       0\n",
      "AZ_A6       0      0      0      0       0\n",
      "(2133, 22757)\n",
      "SGIP1\n"
     ]
    }
   ],
   "source": [
    "import numpy as np\n",
    "import pandas as pd\n",
    "# Load the file \"Filtered_Segerstolpe_HumanPancreas_data.csv\", using the first column as the index, which serves as unique cell identifiers.\n",
    "data_df = pd.read_csv('../../data/scRNAseq_Benchmark_datasets/Segerstolpe/Filtered_Segerstolpe_HumanPancreas_data.csv', index_col=0)\n",
    "print(data_df.iloc[:5, :5])\n",
    "print(data_df.shape)\n",
    "print(data_df.columns[0])"
   ]
  },
  {
   "cell_type": "code",
   "execution_count": 2,
   "metadata": {},
   "outputs": [
    {
     "name": "stdout",
     "output_type": "stream",
     "text": [
      "       x\n",
      "0  delta\n",
      "1  alpha\n",
      "2  delta\n",
      "3  gamma\n",
      "4  alpha\n",
      "(2133, 1)\n",
      "            x\n",
      "AZ_A10  delta\n",
      "AZ_A11  alpha\n",
      "AZ_A12  delta\n",
      "AZ_A2   gamma\n",
      "AZ_A6   alpha\n"
     ]
    }
   ],
   "source": [
    "# Load cell type annotation data\n",
    "\n",
    "label_df = pd.read_csv('../../data/scRNAseq_Benchmark_datasets/Segerstolpe/Labels.csv', header=0)\n",
    "print(label_df.iloc[:5,:])\n",
    "print(label_df.shape)\n",
    "label_df = label_df.set_index(data_df.index)\n",
    "print(label_df.iloc[:5,:])"
   ]
  },
  {
   "cell_type": "code",
   "execution_count": 3,
   "metadata": {},
   "outputs": [
    {
     "name": "stdout",
     "output_type": "stream",
     "text": [
      "['SGIP1' 'AZIN2' 'CLIC4' ... 'ERCC_0.11444092:mix1_0.22888184:mix2'\n",
      " 'ERCC_0.05722046:mix1_0.11444092:mix2'\n",
      " 'ERCC_0.01430512:mix1_0.02861023:mix2']\n",
      "22757\n"
     ]
    }
   ],
   "source": [
    "genes = data_df.columns.values\n",
    "print(genes)\n",
    "print(len(genes))"
   ]
  },
  {
   "cell_type": "code",
   "execution_count": 5,
   "metadata": {},
   "outputs": [
    {
     "name": "stdout",
     "output_type": "stream",
     "text": [
      "alpha: 872\n",
      "ductal: 381\n",
      "beta: 263\n",
      "gamma: 195\n",
      "acinar: 182\n",
      "delta: 110\n",
      "PSC: 54\n",
      "co-expression: 39\n",
      "endothelial: 15\n",
      "epsilon: 7\n",
      "MHC class II: 5\n",
      "mast: 5\n",
      "unclassified endocrine: 5\n"
     ]
    }
   ],
   "source": [
    "# Calculate the number of cells for each cell type.\n",
    "cell_type_counts = label_df['x'].value_counts()\n",
    "for cell_type, count in cell_type_counts.items():\n",
    "    print(f\"{cell_type}: {count}\")"
   ]
  },
  {
   "cell_type": "code",
   "execution_count": 6,
   "metadata": {},
   "outputs": [
    {
     "name": "stdout",
     "output_type": "stream",
     "text": [
      "(2072, 22757)\n",
      "        SGIP1  AZIN2  CLIC4  AGBL4  NECAP2  SLC45A1  TGFBR3  DBT  RFWD2  \\\n",
      "AZ_A10      0      0      3      0       0        0       0   55      4   \n",
      "AZ_A11      0      0      0      0       0        0       0    0      9   \n",
      "AZ_A12      0      0      0      0       0        0       0    0      0   \n",
      "AZ_A2      32      0      1      0       0        0       1    0      0   \n",
      "AZ_A6       0      0      0      0       0        0       0    0      0   \n",
      "\n",
      "        C1orf21  ...  ERCC_14.6484375:mix1_29.296875:mix2  \\\n",
      "AZ_A10        0  ...                                    0   \n",
      "AZ_A11      148  ...                                    0   \n",
      "AZ_A12        0  ...                                    0   \n",
      "AZ_A2        99  ...                                    0   \n",
      "AZ_A6         2  ...                                    0   \n",
      "\n",
      "        ERCC_7.32421875:mix1_14.6484375:mix2  \\\n",
      "AZ_A10                                     1   \n",
      "AZ_A11                                     0   \n",
      "AZ_A12                                     0   \n",
      "AZ_A2                                      0   \n",
      "AZ_A6                                      0   \n",
      "\n",
      "        ERCC_3.66210938:mix1_7.32421875:mix2  \\\n",
      "AZ_A10                                     0   \n",
      "AZ_A11                                     0   \n",
      "AZ_A12                                     0   \n",
      "AZ_A2                                      0   \n",
      "AZ_A6                                      0   \n",
      "\n",
      "        ERCC_1.83105469:mix1_3.66210938:mix2  \\\n",
      "AZ_A10                                     0   \n",
      "AZ_A11                                     0   \n",
      "AZ_A12                                     0   \n",
      "AZ_A2                                      0   \n",
      "AZ_A6                                      0   \n",
      "\n",
      "        ERCC_0.91552734:mix1_1.83105469:mix2  \\\n",
      "AZ_A10                                     0   \n",
      "AZ_A11                                     0   \n",
      "AZ_A12                                     0   \n",
      "AZ_A2                                      0   \n",
      "AZ_A6                                      0   \n",
      "\n",
      "        ERCC_0.45776367:mix1_0.91552734:mix2  \\\n",
      "AZ_A10                                     0   \n",
      "AZ_A11                                     0   \n",
      "AZ_A12                                     0   \n",
      "AZ_A2                                      0   \n",
      "AZ_A6                                      0   \n",
      "\n",
      "        ERCC_0.22888184:mix1_0.45776367:mix2  \\\n",
      "AZ_A10                                     0   \n",
      "AZ_A11                                     0   \n",
      "AZ_A12                                     0   \n",
      "AZ_A2                                      0   \n",
      "AZ_A6                                      0   \n",
      "\n",
      "        ERCC_0.11444092:mix1_0.22888184:mix2  \\\n",
      "AZ_A10                                     0   \n",
      "AZ_A11                                     0   \n",
      "AZ_A12                                     0   \n",
      "AZ_A2                                      0   \n",
      "AZ_A6                                      0   \n",
      "\n",
      "        ERCC_0.05722046:mix1_0.11444092:mix2  \\\n",
      "AZ_A10                                     0   \n",
      "AZ_A11                                     0   \n",
      "AZ_A12                                     0   \n",
      "AZ_A2                                      0   \n",
      "AZ_A6                                      0   \n",
      "\n",
      "        ERCC_0.01430512:mix1_0.02861023:mix2  \n",
      "AZ_A10                                     0  \n",
      "AZ_A11                                     0  \n",
      "AZ_A12                                     0  \n",
      "AZ_A2                                      0  \n",
      "AZ_A6                                      0  \n",
      "\n",
      "[5 rows x 22757 columns]\n",
      "(2072, 1)\n",
      "            x\n",
      "AZ_A10  delta\n",
      "AZ_A11  alpha\n",
      "AZ_A12  delta\n",
      "AZ_A2   gamma\n",
      "AZ_A6   alpha\n"
     ]
    }
   ],
   "source": [
    "# Filter cell types with a count of 10 or more cells, excluding 'co-expression'.\n",
    "selected_cell_types = cell_type_counts[(cell_type_counts >= 10) & (cell_type_counts.index != 'co-expression')].index\n",
    "\n",
    "# Retain the corresponding cell data in the gene expression dataset and update the label data accordingly.\n",
    "data_df_selected = data_df.loc[label_df[label_df['x'].isin(selected_cell_types)].index]\n",
    "label_df = label_df.loc[label_df['x'].isin(selected_cell_types)]\n",
    "print(data_df_selected.shape)\n",
    "print(data_df_selected.iloc[:5, :])\n",
    "print(label_df.shape)\n",
    "print(label_df.iloc[:5, :])\n"
   ]
  },
  {
   "cell_type": "code",
   "execution_count": 7,
   "metadata": {},
   "outputs": [
    {
     "name": "stdout",
     "output_type": "stream",
     "text": [
      "alpha: 872\n",
      "ductal: 381\n",
      "beta: 263\n",
      "gamma: 195\n",
      "acinar: 182\n",
      "delta: 110\n",
      "PSC: 54\n",
      "endothelial: 15\n"
     ]
    }
   ],
   "source": [
    "# Calculate the number of cells for each cell type.\n",
    "cell_type_counts = label_df['x'].value_counts()\n",
    "for cell_type, count in cell_type_counts.items():\n",
    "    print(f\"{cell_type}: {count}\")\n"
   ]
  },
  {
   "cell_type": "code",
   "execution_count": 8,
   "metadata": {},
   "outputs": [
    {
     "name": "stdout",
     "output_type": "stream",
     "text": [
      "4025\n",
      "(2072, 18732)\n",
      "        SGIP1  AZIN2  CLIC4  AGBL4  NECAP2  SLC45A1  TGFBR3   DBT  RFWD2  \\\n",
      "AZ_A10    0.0    0.0    3.0    0.0     0.0      0.0     0.0  55.0    4.0   \n",
      "AZ_A11    0.0    0.0    0.0    0.0     0.0      0.0     0.0   0.0    9.0   \n",
      "AZ_A12    0.0    0.0    0.0    0.0     0.0      0.0     0.0   0.0    0.0   \n",
      "AZ_A2    32.0    0.0    1.0    0.0     0.0      0.0     1.0   0.0    0.0   \n",
      "AZ_A6     0.0    0.0    0.0    0.0     0.0      0.0     0.0   0.0    0.0   \n",
      "\n",
      "        C1orf21  ...  ERCC_58.59375:mix1_117.1875:mix2  \\\n",
      "AZ_A10      0.0  ...                               0.0   \n",
      "AZ_A11    148.0  ...                               0.0   \n",
      "AZ_A12      0.0  ...                               0.0   \n",
      "AZ_A2      99.0  ...                               0.0   \n",
      "AZ_A6       2.0  ...                               0.0   \n",
      "\n",
      "        ERCC_29.296875:mix1_58.59375:mix2  \\\n",
      "AZ_A10                                0.0   \n",
      "AZ_A11                                0.0   \n",
      "AZ_A12                                0.0   \n",
      "AZ_A2                                 0.0   \n",
      "AZ_A6                                 0.0   \n",
      "\n",
      "        ERCC_14.6484375:mix1_29.296875:mix2  \\\n",
      "AZ_A10                                  0.0   \n",
      "AZ_A11                                  0.0   \n",
      "AZ_A12                                  0.0   \n",
      "AZ_A2                                   0.0   \n",
      "AZ_A6                                   0.0   \n",
      "\n",
      "        ERCC_7.32421875:mix1_14.6484375:mix2  \\\n",
      "AZ_A10                                   1.0   \n",
      "AZ_A11                                   0.0   \n",
      "AZ_A12                                   0.0   \n",
      "AZ_A2                                    0.0   \n",
      "AZ_A6                                    0.0   \n",
      "\n",
      "        ERCC_3.66210938:mix1_7.32421875:mix2  \\\n",
      "AZ_A10                                   0.0   \n",
      "AZ_A11                                   0.0   \n",
      "AZ_A12                                   0.0   \n",
      "AZ_A2                                    0.0   \n",
      "AZ_A6                                    0.0   \n",
      "\n",
      "        ERCC_1.83105469:mix1_3.66210938:mix2  \\\n",
      "AZ_A10                                   0.0   \n",
      "AZ_A11                                   0.0   \n",
      "AZ_A12                                   0.0   \n",
      "AZ_A2                                    0.0   \n",
      "AZ_A6                                    0.0   \n",
      "\n",
      "        ERCC_0.91552734:mix1_1.83105469:mix2  \\\n",
      "AZ_A10                                   0.0   \n",
      "AZ_A11                                   0.0   \n",
      "AZ_A12                                   0.0   \n",
      "AZ_A2                                    0.0   \n",
      "AZ_A6                                    0.0   \n",
      "\n",
      "        ERCC_0.45776367:mix1_0.91552734:mix2  \\\n",
      "AZ_A10                                   0.0   \n",
      "AZ_A11                                   0.0   \n",
      "AZ_A12                                   0.0   \n",
      "AZ_A2                                    0.0   \n",
      "AZ_A6                                    0.0   \n",
      "\n",
      "        ERCC_0.11444092:mix1_0.22888184:mix2  \\\n",
      "AZ_A10                                   0.0   \n",
      "AZ_A11                                   0.0   \n",
      "AZ_A12                                   0.0   \n",
      "AZ_A2                                    0.0   \n",
      "AZ_A6                                    0.0   \n",
      "\n",
      "        ERCC_0.01430512:mix1_0.02861023:mix2  \n",
      "AZ_A10                                   0.0  \n",
      "AZ_A11                                   0.0  \n",
      "AZ_A12                                   0.0  \n",
      "AZ_A2                                    0.0  \n",
      "AZ_A6                                    0.0  \n",
      "\n",
      "[5 rows x 18732 columns]\n",
      "SGIP1     float32\n",
      "AZIN2     float32\n",
      "CLIC4     float32\n",
      "AGBL4     float32\n",
      "NECAP2    float32\n",
      "dtype: object\n"
     ]
    }
   ],
   "source": [
    "# Calculate how many cells express each gene.\n",
    "# Here, an expression value greater than 0 indicates the gene is expressed in a cell.\n",
    "genes_expressed_in_cells = (data_df_selected > 0).sum(axis=0)\n",
    "# Print the number of genes expressed in fewer than 10 cells.\n",
    "print(len(genes_expressed_in_cells[genes_expressed_in_cells < 10]))\n",
    "# Select genes expressed in at least 10 cells.\n",
    "genes_to_keep = genes_expressed_in_cells[genes_expressed_in_cells >= 10].index\n",
    "\n",
    "# Retain only the genes meeting the criteria in the dataset.\n",
    "data_df_filtered = data_df_selected[genes_to_keep]\n",
    "\n",
    "# Display the shape of the filtered data and the first few rows.\n",
    "print(data_df_filtered.shape)\n",
    "\n",
    "# Convert all data in data_df_filtered to the float32 data type.\n",
    "data_df_filtered = data_df_filtered.astype('float32')\n",
    "print(data_df_filtered.iloc[:5, :])\n",
    "print(data_df_filtered.dtypes.head())\n"
   ]
  },
  {
   "cell_type": "code",
   "execution_count": 9,
   "metadata": {},
   "outputs": [
    {
     "name": "stdout",
     "output_type": "stream",
     "text": [
      "<class 'list'>\n",
      "['PSC', 'acinar', 'alpha', 'beta', 'delta', 'ductal', 'endothelial', 'gamma']\n",
      "<class 'list'>\n",
      "[4, 2, 4, 7, 2, 1, 3, 4, 4, 2, 2, 2, 2, 1, 2, 2, 3, 4, 2, 5, 3, 2, 2, 5, 7, 3, 2, 2, 4, 3, 2, 7, 2, 2, 2, 2, 2, 3, 2, 2, 3, 3, 2, 0, 1, 2, 5, 2, 2, 3, 2, 2, 7, 4, 1, 3, 7, 3, 7, 3, 2, 3, 2, 1, 2, 2, 4, 4, 1, 4, 2, 3, 3, 3, 2, 7, 3, 7, 2, 1, 7, 2, 3, 3, 3, 2, 3, 4, 1, 3, 5, 2, 2, 3, 4, 3, 2, 4, 3, 3, 4, 1, 4, 3, 2, 4, 5, 1, 2, 3, 2, 3, 5, 2, 3, 3, 2, 3, 2, 2, 2, 3, 1, 1, 2, 1, 1, 4, 7, 2, 7, 4, 2, 4, 2, 1, 7, 3, 7, 7, 2, 2, 3, 3, 2, 3, 2, 3, 2, 7, 7, 3, 1, 4, 3, 5, 3, 4, 3, 3, 3, 2, 2, 2, 3, 3, 2, 2, 2, 0, 3, 2, 2, 5, 3, 5, 2, 2, 2, 2, 4, 2, 2, 2, 6, 1, 2, 2, 2, 5, 5, 2, 2, 3, 2, 3, 4, 7, 4, 2, 3, 2, 3, 2, 5, 5, 2, 5, 1, 2, 2, 3, 2, 5, 2, 2, 2, 2, 1, 2, 1, 7, 2, 2, 2, 2, 2, 2, 7, 7, 2, 2, 2, 2, 2, 3, 2, 2, 2, 7, 2, 2, 2, 5, 2, 2, 2, 2, 2, 2, 2, 5, 2, 2, 2, 2, 2, 3, 2, 2, 5, 2, 3, 2, 1, 2, 2, 2, 2, 2, 4, 2, 1, 3, 5, 7, 2, 2, 5, 2, 5, 1, 2, 3, 7, 2, 2, 4, 3, 7, 2, 5, 1, 3, 2, 4, 2, 2, 2, 2, 2, 2, 2, 2, 4, 2, 1, 2, 7, 7, 7, 7, 2, 7, 2, 4, 7, 2, 2, 2, 7, 2, 7, 2, 2, 7, 7, 2, 7, 7, 7, 7, 3, 2, 5, 6, 4, 1, 7, 2, 2, 2, 3, 2, 7, 2, 2, 4, 2, 7, 2, 2, 7, 7, 7, 2, 2, 7, 7, 7, 2, 2, 2, 3, 2, 2, 7, 7, 3, 3, 7, 2, 7, 2, 2, 2, 3, 2, 7, 2, 7, 7, 7, 1, 2, 7, 2, 7, 7, 2, 7, 4, 0, 2, 7, 7, 2, 2, 2, 2, 2, 2, 2, 7, 2, 2, 2, 7, 2, 2, 2, 7, 7, 7, 7, 7, 7, 2, 2, 5, 2, 2, 2, 2, 3, 7, 2, 4, 3, 2, 2, 7, 2, 7, 7, 2, 2, 2, 2, 2, 2, 2, 2, 1, 7, 2, 2, 2, 2, 4, 2, 1, 2, 2, 2, 7, 2, 7, 7, 2, 7, 1, 2, 2, 2, 1, 7, 2, 2, 2, 2, 2, 7, 7, 2, 4, 7, 1, 7, 2, 2, 2, 2, 2, 7, 2, 2, 2, 2, 2, 7, 2, 2, 2, 2, 2, 2, 2, 2, 7, 2, 2, 2, 2, 2, 2, 3, 2, 2, 2, 7, 2, 2, 2, 7, 4, 2, 2, 2, 2, 2, 2, 2, 2, 7, 3, 2, 2, 2, 2, 2, 7, 5, 2, 7, 2, 2, 2, 7, 2, 2, 2, 2, 2, 2, 7, 0, 4, 2, 7, 4, 2, 3, 2, 2, 4, 0, 6, 3, 7, 2, 2, 3, 3, 5, 2, 2, 2, 7, 2, 3, 7, 0, 2, 4, 7, 7, 4, 4, 2, 7, 2, 3, 7, 2, 2, 1, 2, 2, 2, 2, 2, 2, 2, 2, 7, 2, 4, 3, 7, 2, 3, 2, 6, 3, 7, 2, 5, 0, 7, 2, 3, 2, 7, 6, 3, 7, 2, 4, 2, 1, 2, 2, 2, 2, 5, 2, 6, 5, 3, 2, 2, 3, 2, 2, 7, 2, 3, 2, 3, 2, 2, 2, 2, 2, 7, 1, 3, 3, 7, 3, 2, 3, 2, 5, 6, 6, 7, 0, 2, 2, 7, 2, 2, 2, 2, 2, 0, 2, 2, 2, 0, 3, 4, 5, 2, 3, 2, 7, 2, 2, 7, 3, 4, 3, 5, 2, 2, 2, 2, 2, 5, 3, 7, 3, 3, 7, 3, 7, 0, 2, 2, 0, 4, 2, 2, 7, 2, 2, 3, 7, 2, 2, 5, 2, 2, 0, 2, 7, 4, 2, 3, 7, 7, 2, 5, 5, 2, 2, 3, 3, 7, 7, 5, 7, 2, 2, 3, 2, 2, 5, 3, 6, 2, 2, 6, 5, 0, 5, 3, 3, 5, 5, 2, 3, 5, 2, 1, 1, 1, 1, 3, 1, 0, 1, 5, 0, 7, 5, 5, 7, 7, 1, 1, 1, 3, 5, 5, 1, 1, 3, 2, 1, 3, 3, 5, 1, 3, 1, 5, 5, 5, 1, 1, 5, 5, 7, 2, 7, 2, 4, 5, 1, 1, 1, 5, 1, 5, 3, 3, 2, 1, 2, 3, 5, 1, 5, 5, 3, 1, 1, 3, 3, 2, 4, 3, 2, 1, 1, 5, 5, 5, 5, 5, 5, 2, 2, 1, 2, 3, 7, 3, 1, 2, 2, 1, 1, 1, 7, 5, 2, 5, 1, 5, 5, 5, 5, 7, 1, 3, 3, 1, 7, 1, 7, 1, 7, 5, 3, 5, 5, 1, 2, 1, 1, 1, 3, 3, 1, 5, 5, 5, 1, 1, 1, 2, 5, 1, 5, 5, 1, 3, 2, 1, 1, 5, 5, 5, 1, 3, 7, 7, 5, 1, 5, 5, 1, 5, 7, 1, 5, 5, 2, 1, 5, 3, 1, 1, 1, 5, 2, 5, 1, 1, 1, 5, 1, 7, 1, 1, 5, 3, 1, 5, 5, 2, 3, 1, 1, 1, 2, 1, 1, 3, 3, 1, 1, 1, 5, 1, 2, 1, 2, 5, 1, 5, 5, 1, 5, 3, 3, 1, 2, 5, 5, 1, 2, 5, 5, 3, 2, 2, 2, 2, 4, 3, 2, 2, 2, 2, 2, 2, 2, 7, 2, 2, 2, 2, 3, 2, 2, 3, 2, 2, 2, 2, 2, 3, 2, 2, 6, 2, 2, 2, 2, 2, 2, 3, 3, 3, 2, 3, 2, 0, 2, 2, 3, 2, 2, 1, 2, 2, 2, 2, 2, 2, 4, 3, 4, 2, 3, 5, 2, 2, 2, 2, 2, 2, 3, 2, 3, 2, 2, 2, 5, 2, 2, 2, 2, 2, 0, 2, 2, 2, 2, 2, 2, 2, 5, 3, 2, 2, 2, 3, 2, 2, 2, 2, 2, 3, 2, 2, 2, 3, 2, 2, 2, 2, 2, 2, 2, 2, 2, 0, 2, 5, 2, 2, 3, 2, 3, 2, 2, 2, 2, 2, 1, 0, 5, 0, 3, 2, 2, 0, 2, 2, 3, 1, 2, 2, 2, 2, 3, 4, 3, 2, 4, 2, 2, 2, 2, 2, 7, 2, 3, 2, 3, 2, 2, 2, 2, 2, 3, 3, 5, 2, 2, 2, 5, 2, 2, 3, 2, 2, 4, 3, 2, 3, 5, 2, 2, 3, 4, 2, 2, 2, 3, 1, 2, 2, 2, 2, 2, 5, 7, 1, 2, 2, 5, 0, 7, 2, 2, 1, 2, 3, 5, 5, 5, 3, 2, 2, 2, 2, 2, 2, 2, 5, 0, 2, 3, 5, 4, 3, 5, 5, 5, 2, 2, 3, 4, 2, 2, 2, 2, 2, 2, 2, 2, 1, 2, 2, 2, 5, 2, 2, 2, 2, 1, 0, 2, 5, 2, 2, 2, 5, 5, 5, 2, 2, 2, 0, 2, 2, 2, 1, 2, 5, 2, 5, 3, 7, 5, 5, 2, 2, 2, 2, 2, 1, 2, 3, 5, 3, 5, 2, 5, 2, 2, 1, 5, 5, 2, 1, 1, 1, 5, 2, 2, 7, 1, 5, 2, 3, 2, 2, 4, 5, 2, 1, 5, 7, 2, 2, 2, 2, 2, 0, 2, 5, 1, 5, 5, 5, 2, 2, 2, 5, 4, 0, 2, 2, 5, 2, 4, 0, 5, 1, 3, 2, 5, 2, 5, 5, 5, 5, 2, 4, 0, 2, 2, 5, 1, 2, 2, 2, 3, 2, 2, 2, 2, 2, 5, 7, 2, 6, 2, 5, 2, 5, 5, 5, 2, 1, 5, 2, 0, 5, 2, 2, 0, 2, 2, 2, 1, 5, 5, 5, 5, 2, 2, 5, 0, 1, 2, 3, 5, 0, 5, 1, 2, 2, 5, 5, 5, 2, 2, 1, 2, 2, 5, 5, 2, 1, 5, 5, 7, 5, 5, 2, 1, 5, 5, 2, 5, 5, 5, 5, 2, 1, 5, 1, 2, 5, 3, 1, 5, 5, 2, 1, 1, 2, 7, 2, 2, 2, 2, 2, 2, 5, 2, 1, 0, 5, 2, 5, 5, 2, 3, 5, 3, 2, 4, 5, 2, 2, 2, 3, 4, 1, 2, 7, 5, 6, 2, 5, 2, 2, 2, 3, 2, 4, 5, 2, 2, 2, 4, 2, 5, 6, 2, 2, 2, 2, 2, 3, 2, 5, 5, 2, 2, 5, 5, 5, 5, 2, 3, 2, 5, 5, 2, 0, 4, 4, 2, 2, 2, 2, 2, 2, 3, 2, 2, 5, 2, 4, 2, 4, 5, 2, 2, 0, 2, 5, 5, 5, 2, 5, 5, 5, 5, 7, 5, 5, 2, 2, 2, 4, 2, 2, 5, 2, 1, 2, 5, 2, 2, 5, 5, 5, 2, 7, 0, 2, 7, 2, 2, 5, 5, 1, 5, 2, 5, 5, 2, 5, 5, 1, 5, 5, 5, 2, 5, 1, 2, 5, 5, 1, 2, 7, 5, 5, 4, 5, 0, 5, 3, 5, 5, 1, 5, 2, 2, 5, 0, 2, 5, 2, 5, 7, 1, 2, 2, 0, 7, 0, 2, 2, 1, 5, 3, 5, 2, 2, 5, 3, 0, 1, 2, 1, 0, 5, 2, 5, 2, 5, 5, 2, 1, 2, 2, 5, 5, 2, 7, 5, 2, 5, 3, 5, 5, 3, 5, 2, 5, 5, 5, 5, 2, 5, 2, 2, 5, 5, 2, 2, 1, 1, 5, 5, 2, 5, 5, 5, 5, 5, 2, 2, 5, 5, 5, 5, 2, 2, 3, 2, 5, 2, 4, 2, 2, 5, 1, 0, 7, 2, 2, 5, 5, 1, 2, 1, 5, 2, 5, 5, 0, 5, 5, 5, 2, 5, 5, 5, 2, 5, 5, 2, 2, 2, 1, 5, 1, 1, 5, 5, 3, 2, 5, 3, 5, 5, 2, 5, 2, 5, 1, 5, 0, 2, 2, 5, 5, 2, 5, 2, 4, 0, 5, 1, 5, 3, 2, 5, 5, 1, 5, 5, 2, 5, 5, 3, 5, 7, 2, 2, 3, 5, 5, 5, 2, 2, 2, 1, 7, 2, 5, 5, 5, 2, 4, 5, 5, 5, 5, 1, 2, 2, 5, 0, 5, 2, 5, 5, 6, 0, 2, 2, 5, 5, 5, 5, 2, 5, 2, 5, 5, 2, 2, 2, 3, 4, 5, 2, 3, 7, 4, 2, 3, 3, 7, 5, 4, 5, 2, 4, 3, 1, 2, 2, 2, 3, 3, 2, 2, 7, 2, 2, 4, 2, 5, 5, 5, 3, 5, 4, 4, 3, 4, 3, 3, 7, 5, 4, 2, 3, 7, 2, 5, 5, 5, 4, 3, 2, 2, 1, 2, 7, 5, 7, 2, 3, 2, 3, 5, 4, 5, 5, 5, 2, 1, 2, 2, 5, 7, 3, 5, 0, 1, 2, 4, 3, 4, 4, 5, 5, 4, 7, 7, 2, 2, 5, 2, 2, 7, 5, 5, 3, 3, 2, 2, 2, 2, 5, 4, 5, 2, 3, 7, 5, 2, 7, 2, 2, 2, 2, 3, 2, 7, 4, 3, 5, 4, 5, 3, 2, 2, 7, 3, 2, 7, 2, 4, 2, 1, 3, 5, 3, 7, 3, 7, 3, 5, 2, 5, 5, 5, 4, 4, 1, 3, 2, 2, 2, 1, 4, 4, 3, 2, 3, 7, 3, 2, 2, 2, 2, 0, 4, 5, 5, 2, 2, 7, 5, 2, 2, 4, 3, 4, 2, 5, 2, 3, 3, 2, 5, 2, 7, 7, 2, 2, 1, 2, 5, 2, 3, 7, 4, 3, 4, 3, 5, 2, 3, 3, 2, 7, 2, 7, 1, 2, 2, 2, 2, 2, 2, 4, 3, 3, 3, 7, 2, 5, 3, 2, 1, 4, 3, 5, 2, 7, 2, 7, 2, 2, 5, 3, 2, 5, 3, 3, 2, 2, 4, 7, 7, 2, 7, 5, 3, 3, 1, 2, 1, 2, 2, 3, 7, 3, 3, 3, 3, 1, 0, 2, 2, 2, 3, 7, 5, 5, 2, 4, 3, 4, 2, 3, 3, 2, 0, 2, 3, 3, 2, 2, 2, 2, 4, 7, 3, 3, 3]\n",
      "2072\n",
      "<class 'numpy.ndarray'>\n",
      "['AZ_A10' 'AZ_A11' 'AZ_A12' ... 'HP1526901T2D_P4' 'HP1526901T2D_P7'\n",
      " 'HP1526901T2D_P9']\n",
      "2072\n",
      "<class 'numpy.ndarray'>\n",
      "['SGIP1' 'AZIN2' 'CLIC4' ... 'ERCC_0.45776367:mix1_0.91552734:mix2'\n",
      " 'ERCC_0.11444092:mix1_0.22888184:mix2'\n",
      " 'ERCC_0.01430512:mix1_0.02861023:mix2']\n",
      "18732\n"
     ]
    }
   ],
   "source": [
    "str_labels = np.unique(label_df.values).tolist()\n",
    "label = [str_labels.index(x) for x in label_df.values]\n",
    "# Convert numeric labels back to string labels\n",
    "original_labels = [str_labels[x] for x in label]\n",
    "barcode = data_df_filtered.index.values\n",
    "gene_symbol = data_df_filtered.columns.values\n",
    "\n",
    "print(type(str_labels))\n",
    "print(str_labels)\n",
    "print(type(label))\n",
    "print(label)\n",
    "print(len(label))\n",
    "print(type(barcode))\n",
    "print(barcode)\n",
    "print(len(barcode))\n",
    "print(type(gene_symbol))\n",
    "print(gene_symbol)\n",
    "print(len(gene_symbol))"
   ]
  },
  {
   "cell_type": "code",
   "execution_count": 10,
   "metadata": {},
   "outputs": [
    {
     "name": "stdout",
     "output_type": "stream",
     "text": [
      "PSC: 0\n",
      "acinar: 1\n",
      "alpha: 2\n",
      "beta: 3\n",
      "delta: 4\n",
      "ductal: 5\n",
      "endothelial: 6\n",
      "gamma: 7\n"
     ]
    }
   ],
   "source": [
    "# Create a mapping dictionary from cell type labels to numeric indices\n",
    "label_to_index = {label1: i for i, label1 in enumerate(str_labels)}\n",
    "# Print the mapping of cell type labels to their numeric indices\n",
    "for label1, index in label_to_index.items():\n",
    "    print(f\"{label1}: {index}\")"
   ]
  },
  {
   "cell_type": "code",
   "execution_count": 11,
   "metadata": {},
   "outputs": [
    {
     "name": "stdout",
     "output_type": "stream",
     "text": [
      "18732\n",
      "2072\n",
      "['delta', 'alpha', 'delta', 'gamma', 'alpha', 'acinar', 'beta', 'delta', 'delta', 'alpha', 'alpha', 'alpha', 'alpha', 'acinar', 'alpha', 'alpha', 'beta', 'delta', 'alpha', 'ductal', 'beta', 'alpha', 'alpha', 'ductal', 'gamma', 'beta', 'alpha', 'alpha', 'delta', 'beta', 'alpha', 'gamma', 'alpha', 'alpha', 'alpha', 'alpha', 'alpha', 'beta', 'alpha', 'alpha', 'beta', 'beta', 'alpha', 'PSC', 'acinar', 'alpha', 'ductal', 'alpha', 'alpha', 'beta', 'alpha', 'alpha', 'gamma', 'delta', 'acinar', 'beta', 'gamma', 'beta', 'gamma', 'beta', 'alpha', 'beta', 'alpha', 'acinar', 'alpha', 'alpha', 'delta', 'delta', 'acinar', 'delta', 'alpha', 'beta', 'beta', 'beta', 'alpha', 'gamma', 'beta', 'gamma', 'alpha', 'acinar', 'gamma', 'alpha', 'beta', 'beta', 'beta', 'alpha', 'beta', 'delta', 'acinar', 'beta', 'ductal', 'alpha', 'alpha', 'beta', 'delta', 'beta', 'alpha', 'delta', 'beta', 'beta', 'delta', 'acinar', 'delta', 'beta', 'alpha', 'delta', 'ductal', 'acinar', 'alpha', 'beta', 'alpha', 'beta', 'ductal', 'alpha', 'beta', 'beta', 'alpha', 'beta', 'alpha', 'alpha', 'alpha', 'beta', 'acinar', 'acinar', 'alpha', 'acinar', 'acinar', 'delta', 'gamma', 'alpha', 'gamma', 'delta', 'alpha', 'delta', 'alpha', 'acinar', 'gamma', 'beta', 'gamma', 'gamma', 'alpha', 'alpha', 'beta', 'beta', 'alpha', 'beta', 'alpha', 'beta', 'alpha', 'gamma', 'gamma', 'beta', 'acinar', 'delta', 'beta', 'ductal', 'beta', 'delta', 'beta', 'beta', 'beta', 'alpha', 'alpha', 'alpha', 'beta', 'beta', 'alpha', 'alpha', 'alpha', 'PSC', 'beta', 'alpha', 'alpha', 'ductal', 'beta', 'ductal', 'alpha', 'alpha', 'alpha', 'alpha', 'delta', 'alpha', 'alpha', 'alpha', 'endothelial', 'acinar', 'alpha', 'alpha', 'alpha', 'ductal', 'ductal', 'alpha', 'alpha', 'beta', 'alpha', 'beta', 'delta', 'gamma', 'delta', 'alpha', 'beta', 'alpha', 'beta', 'alpha', 'ductal', 'ductal', 'alpha', 'ductal', 'acinar', 'alpha', 'alpha', 'beta', 'alpha', 'ductal', 'alpha', 'alpha', 'alpha', 'alpha', 'acinar', 'alpha', 'acinar', 'gamma', 'alpha', 'alpha', 'alpha', 'alpha', 'alpha', 'alpha', 'gamma', 'gamma', 'alpha', 'alpha', 'alpha', 'alpha', 'alpha', 'beta', 'alpha', 'alpha', 'alpha', 'gamma', 'alpha', 'alpha', 'alpha', 'ductal', 'alpha', 'alpha', 'alpha', 'alpha', 'alpha', 'alpha', 'alpha', 'ductal', 'alpha', 'alpha', 'alpha', 'alpha', 'alpha', 'beta', 'alpha', 'alpha', 'ductal', 'alpha', 'beta', 'alpha', 'acinar', 'alpha', 'alpha', 'alpha', 'alpha', 'alpha', 'delta', 'alpha', 'acinar', 'beta', 'ductal', 'gamma', 'alpha', 'alpha', 'ductal', 'alpha', 'ductal', 'acinar', 'alpha', 'beta', 'gamma', 'alpha', 'alpha', 'delta', 'beta', 'gamma', 'alpha', 'ductal', 'acinar', 'beta', 'alpha', 'delta', 'alpha', 'alpha', 'alpha', 'alpha', 'alpha', 'alpha', 'alpha', 'alpha', 'delta', 'alpha', 'acinar', 'alpha', 'gamma', 'gamma', 'gamma', 'gamma', 'alpha', 'gamma', 'alpha', 'delta', 'gamma', 'alpha', 'alpha', 'alpha', 'gamma', 'alpha', 'gamma', 'alpha', 'alpha', 'gamma', 'gamma', 'alpha', 'gamma', 'gamma', 'gamma', 'gamma', 'beta', 'alpha', 'ductal', 'endothelial', 'delta', 'acinar', 'gamma', 'alpha', 'alpha', 'alpha', 'beta', 'alpha', 'gamma', 'alpha', 'alpha', 'delta', 'alpha', 'gamma', 'alpha', 'alpha', 'gamma', 'gamma', 'gamma', 'alpha', 'alpha', 'gamma', 'gamma', 'gamma', 'alpha', 'alpha', 'alpha', 'beta', 'alpha', 'alpha', 'gamma', 'gamma', 'beta', 'beta', 'gamma', 'alpha', 'gamma', 'alpha', 'alpha', 'alpha', 'beta', 'alpha', 'gamma', 'alpha', 'gamma', 'gamma', 'gamma', 'acinar', 'alpha', 'gamma', 'alpha', 'gamma', 'gamma', 'alpha', 'gamma', 'delta', 'PSC', 'alpha', 'gamma', 'gamma', 'alpha', 'alpha', 'alpha', 'alpha', 'alpha', 'alpha', 'alpha', 'gamma', 'alpha', 'alpha', 'alpha', 'gamma', 'alpha', 'alpha', 'alpha', 'gamma', 'gamma', 'gamma', 'gamma', 'gamma', 'gamma', 'alpha', 'alpha', 'ductal', 'alpha', 'alpha', 'alpha', 'alpha', 'beta', 'gamma', 'alpha', 'delta', 'beta', 'alpha', 'alpha', 'gamma', 'alpha', 'gamma', 'gamma', 'alpha', 'alpha', 'alpha', 'alpha', 'alpha', 'alpha', 'alpha', 'alpha', 'acinar', 'gamma', 'alpha', 'alpha', 'alpha', 'alpha', 'delta', 'alpha', 'acinar', 'alpha', 'alpha', 'alpha', 'gamma', 'alpha', 'gamma', 'gamma', 'alpha', 'gamma', 'acinar', 'alpha', 'alpha', 'alpha', 'acinar', 'gamma', 'alpha', 'alpha', 'alpha', 'alpha', 'alpha', 'gamma', 'gamma', 'alpha', 'delta', 'gamma', 'acinar', 'gamma', 'alpha', 'alpha', 'alpha', 'alpha', 'alpha', 'gamma', 'alpha', 'alpha', 'alpha', 'alpha', 'alpha', 'gamma', 'alpha', 'alpha', 'alpha', 'alpha', 'alpha', 'alpha', 'alpha', 'alpha', 'gamma', 'alpha', 'alpha', 'alpha', 'alpha', 'alpha', 'alpha', 'beta', 'alpha', 'alpha', 'alpha', 'gamma', 'alpha', 'alpha', 'alpha', 'gamma', 'delta', 'alpha', 'alpha', 'alpha', 'alpha', 'alpha', 'alpha', 'alpha', 'alpha', 'gamma', 'beta', 'alpha', 'alpha', 'alpha', 'alpha', 'alpha', 'gamma', 'ductal', 'alpha', 'gamma', 'alpha', 'alpha', 'alpha', 'gamma', 'alpha', 'alpha', 'alpha', 'alpha', 'alpha', 'alpha', 'gamma', 'PSC', 'delta', 'alpha', 'gamma', 'delta', 'alpha', 'beta', 'alpha', 'alpha', 'delta', 'PSC', 'endothelial', 'beta', 'gamma', 'alpha', 'alpha', 'beta', 'beta', 'ductal', 'alpha', 'alpha', 'alpha', 'gamma', 'alpha', 'beta', 'gamma', 'PSC', 'alpha', 'delta', 'gamma', 'gamma', 'delta', 'delta', 'alpha', 'gamma', 'alpha', 'beta', 'gamma', 'alpha', 'alpha', 'acinar', 'alpha', 'alpha', 'alpha', 'alpha', 'alpha', 'alpha', 'alpha', 'alpha', 'gamma', 'alpha', 'delta', 'beta', 'gamma', 'alpha', 'beta', 'alpha', 'endothelial', 'beta', 'gamma', 'alpha', 'ductal', 'PSC', 'gamma', 'alpha', 'beta', 'alpha', 'gamma', 'endothelial', 'beta', 'gamma', 'alpha', 'delta', 'alpha', 'acinar', 'alpha', 'alpha', 'alpha', 'alpha', 'ductal', 'alpha', 'endothelial', 'ductal', 'beta', 'alpha', 'alpha', 'beta', 'alpha', 'alpha', 'gamma', 'alpha', 'beta', 'alpha', 'beta', 'alpha', 'alpha', 'alpha', 'alpha', 'alpha', 'gamma', 'acinar', 'beta', 'beta', 'gamma', 'beta', 'alpha', 'beta', 'alpha', 'ductal', 'endothelial', 'endothelial', 'gamma', 'PSC', 'alpha', 'alpha', 'gamma', 'alpha', 'alpha', 'alpha', 'alpha', 'alpha', 'PSC', 'alpha', 'alpha', 'alpha', 'PSC', 'beta', 'delta', 'ductal', 'alpha', 'beta', 'alpha', 'gamma', 'alpha', 'alpha', 'gamma', 'beta', 'delta', 'beta', 'ductal', 'alpha', 'alpha', 'alpha', 'alpha', 'alpha', 'ductal', 'beta', 'gamma', 'beta', 'beta', 'gamma', 'beta', 'gamma', 'PSC', 'alpha', 'alpha', 'PSC', 'delta', 'alpha', 'alpha', 'gamma', 'alpha', 'alpha', 'beta', 'gamma', 'alpha', 'alpha', 'ductal', 'alpha', 'alpha', 'PSC', 'alpha', 'gamma', 'delta', 'alpha', 'beta', 'gamma', 'gamma', 'alpha', 'ductal', 'ductal', 'alpha', 'alpha', 'beta', 'beta', 'gamma', 'gamma', 'ductal', 'gamma', 'alpha', 'alpha', 'beta', 'alpha', 'alpha', 'ductal', 'beta', 'endothelial', 'alpha', 'alpha', 'endothelial', 'ductal', 'PSC', 'ductal', 'beta', 'beta', 'ductal', 'ductal', 'alpha', 'beta', 'ductal', 'alpha', 'acinar', 'acinar', 'acinar', 'acinar', 'beta', 'acinar', 'PSC', 'acinar', 'ductal', 'PSC', 'gamma', 'ductal', 'ductal', 'gamma', 'gamma', 'acinar', 'acinar', 'acinar', 'beta', 'ductal', 'ductal', 'acinar', 'acinar', 'beta', 'alpha', 'acinar', 'beta', 'beta', 'ductal', 'acinar', 'beta', 'acinar', 'ductal', 'ductal', 'ductal', 'acinar', 'acinar', 'ductal', 'ductal', 'gamma', 'alpha', 'gamma', 'alpha', 'delta', 'ductal', 'acinar', 'acinar', 'acinar', 'ductal', 'acinar', 'ductal', 'beta', 'beta', 'alpha', 'acinar', 'alpha', 'beta', 'ductal', 'acinar', 'ductal', 'ductal', 'beta', 'acinar', 'acinar', 'beta', 'beta', 'alpha', 'delta', 'beta', 'alpha', 'acinar', 'acinar', 'ductal', 'ductal', 'ductal', 'ductal', 'ductal', 'ductal', 'alpha', 'alpha', 'acinar', 'alpha', 'beta', 'gamma', 'beta', 'acinar', 'alpha', 'alpha', 'acinar', 'acinar', 'acinar', 'gamma', 'ductal', 'alpha', 'ductal', 'acinar', 'ductal', 'ductal', 'ductal', 'ductal', 'gamma', 'acinar', 'beta', 'beta', 'acinar', 'gamma', 'acinar', 'gamma', 'acinar', 'gamma', 'ductal', 'beta', 'ductal', 'ductal', 'acinar', 'alpha', 'acinar', 'acinar', 'acinar', 'beta', 'beta', 'acinar', 'ductal', 'ductal', 'ductal', 'acinar', 'acinar', 'acinar', 'alpha', 'ductal', 'acinar', 'ductal', 'ductal', 'acinar', 'beta', 'alpha', 'acinar', 'acinar', 'ductal', 'ductal', 'ductal', 'acinar', 'beta', 'gamma', 'gamma', 'ductal', 'acinar', 'ductal', 'ductal', 'acinar', 'ductal', 'gamma', 'acinar', 'ductal', 'ductal', 'alpha', 'acinar', 'ductal', 'beta', 'acinar', 'acinar', 'acinar', 'ductal', 'alpha', 'ductal', 'acinar', 'acinar', 'acinar', 'ductal', 'acinar', 'gamma', 'acinar', 'acinar', 'ductal', 'beta', 'acinar', 'ductal', 'ductal', 'alpha', 'beta', 'acinar', 'acinar', 'acinar', 'alpha', 'acinar', 'acinar', 'beta', 'beta', 'acinar', 'acinar', 'acinar', 'ductal', 'acinar', 'alpha', 'acinar', 'alpha', 'ductal', 'acinar', 'ductal', 'ductal', 'acinar', 'ductal', 'beta', 'beta', 'acinar', 'alpha', 'ductal', 'ductal', 'acinar', 'alpha', 'ductal', 'ductal', 'beta', 'alpha', 'alpha', 'alpha', 'alpha', 'delta', 'beta', 'alpha', 'alpha', 'alpha', 'alpha', 'alpha', 'alpha', 'alpha', 'gamma', 'alpha', 'alpha', 'alpha', 'alpha', 'beta', 'alpha', 'alpha', 'beta', 'alpha', 'alpha', 'alpha', 'alpha', 'alpha', 'beta', 'alpha', 'alpha', 'endothelial', 'alpha', 'alpha', 'alpha', 'alpha', 'alpha', 'alpha', 'beta', 'beta', 'beta', 'alpha', 'beta', 'alpha', 'PSC', 'alpha', 'alpha', 'beta', 'alpha', 'alpha', 'acinar', 'alpha', 'alpha', 'alpha', 'alpha', 'alpha', 'alpha', 'delta', 'beta', 'delta', 'alpha', 'beta', 'ductal', 'alpha', 'alpha', 'alpha', 'alpha', 'alpha', 'alpha', 'beta', 'alpha', 'beta', 'alpha', 'alpha', 'alpha', 'ductal', 'alpha', 'alpha', 'alpha', 'alpha', 'alpha', 'PSC', 'alpha', 'alpha', 'alpha', 'alpha', 'alpha', 'alpha', 'alpha', 'ductal', 'beta', 'alpha', 'alpha', 'alpha', 'beta', 'alpha', 'alpha', 'alpha', 'alpha', 'alpha', 'beta', 'alpha', 'alpha', 'alpha', 'beta', 'alpha', 'alpha', 'alpha', 'alpha', 'alpha', 'alpha', 'alpha', 'alpha', 'alpha', 'PSC', 'alpha', 'ductal', 'alpha', 'alpha', 'beta', 'alpha', 'beta', 'alpha', 'alpha', 'alpha', 'alpha', 'alpha', 'acinar', 'PSC', 'ductal', 'PSC', 'beta', 'alpha', 'alpha', 'PSC', 'alpha', 'alpha', 'beta', 'acinar', 'alpha', 'alpha', 'alpha', 'alpha', 'beta', 'delta', 'beta', 'alpha', 'delta', 'alpha', 'alpha', 'alpha', 'alpha', 'alpha', 'gamma', 'alpha', 'beta', 'alpha', 'beta', 'alpha', 'alpha', 'alpha', 'alpha', 'alpha', 'beta', 'beta', 'ductal', 'alpha', 'alpha', 'alpha', 'ductal', 'alpha', 'alpha', 'beta', 'alpha', 'alpha', 'delta', 'beta', 'alpha', 'beta', 'ductal', 'alpha', 'alpha', 'beta', 'delta', 'alpha', 'alpha', 'alpha', 'beta', 'acinar', 'alpha', 'alpha', 'alpha', 'alpha', 'alpha', 'ductal', 'gamma', 'acinar', 'alpha', 'alpha', 'ductal', 'PSC', 'gamma', 'alpha', 'alpha', 'acinar', 'alpha', 'beta', 'ductal', 'ductal', 'ductal', 'beta', 'alpha', 'alpha', 'alpha', 'alpha', 'alpha', 'alpha', 'alpha', 'ductal', 'PSC', 'alpha', 'beta', 'ductal', 'delta', 'beta', 'ductal', 'ductal', 'ductal', 'alpha', 'alpha', 'beta', 'delta', 'alpha', 'alpha', 'alpha', 'alpha', 'alpha', 'alpha', 'alpha', 'alpha', 'acinar', 'alpha', 'alpha', 'alpha', 'ductal', 'alpha', 'alpha', 'alpha', 'alpha', 'acinar', 'PSC', 'alpha', 'ductal', 'alpha', 'alpha', 'alpha', 'ductal', 'ductal', 'ductal', 'alpha', 'alpha', 'alpha', 'PSC', 'alpha', 'alpha', 'alpha', 'acinar', 'alpha', 'ductal', 'alpha', 'ductal', 'beta', 'gamma', 'ductal', 'ductal', 'alpha', 'alpha', 'alpha', 'alpha', 'alpha', 'acinar', 'alpha', 'beta', 'ductal', 'beta', 'ductal', 'alpha', 'ductal', 'alpha', 'alpha', 'acinar', 'ductal', 'ductal', 'alpha', 'acinar', 'acinar', 'acinar', 'ductal', 'alpha', 'alpha', 'gamma', 'acinar', 'ductal', 'alpha', 'beta', 'alpha', 'alpha', 'delta', 'ductal', 'alpha', 'acinar', 'ductal', 'gamma', 'alpha', 'alpha', 'alpha', 'alpha', 'alpha', 'PSC', 'alpha', 'ductal', 'acinar', 'ductal', 'ductal', 'ductal', 'alpha', 'alpha', 'alpha', 'ductal', 'delta', 'PSC', 'alpha', 'alpha', 'ductal', 'alpha', 'delta', 'PSC', 'ductal', 'acinar', 'beta', 'alpha', 'ductal', 'alpha', 'ductal', 'ductal', 'ductal', 'ductal', 'alpha', 'delta', 'PSC', 'alpha', 'alpha', 'ductal', 'acinar', 'alpha', 'alpha', 'alpha', 'beta', 'alpha', 'alpha', 'alpha', 'alpha', 'alpha', 'ductal', 'gamma', 'alpha', 'endothelial', 'alpha', 'ductal', 'alpha', 'ductal', 'ductal', 'ductal', 'alpha', 'acinar', 'ductal', 'alpha', 'PSC', 'ductal', 'alpha', 'alpha', 'PSC', 'alpha', 'alpha', 'alpha', 'acinar', 'ductal', 'ductal', 'ductal', 'ductal', 'alpha', 'alpha', 'ductal', 'PSC', 'acinar', 'alpha', 'beta', 'ductal', 'PSC', 'ductal', 'acinar', 'alpha', 'alpha', 'ductal', 'ductal', 'ductal', 'alpha', 'alpha', 'acinar', 'alpha', 'alpha', 'ductal', 'ductal', 'alpha', 'acinar', 'ductal', 'ductal', 'gamma', 'ductal', 'ductal', 'alpha', 'acinar', 'ductal', 'ductal', 'alpha', 'ductal', 'ductal', 'ductal', 'ductal', 'alpha', 'acinar', 'ductal', 'acinar', 'alpha', 'ductal', 'beta', 'acinar', 'ductal', 'ductal', 'alpha', 'acinar', 'acinar', 'alpha', 'gamma', 'alpha', 'alpha', 'alpha', 'alpha', 'alpha', 'alpha', 'ductal', 'alpha', 'acinar', 'PSC', 'ductal', 'alpha', 'ductal', 'ductal', 'alpha', 'beta', 'ductal', 'beta', 'alpha', 'delta', 'ductal', 'alpha', 'alpha', 'alpha', 'beta', 'delta', 'acinar', 'alpha', 'gamma', 'ductal', 'endothelial', 'alpha', 'ductal', 'alpha', 'alpha', 'alpha', 'beta', 'alpha', 'delta', 'ductal', 'alpha', 'alpha', 'alpha', 'delta', 'alpha', 'ductal', 'endothelial', 'alpha', 'alpha', 'alpha', 'alpha', 'alpha', 'beta', 'alpha', 'ductal', 'ductal', 'alpha', 'alpha', 'ductal', 'ductal', 'ductal', 'ductal', 'alpha', 'beta', 'alpha', 'ductal', 'ductal', 'alpha', 'PSC', 'delta', 'delta', 'alpha', 'alpha', 'alpha', 'alpha', 'alpha', 'alpha', 'beta', 'alpha', 'alpha', 'ductal', 'alpha', 'delta', 'alpha', 'delta', 'ductal', 'alpha', 'alpha', 'PSC', 'alpha', 'ductal', 'ductal', 'ductal', 'alpha', 'ductal', 'ductal', 'ductal', 'ductal', 'gamma', 'ductal', 'ductal', 'alpha', 'alpha', 'alpha', 'delta', 'alpha', 'alpha', 'ductal', 'alpha', 'acinar', 'alpha', 'ductal', 'alpha', 'alpha', 'ductal', 'ductal', 'ductal', 'alpha', 'gamma', 'PSC', 'alpha', 'gamma', 'alpha', 'alpha', 'ductal', 'ductal', 'acinar', 'ductal', 'alpha', 'ductal', 'ductal', 'alpha', 'ductal', 'ductal', 'acinar', 'ductal', 'ductal', 'ductal', 'alpha', 'ductal', 'acinar', 'alpha', 'ductal', 'ductal', 'acinar', 'alpha', 'gamma', 'ductal', 'ductal', 'delta', 'ductal', 'PSC', 'ductal', 'beta', 'ductal', 'ductal', 'acinar', 'ductal', 'alpha', 'alpha', 'ductal', 'PSC', 'alpha', 'ductal', 'alpha', 'ductal', 'gamma', 'acinar', 'alpha', 'alpha', 'PSC', 'gamma', 'PSC', 'alpha', 'alpha', 'acinar', 'ductal', 'beta', 'ductal', 'alpha', 'alpha', 'ductal', 'beta', 'PSC', 'acinar', 'alpha', 'acinar', 'PSC', 'ductal', 'alpha', 'ductal', 'alpha', 'ductal', 'ductal', 'alpha', 'acinar', 'alpha', 'alpha', 'ductal', 'ductal', 'alpha', 'gamma', 'ductal', 'alpha', 'ductal', 'beta', 'ductal', 'ductal', 'beta', 'ductal', 'alpha', 'ductal', 'ductal', 'ductal', 'ductal', 'alpha', 'ductal', 'alpha', 'alpha', 'ductal', 'ductal', 'alpha', 'alpha', 'acinar', 'acinar', 'ductal', 'ductal', 'alpha', 'ductal', 'ductal', 'ductal', 'ductal', 'ductal', 'alpha', 'alpha', 'ductal', 'ductal', 'ductal', 'ductal', 'alpha', 'alpha', 'beta', 'alpha', 'ductal', 'alpha', 'delta', 'alpha', 'alpha', 'ductal', 'acinar', 'PSC', 'gamma', 'alpha', 'alpha', 'ductal', 'ductal', 'acinar', 'alpha', 'acinar', 'ductal', 'alpha', 'ductal', 'ductal', 'PSC', 'ductal', 'ductal', 'ductal', 'alpha', 'ductal', 'ductal', 'ductal', 'alpha', 'ductal', 'ductal', 'alpha', 'alpha', 'alpha', 'acinar', 'ductal', 'acinar', 'acinar', 'ductal', 'ductal', 'beta', 'alpha', 'ductal', 'beta', 'ductal', 'ductal', 'alpha', 'ductal', 'alpha', 'ductal', 'acinar', 'ductal', 'PSC', 'alpha', 'alpha', 'ductal', 'ductal', 'alpha', 'ductal', 'alpha', 'delta', 'PSC', 'ductal', 'acinar', 'ductal', 'beta', 'alpha', 'ductal', 'ductal', 'acinar', 'ductal', 'ductal', 'alpha', 'ductal', 'ductal', 'beta', 'ductal', 'gamma', 'alpha', 'alpha', 'beta', 'ductal', 'ductal', 'ductal', 'alpha', 'alpha', 'alpha', 'acinar', 'gamma', 'alpha', 'ductal', 'ductal', 'ductal', 'alpha', 'delta', 'ductal', 'ductal', 'ductal', 'ductal', 'acinar', 'alpha', 'alpha', 'ductal', 'PSC', 'ductal', 'alpha', 'ductal', 'ductal', 'endothelial', 'PSC', 'alpha', 'alpha', 'ductal', 'ductal', 'ductal', 'ductal', 'alpha', 'ductal', 'alpha', 'ductal', 'ductal', 'alpha', 'alpha', 'alpha', 'beta', 'delta', 'ductal', 'alpha', 'beta', 'gamma', 'delta', 'alpha', 'beta', 'beta', 'gamma', 'ductal', 'delta', 'ductal', 'alpha', 'delta', 'beta', 'acinar', 'alpha', 'alpha', 'alpha', 'beta', 'beta', 'alpha', 'alpha', 'gamma', 'alpha', 'alpha', 'delta', 'alpha', 'ductal', 'ductal', 'ductal', 'beta', 'ductal', 'delta', 'delta', 'beta', 'delta', 'beta', 'beta', 'gamma', 'ductal', 'delta', 'alpha', 'beta', 'gamma', 'alpha', 'ductal', 'ductal', 'ductal', 'delta', 'beta', 'alpha', 'alpha', 'acinar', 'alpha', 'gamma', 'ductal', 'gamma', 'alpha', 'beta', 'alpha', 'beta', 'ductal', 'delta', 'ductal', 'ductal', 'ductal', 'alpha', 'acinar', 'alpha', 'alpha', 'ductal', 'gamma', 'beta', 'ductal', 'PSC', 'acinar', 'alpha', 'delta', 'beta', 'delta', 'delta', 'ductal', 'ductal', 'delta', 'gamma', 'gamma', 'alpha', 'alpha', 'ductal', 'alpha', 'alpha', 'gamma', 'ductal', 'ductal', 'beta', 'beta', 'alpha', 'alpha', 'alpha', 'alpha', 'ductal', 'delta', 'ductal', 'alpha', 'beta', 'gamma', 'ductal', 'alpha', 'gamma', 'alpha', 'alpha', 'alpha', 'alpha', 'beta', 'alpha', 'gamma', 'delta', 'beta', 'ductal', 'delta', 'ductal', 'beta', 'alpha', 'alpha', 'gamma', 'beta', 'alpha', 'gamma', 'alpha', 'delta', 'alpha', 'acinar', 'beta', 'ductal', 'beta', 'gamma', 'beta', 'gamma', 'beta', 'ductal', 'alpha', 'ductal', 'ductal', 'ductal', 'delta', 'delta', 'acinar', 'beta', 'alpha', 'alpha', 'alpha', 'acinar', 'delta', 'delta', 'beta', 'alpha', 'beta', 'gamma', 'beta', 'alpha', 'alpha', 'alpha', 'alpha', 'PSC', 'delta', 'ductal', 'ductal', 'alpha', 'alpha', 'gamma', 'ductal', 'alpha', 'alpha', 'delta', 'beta', 'delta', 'alpha', 'ductal', 'alpha', 'beta', 'beta', 'alpha', 'ductal', 'alpha', 'gamma', 'gamma', 'alpha', 'alpha', 'acinar', 'alpha', 'ductal', 'alpha', 'beta', 'gamma', 'delta', 'beta', 'delta', 'beta', 'ductal', 'alpha', 'beta', 'beta', 'alpha', 'gamma', 'alpha', 'gamma', 'acinar', 'alpha', 'alpha', 'alpha', 'alpha', 'alpha', 'alpha', 'delta', 'beta', 'beta', 'beta', 'gamma', 'alpha', 'ductal', 'beta', 'alpha', 'acinar', 'delta', 'beta', 'ductal', 'alpha', 'gamma', 'alpha', 'gamma', 'alpha', 'alpha', 'ductal', 'beta', 'alpha', 'ductal', 'beta', 'beta', 'alpha', 'alpha', 'delta', 'gamma', 'gamma', 'alpha', 'gamma', 'ductal', 'beta', 'beta', 'acinar', 'alpha', 'acinar', 'alpha', 'alpha', 'beta', 'gamma', 'beta', 'beta', 'beta', 'beta', 'acinar', 'PSC', 'alpha', 'alpha', 'alpha', 'beta', 'gamma', 'ductal', 'ductal', 'alpha', 'delta', 'beta', 'delta', 'alpha', 'beta', 'beta', 'alpha', 'PSC', 'alpha', 'beta', 'beta', 'alpha', 'alpha', 'alpha', 'alpha', 'delta', 'gamma', 'beta', 'beta', 'beta']\n"
     ]
    }
   ],
   "source": [
    "print(len(gene_symbol))\n",
    "print(len(barcode))\n",
    "print(original_labels)"
   ]
  },
  {
   "cell_type": "code",
   "execution_count": 12,
   "metadata": {},
   "outputs": [
    {
     "name": "stdout",
     "output_type": "stream",
     "text": [
      "shape of expression matrix [#cells,#genes]: (2072, 18732)\n",
      "shape of cell labels: 2072\n",
      "number of cell types: 8\n"
     ]
    }
   ],
   "source": [
    "print('shape of expression matrix [#cells,#genes]:', data_df_filtered.shape)\n",
    "print('shape of cell labels:', len(label))\n",
    "print('number of cell types:', len(str_labels))"
   ]
  },
  {
   "cell_type": "code",
   "execution_count": 13,
   "metadata": {},
   "outputs": [
    {
     "name": "stdout",
     "output_type": "stream",
     "text": [
      "Finished.\n"
     ]
    }
   ],
   "source": [
    "# Save the data\n",
    "data_dict = {}\n",
    "data_dict['gene_symbol'] = gene_symbol\n",
    "data_dict['count'] = data_df_filtered.values\n",
    "data_dict['str_labels'] = str_labels\n",
    "data_dict['label'] = label\n",
    "data_dict['barcode'] = barcode\n",
    "save_file = '../../dataset/pre_data/scRNAseq_datasets/Segerstolpe.npz'\n",
    "np.savez(save_file, **data_dict)\n",
    "\n",
    "print('Finished.')"
   ]
  }
 ],
 "metadata": {
  "kernelspec": {
   "display_name": "p38tor112",
   "language": "python",
   "name": "python3"
  },
  "language_info": {
   "codemirror_mode": {
    "name": "ipython",
    "version": 3
   },
   "file_extension": ".py",
   "mimetype": "text/x-python",
   "name": "python",
   "nbconvert_exporter": "python",
   "pygments_lexer": "ipython3",
   "version": "3.8.18"
  }
 },
 "nbformat": 4,
 "nbformat_minor": 2
}
