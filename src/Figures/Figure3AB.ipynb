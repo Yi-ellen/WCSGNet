{
 "cells": [
  {
   "cell_type": "markdown",
   "metadata": {},
   "source": [
    "#### Figure 3\n",
    "The result is from the following Python files: \n",
    "\n",
    "- src/wcsn_classify_test.py \n",
    "- src/LWT_wcsn_classify_test.py \n",
    "- src/UWA_wcsn_classify_test.py \n",
    "\n",
    "For the following 9 datasets: \\\n",
    "'Zhang_T', 'Kang_ctrl', 'Zheng68K', 'Baron_human', 'Muraro', 'Segerstolpe', 'AMB', 'TM', 'Baron_mouse' \\\n",
    " Calculate the F1-score and accuracy for different cell types, which will be used to generate Figure 3A and Figure 3B."
   ]
  },
  {
   "cell_type": "markdown",
   "metadata": {},
   "source": [
    "##### Figure 3A"
   ]
  },
  {
   "cell_type": "code",
   "execution_count": null,
   "metadata": {},
   "outputs": [],
   "source": [
    "import matplotlib.pyplot as plt\n",
    "import numpy as np\n",
    "plt.rcParams['font.family'] = 'Times New Roman'\n",
    "\n",
    "WCSGNet = [0.768, 0.865, 0.703, 0.978, 0.966, 0.993, 1.000, 0.927, 0.972]  \n",
    "WCSGNet_LWT = [0.817, 0.869, 0.719, 0.978, 0.965, 0.994, 1.000, 0.925, 0.967]  \n",
    "WCSGNet_UWA = [0.822, 0.873, 0.716, 0.980, 0.966, 0.995, 1.000, 0.932, 0.969]  \n",
    "\n",
    "datasets = [\"Zhang T\", \"Kang\", \"Zheng 68k\", \"Baron Human\", \"Muraro\", \"Segerstolpe\", \"AMB\", \"TM\", \"Baron Mouse\"]\n",
    "\n",
    "x = np.arange(len(datasets))  \n",
    "width = 0.25  \n",
    "\n",
    "plt.figure(figsize=(8, 4))\n",
    "\n",
    "plt.bar(x - width, WCSGNet, width, label='WCSGNet', color='#72B6A1', edgecolor='white', linewidth=1)\n",
    "plt.bar(x, WCSGNet_LWT, width, label='WCSGNet(LWT)', color='#E99675', edgecolor='white', linewidth=1)\n",
    "plt.bar(x + width, WCSGNet_UWA, width, label='WCSGNet(UWA)', color='#95A3C3', edgecolor='white', linewidth=1)\n",
    "\n",
    "plt.ylabel('Accuracy', fontsize=10, fontweight=\"bold\")\n",
    "plt.xticks(x, datasets, fontsize=10, rotation=45)  \n",
    "plt.ylim(0.6, 1.0)  \n",
    "\n",
    "ax = plt.gca()\n",
    "ax.spines['top'].set_visible(False)  \n",
    "ax.spines['right'].set_visible(False) \n",
    "\n",
    "plt.legend(loc='upper center', bbox_to_anchor=(0.5, -0.25), fontsize=10, ncol=3, frameon=False)\n",
    "\n",
    "def add_value_labels(ax):\n",
    "    for bar in ax.patches:\n",
    "        height = bar.get_height()\n",
    "        ax.annotate(f'{height:.3f}',  \n",
    "                    xy=(bar.get_x() + bar.get_width() / 2, height),  \n",
    "                    xytext=(0, 3),  \n",
    "                    textcoords=\"offset points\",\n",
    "                    ha='center', va='bottom', fontsize=8,  \n",
    "                    rotation=90)  \n",
    "\n",
    "add_value_labels(ax)\n",
    "\n",
    "plt.tight_layout()\n",
    "\n",
    "plt.savefig('../Figures/version-1229/Figure_3A.png', format='png', dpi=1200, bbox_inches='tight')\n",
    "plt.savefig('../Figures/version-1229/Figure_3A.svg', format='svg', dpi=1200, bbox_inches='tight')\n",
    "\n",
    "plt.show()\n"
   ]
  },
  {
   "cell_type": "markdown",
   "metadata": {},
   "source": [
    "##### Figure 3B"
   ]
  },
  {
   "cell_type": "code",
   "execution_count": null,
   "metadata": {},
   "outputs": [],
   "source": [
    "# Accuracy\n",
    "\n",
    "WCSGNet = [0.822, \t0.939, \t0.765, \t0.987, \t0.973, \t0.994, \t1.000, \t0.957, \t0.981]  \n",
    "WCSGNet_LWT = [0.855, \t0.941, \t0.790, \t0.987, \t0.972, \t0.995, \t1.000, \t0.956, \t0.982]  \n",
    "WCSGNet_UWA = [0.856, \t0.943, \t0.789, \t0.987, \t0.971, \t0.996, \t1.000, \t0.959, \t0.982 ]  \n",
    "\n",
    "\n",
    "datasets = [\"Zhang T\", \"Kang\", \"Zheng 68k\", \"Baron Human\", \"Muraro\", \"Segerstolpe\", \"AMB\", \"TM\", \"Baron Mouse\"]\n",
    "\n",
    "\n",
    "x = np.arange(len(datasets))  \n",
    "width = 0.25  \n",
    "\n",
    "plt.figure(figsize=(8, 4))\n",
    "\n",
    "plt.bar(x - width, WCSGNet, width, label='WCSGNet', color='#72B6A1', edgecolor='white', linewidth=1)\n",
    "plt.bar(x, WCSGNet_LWT, width, label='WCSGNet(LWT)', color='#E99675', edgecolor='white', linewidth=1)\n",
    "plt.bar(x + width, WCSGNet_UWA, width, label='WCSGNet(UWA)', color='#95A3C3', edgecolor='white', linewidth=1)\n",
    "\n",
    "\n",
    "plt.ylabel('Accuracy', fontsize=10, fontweight=\"bold\")\n",
    "plt.xticks(x, datasets, fontsize=10, rotation=45) \n",
    "plt.ylim(0.6, 1.0)  \n",
    "\n",
    "ax = plt.gca()\n",
    "ax.spines['top'].set_visible(False) \n",
    "ax.spines['right'].set_visible(False)  \n",
    "\n",
    "plt.legend(loc='upper center', bbox_to_anchor=(0.5, -0.25), fontsize=10, ncol=3, frameon=False)\n",
    "\n",
    "def add_value_labels(ax):\n",
    "    for bar in ax.patches:\n",
    "        height = bar.get_height()\n",
    "        ax.annotate(f'{height:.3f}',  \n",
    "                    xy=(bar.get_x() + bar.get_width() / 2, height), \n",
    "                    xytext=(0, 3),  \n",
    "                    textcoords=\"offset points\",\n",
    "                    ha='center', va='bottom', fontsize=8,  \n",
    "                    rotation=90)  \n",
    "\n",
    "add_value_labels(ax)\n",
    "\n",
    "plt.tight_layout()\n",
    "\n",
    "plt.savefig('../Figures/version-1229/Figure_3B.png', format='png', dpi=1200, bbox_inches='tight')\n",
    "plt.savefig('../Figures/version-1229/Figure_3B.svg', format='svg', dpi=1200, bbox_inches='tight')\n",
    "\n",
    "plt.show()"
   ]
  }
 ],
 "metadata": {
  "kernelspec": {
   "display_name": "p38tor112",
   "language": "python",
   "name": "python3"
  },
  "language_info": {
   "codemirror_mode": {
    "name": "ipython",
    "version": 3
   },
   "file_extension": ".py",
   "mimetype": "text/x-python",
   "name": "python",
   "nbconvert_exporter": "python",
   "pygments_lexer": "ipython3",
   "version": "3.8.18"
  }
 },
 "nbformat": 4,
 "nbformat_minor": 2
}
