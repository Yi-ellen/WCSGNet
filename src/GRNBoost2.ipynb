{
 "cells": [
  {
   "cell_type": "markdown",
   "metadata": {},
   "source": [
    "#### grnboost2 construction for all datasets "
   ]
  },
  {
   "cell_type": "code",
   "execution_count": null,
   "metadata": {},
   "outputs": [],
   "source": [
    "import numpy as np\n",
    "import pandas as pd\n",
    "\n",
    "def get_logExpr3(expr_npz):\n",
    "    data = np.load(expr_npz, allow_pickle=True)\n",
    "    countExpr = data['count']  # count: row-cell, column-gene\n",
    "    print(\"raw (cells, genes): \", countExpr.shape)\n",
    "\n",
    "    row_sums = countExpr.sum(axis=1, keepdims=True)\n",
    "    normalized_data = 1e6 * countExpr / row_sums\n",
    "    normalized_data = normalized_data.astype(np.float32)\n",
    "\n",
    "    logExpr0 = np.log1p(normalized_data)  \n",
    "    logExpr1 = np.log1p(normalized_data + 1e-5) \n",
    "    return logExpr0, logExpr1"
   ]
  },
  {
   "cell_type": "code",
   "execution_count": null,
   "metadata": {},
   "outputs": [],
   "source": [
    "# get hvgs and split\n",
    "import os\n",
    "import numpy as np\n",
    "from arboreto.algo import grnboost2\n",
    "\n",
    "scRNA_datasets = ['Muraro', 'Baron_Mouse', 'Segerstolpe', 'Baron_Human', 'Zhang_T', 'Kang_ctrl', 'AMB', 'TM', 'Zheng68K']\n",
    "pathjoin = os.path.join\n",
    "\n",
    "for base_filename in scRNA_datasets:\n",
    "    print(base_filename)\n",
    "    seq_dict = np.load(f'dataset/5fold_data/{base_filename}/seq_dict.npz', allow_pickle=True) \n",
    "    gene_symbol = seq_dict['gene_symbol']\n",
    "    print(gene_symbol)\n",
    "\n",
    "    seq_folder = f\"dataset/5fold_data/{base_filename}\"\n",
    "    all_filtered_genes_file = pathjoin(seq_folder, f'{base_filename}_filtered_hvgs2000.npy')\n",
    "    all_filtered_genes_array = np.load(all_filtered_genes_file, allow_pickle=True)\n",
    "    filtered_genes_index = all_filtered_genes_array[0].astype(int)\n",
    "\n",
    "    expr_npz = f\"../../data/pre_data/scRNAseq_datasets4/{base_filename}.npz\"\n",
    "    logExpr0, _ = get_logExpr3(expr_npz) \n",
    "\n",
    "    for k in range(5):\n",
    "        k_fold = k + 1\n",
    "        print(\"train k_fold: \", k_fold)\n",
    "        train_index = seq_dict[f'train_index_{k_fold}'] \n",
    "        filtered_genes_index = all_filtered_genes_array[k]\n",
    "        filtered_genes_index = filtered_genes_index.astype(int)\n",
    "        logExpr0_train = logExpr0[np.ix_(train_index, filtered_genes_index)] \n",
    "\n",
    "        gene_names = gene_symbol[filtered_genes_index].tolist()\n",
    "        # print(gene_names)\n",
    "        network = grnboost2(expression_data=logExpr0_train,\n",
    "                            gene_names=gene_names)\n",
    "        \n",
    "        network.head()   \n",
    "        os.makedirs(f'dataset/5fold_data/{base_filename}/grnboost2', exist_ok=True)\n",
    "        network.to_csv(f'dataset/5fold_data/{base_filename}/grnboost2/grnboost2_f{k_fold}.tsv', sep='\\t', header=False, index=False)\n",
    "        print(len(network))\n",
    "        print(f\"grnboost2_f{k_fold}.tsv is saved!\")"
   ]
  }
 ],
 "metadata": {
  "kernelspec": {
   "display_name": "p38tor112",
   "language": "python",
   "name": "python3"
  },
  "language_info": {
   "codemirror_mode": {
    "name": "ipython",
    "version": 3
   },
   "file_extension": ".py",
   "mimetype": "text/x-python",
   "name": "python",
   "nbconvert_exporter": "python",
   "pygments_lexer": "ipython3",
   "version": "3.8.18"
  }
 },
 "nbformat": 4,
 "nbformat_minor": 2
}
